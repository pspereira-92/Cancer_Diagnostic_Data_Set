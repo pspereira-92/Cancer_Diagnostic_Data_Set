{
  "nbformat": 4,
  "nbformat_minor": 0,
  "metadata": {
    "colab": {
      "provenance": [],
      "collapsed_sections": [
        "M_0Sl3QrT5tc",
        "ZutUZ4buUZiK",
        "JoI7cMBILfyZ",
        "iJFTKsmhMHR0",
        "cpqB_YhdWje1",
        "dZA9ZT7ndjRi",
        "inzgEk4fepjD",
        "Ji2qm6ECguc5",
        "mEL0qihY_0aC",
        "MdGYtOOmD2O6",
        "OEja4XPhKHx4",
        "uHNIVBK5N3JU",
        "063rJB6Wfl3p",
        "P8KKKVRusAKm",
        "fP-UQvi1wPVv"
      ],
      "include_colab_link": true
    },
    "kernelspec": {
      "name": "python3",
      "display_name": "Python 3"
    },
    "language_info": {
      "name": "python"
    },
    "widgets": {
      "application/vnd.jupyter.widget-state+json": {
        "4edc2f8d8da148b28661c10671e8f25e": {
          "model_module": "catboost-widget",
          "model_name": "CatboostWidgetModel",
          "model_module_version": "^1.0.0",
          "state": {
            "_dom_classes": [],
            "_model_module": "catboost-widget",
            "_model_module_version": "^1.0.0",
            "_model_name": "CatboostWidgetModel",
            "_view_count": null,
            "_view_module": "catboost-widget",
            "_view_module_version": "^1.0.0",
            "_view_name": "CatboostWidgetView",
            "data": {
              "catboost_info": {
                "path": "catboost_info",
                "name": "catboost_info",
                "content": {
                  "passed_iterations": 149,
                  "total_iterations": 150,
                  "data": {
                    "iterations": [
                      {
                        "learn": [
                          0.9170854271,
                          0.6294711275
                        ],
                        "iteration": 0,
                        "passed_time": 0.0005344275369,
                        "remaining_time": 0.079629703,
                        "test": [
                          0.9064327485,
                          0.6316781327
                        ]
                      },
                      {
                        "learn": [
                          0.9195979899,
                          0.5732677386
                        ],
                        "iteration": 1,
                        "passed_time": 0.001933308257,
                        "remaining_time": 0.143064811,
                        "test": [
                          0.9064327485,
                          0.5791963953
                        ]
                      },
                      {
                        "learn": [
                          0.9271356784,
                          0.5341691154
                        ],
                        "iteration": 2,
                        "passed_time": 0.003481812798,
                        "remaining_time": 0.1706088271,
                        "test": [
                          0.918128655,
                          0.5474468612
                        ]
                      },
                      {
                        "learn": [
                          0.9271356784,
                          0.4931113261
                        ],
                        "iteration": 3,
                        "passed_time": 0.004369622431,
                        "remaining_time": 0.1594912187,
                        "test": [
                          0.918128655,
                          0.5110001635
                        ]
                      },
                      {
                        "learn": [
                          0.9271356784,
                          0.4586313051
                        ],
                        "iteration": 4,
                        "passed_time": 0.005687123291,
                        "remaining_time": 0.1649265755,
                        "test": [
                          0.918128655,
                          0.4770564994
                        ]
                      },
                      {
                        "learn": [
                          0.9246231156,
                          0.4272317
                        ],
                        "iteration": 5,
                        "passed_time": 0.006755473838,
                        "remaining_time": 0.1621313721,
                        "test": [
                          0.9122807018,
                          0.4479429898
                        ]
                      },
                      {
                        "learn": [
                          0.9246231156,
                          0.4030914367
                        ],
                        "iteration": 6,
                        "passed_time": 0.007769258124,
                        "remaining_time": 0.1587148445,
                        "test": [
                          0.9122807018,
                          0.4238283794
                        ]
                      },
                      {
                        "learn": [
                          0.9271356784,
                          0.3788267412
                        ],
                        "iteration": 7,
                        "passed_time": 0.008916864969,
                        "remaining_time": 0.1582743532,
                        "test": [
                          0.918128655,
                          0.4027021097
                        ]
                      },
                      {
                        "learn": [
                          0.9296482412,
                          0.3559569224
                        ],
                        "iteration": 8,
                        "passed_time": 0.0100417508,
                        "remaining_time": 0.1573207625,
                        "test": [
                          0.918128655,
                          0.3822606882
                        ]
                      },
                      {
                        "learn": [
                          0.9296482412,
                          0.3405234526
                        ],
                        "iteration": 9,
                        "passed_time": 0.01108452588,
                        "remaining_time": 0.1551833623,
                        "test": [
                          0.918128655,
                          0.3699175275
                        ]
                      },
                      {
                        "learn": [
                          0.9271356784,
                          0.3235927736
                        ],
                        "iteration": 10,
                        "passed_time": 0.01225991538,
                        "remaining_time": 0.1549207489,
                        "test": [
                          0.9122807018,
                          0.3535299243
                        ]
                      },
                      {
                        "learn": [
                          0.9221105528,
                          0.3079328115
                        ],
                        "iteration": 11,
                        "passed_time": 0.01334115184,
                        "remaining_time": 0.1534232461,
                        "test": [
                          0.918128655,
                          0.3403459723
                        ]
                      },
                      {
                        "learn": [
                          0.9396984925,
                          0.2939534398
                        ],
                        "iteration": 12,
                        "passed_time": 0.01452637736,
                        "remaining_time": 0.1530856691,
                        "test": [
                          0.9122807018,
                          0.3283703301
                        ]
                      },
                      {
                        "learn": [
                          0.9271356784,
                          0.2820512355
                        ],
                        "iteration": 13,
                        "passed_time": 0.0156166635,
                        "remaining_time": 0.1517047311,
                        "test": [
                          0.918128655,
                          0.318601035
                        ]
                      },
                      {
                        "learn": [
                          0.9371859296,
                          0.2717313102
                        ],
                        "iteration": 14,
                        "passed_time": 0.01666265119,
                        "remaining_time": 0.1499638607,
                        "test": [
                          0.918128655,
                          0.3109317504
                        ]
                      },
                      {
                        "learn": [
                          0.9296482412,
                          0.2637381138
                        ],
                        "iteration": 15,
                        "passed_time": 0.01785042026,
                        "remaining_time": 0.1494972697,
                        "test": [
                          0.9239766082,
                          0.3035933857
                        ]
                      },
                      {
                        "learn": [
                          0.9396984925,
                          0.2533265566
                        ],
                        "iteration": 16,
                        "passed_time": 0.01894714526,
                        "remaining_time": 0.1482335482,
                        "test": [
                          0.9064327485,
                          0.2957538313
                        ]
                      },
                      {
                        "learn": [
                          0.932160804,
                          0.2458037376
                        ],
                        "iteration": 17,
                        "passed_time": 0.02018722339,
                        "remaining_time": 0.1480396382,
                        "test": [
                          0.9239766082,
                          0.2884420983
                        ]
                      },
                      {
                        "learn": [
                          0.9346733668,
                          0.2376767666
                        ],
                        "iteration": 18,
                        "passed_time": 0.02238220425,
                        "remaining_time": 0.1543194083,
                        "test": [
                          0.9239766082,
                          0.2824657118
                        ]
                      },
                      {
                        "learn": [
                          0.9346733668,
                          0.2308735943
                        ],
                        "iteration": 19,
                        "passed_time": 0.02311924738,
                        "remaining_time": 0.150275108,
                        "test": [
                          0.918128655,
                          0.2771156176
                        ]
                      },
                      {
                        "learn": [
                          0.9346733668,
                          0.2240313324
                        ],
                        "iteration": 20,
                        "passed_time": 0.02453813739,
                        "remaining_time": 0.1507342726,
                        "test": [
                          0.9239766082,
                          0.2704290767
                        ]
                      },
                      {
                        "learn": [
                          0.9422110553,
                          0.2177953898
                        ],
                        "iteration": 21,
                        "passed_time": 0.02568846505,
                        "remaining_time": 0.1494601603,
                        "test": [
                          0.9122807018,
                          0.2644767828
                        ]
                      },
                      {
                        "learn": [
                          0.9422110553,
                          0.211635074
                        ],
                        "iteration": 22,
                        "passed_time": 0.02674104252,
                        "remaining_time": 0.1476570609,
                        "test": [
                          0.9122807018,
                          0.2602166333
                        ]
                      },
                      {
                        "learn": [
                          0.9522613065,
                          0.2067956926
                        ],
                        "iteration": 23,
                        "passed_time": 0.02796901199,
                        "remaining_time": 0.1468373129,
                        "test": [
                          0.9122807018,
                          0.2576186788
                        ]
                      },
                      {
                        "learn": [
                          0.9497487437,
                          0.2021816545
                        ],
                        "iteration": 24,
                        "passed_time": 0.02913683539,
                        "remaining_time": 0.145684177,
                        "test": [
                          0.9064327485,
                          0.2551598477
                        ]
                      },
                      {
                        "learn": [
                          0.9497487437,
                          0.198149291
                        ],
                        "iteration": 25,
                        "passed_time": 0.03029783176,
                        "remaining_time": 0.1444973515,
                        "test": [
                          0.9064327485,
                          0.2527785045
                        ]
                      },
                      {
                        "learn": [
                          0.9522613065,
                          0.1937050676
                        ],
                        "iteration": 26,
                        "passed_time": 0.03140597545,
                        "remaining_time": 0.143071666,
                        "test": [
                          0.9064327485,
                          0.2485546919
                        ]
                      },
                      {
                        "learn": [
                          0.9522613065,
                          0.1889585926
                        ],
                        "iteration": 27,
                        "passed_time": 0.03245856656,
                        "remaining_time": 0.1414266114,
                        "test": [
                          0.9005847953,
                          0.2442292313
                        ]
                      },
                      {
                        "learn": [
                          0.9547738693,
                          0.1843017479
                        ],
                        "iteration": 28,
                        "passed_time": 0.03367574913,
                        "remaining_time": 0.1405091602,
                        "test": [
                          0.9005847953,
                          0.2407118623
                        ]
                      },
                      {
                        "learn": [
                          0.9572864322,
                          0.1805631969
                        ],
                        "iteration": 29,
                        "passed_time": 0.0348261877,
                        "remaining_time": 0.1393047508,
                        "test": [
                          0.8947368421,
                          0.2388754976
                        ]
                      },
                      {
                        "learn": [
                          0.9572864322,
                          0.1773195747
                        ],
                        "iteration": 30,
                        "passed_time": 0.03596460577,
                        "remaining_time": 0.1380576802,
                        "test": [
                          0.8947368421,
                          0.2360993912
                        ]
                      },
                      {
                        "learn": [
                          0.9572864322,
                          0.1754973198
                        ],
                        "iteration": 31,
                        "passed_time": 0.03699664578,
                        "remaining_time": 0.1364251313,
                        "test": [
                          0.8947368421,
                          0.2358718431
                        ]
                      },
                      {
                        "learn": [
                          0.9572864322,
                          0.1721191291
                        ],
                        "iteration": 32,
                        "passed_time": 0.03818784745,
                        "remaining_time": 0.1353932773,
                        "test": [
                          0.8947368421,
                          0.2329104626
                        ]
                      },
                      {
                        "learn": [
                          0.9572864322,
                          0.1694444588
                        ],
                        "iteration": 33,
                        "passed_time": 0.03935995798,
                        "remaining_time": 0.1342869155,
                        "test": [
                          0.9005847953,
                          0.2304817547
                        ]
                      },
                      {
                        "learn": [
                          0.9572864322,
                          0.1666059342
                        ],
                        "iteration": 34,
                        "passed_time": 0.04049268535,
                        "remaining_time": 0.1330473947,
                        "test": [
                          0.9005847953,
                          0.2282573804
                        ]
                      },
                      {
                        "learn": [
                          0.9572864322,
                          0.1640677168
                        ],
                        "iteration": 35,
                        "passed_time": 0.04159024578,
                        "remaining_time": 0.131702445,
                        "test": [
                          0.9005847953,
                          0.2260635855
                        ]
                      },
                      {
                        "learn": [
                          0.9572864322,
                          0.16259481
                        ],
                        "iteration": 36,
                        "passed_time": 0.04268219822,
                        "remaining_time": 0.1303537405,
                        "test": [
                          0.9005847953,
                          0.225137098
                        ]
                      },
                      {
                        "learn": [
                          0.959798995,
                          0.1597885695
                        ],
                        "iteration": 37,
                        "passed_time": 0.04393565224,
                        "remaining_time": 0.129494554,
                        "test": [
                          0.9005847953,
                          0.2216498357
                        ]
                      },
                      {
                        "learn": [
                          0.959798995,
                          0.1579365522
                        ],
                        "iteration": 38,
                        "passed_time": 0.04515331571,
                        "remaining_time": 0.1285132832,
                        "test": [
                          0.9005847953,
                          0.2203597145
                        ]
                      },
                      {
                        "learn": [
                          0.9623115578,
                          0.1555064192
                        ],
                        "iteration": 39,
                        "passed_time": 0.04632277088,
                        "remaining_time": 0.1273876199,
                        "test": [
                          0.9005847953,
                          0.2187996428
                        ]
                      },
                      {
                        "learn": [
                          0.9623115578,
                          0.1535754308
                        ],
                        "iteration": 40,
                        "passed_time": 0.04741656689,
                        "remaining_time": 0.1260586778,
                        "test": [
                          0.9064327485,
                          0.2168791063
                        ]
                      },
                      {
                        "learn": [
                          0.9623115578,
                          0.1523760229
                        ],
                        "iteration": 41,
                        "passed_time": 0.04857536971,
                        "remaining_time": 0.1249080935,
                        "test": [
                          0.9005847953,
                          0.214820015
                        ]
                      },
                      {
                        "learn": [
                          0.9623115578,
                          0.1504431087
                        ],
                        "iteration": 42,
                        "passed_time": 0.0496858524,
                        "remaining_time": 0.1236368885,
                        "test": [
                          0.9064327485,
                          0.2127052659
                        ]
                      },
                      {
                        "learn": [
                          0.959798995,
                          0.1490323604
                        ],
                        "iteration": 43,
                        "passed_time": 0.05076141451,
                        "remaining_time": 0.1222888622,
                        "test": [
                          0.9005847953,
                          0.2121904688
                        ]
                      },
                      {
                        "learn": [
                          0.959798995,
                          0.1468536717
                        ],
                        "iteration": 44,
                        "passed_time": 0.0523500131,
                        "remaining_time": 0.1221500306,
                        "test": [
                          0.9064327485,
                          0.2101813548
                        ]
                      },
                      {
                        "learn": [
                          0.9572864322,
                          0.1445833731
                        ],
                        "iteration": 45,
                        "passed_time": 0.05314724319,
                        "remaining_time": 0.1201589846,
                        "test": [
                          0.8947368421,
                          0.208235445
                        ]
                      },
                      {
                        "learn": [
                          0.959798995,
                          0.1433220431
                        ],
                        "iteration": 46,
                        "passed_time": 0.05435559699,
                        "remaining_time": 0.1191197126,
                        "test": [
                          0.9005847953,
                          0.2081411233
                        ]
                      },
                      {
                        "learn": [
                          0.959798995,
                          0.1410464124
                        ],
                        "iteration": 47,
                        "passed_time": 0.05556047,
                        "remaining_time": 0.1180659987,
                        "test": [
                          0.9005847953,
                          0.2065617884
                        ]
                      },
                      {
                        "learn": [
                          0.959798995,
                          0.1396344635
                        ],
                        "iteration": 48,
                        "passed_time": 0.0567125376,
                        "remaining_time": 0.1168972714,
                        "test": [
                          0.9005847953,
                          0.2047812546
                        ]
                      },
                      {
                        "learn": [
                          0.959798995,
                          0.1383805575
                        ],
                        "iteration": 49,
                        "passed_time": 0.0578290119,
                        "remaining_time": 0.1156580238,
                        "test": [
                          0.9005847953,
                          0.2045051941
                        ]
                      },
                      {
                        "learn": [
                          0.959798995,
                          0.1377512659
                        ],
                        "iteration": 50,
                        "passed_time": 0.05899357451,
                        "remaining_time": 0.1145169388,
                        "test": [
                          0.9064327485,
                          0.2045303939
                        ]
                      },
                      {
                        "learn": [
                          0.959798995,
                          0.1366553447
                        ],
                        "iteration": 51,
                        "passed_time": 0.06013238258,
                        "remaining_time": 0.1133264133,
                        "test": [
                          0.9064327485,
                          0.2031160963
                        ]
                      },
                      {
                        "learn": [
                          0.959798995,
                          0.1353766528
                        ],
                        "iteration": 52,
                        "passed_time": 0.06122144876,
                        "remaining_time": 0.1120468024,
                        "test": [
                          0.9064327485,
                          0.2024972981
                        ]
                      },
                      {
                        "learn": [
                          0.959798995,
                          0.1343110976
                        ],
                        "iteration": 53,
                        "passed_time": 0.06254752386,
                        "remaining_time": 0.111195598,
                        "test": [
                          0.9064327485,
                          0.2017700501
                        ]
                      },
                      {
                        "learn": [
                          0.959798995,
                          0.1324639287
                        ],
                        "iteration": 54,
                        "passed_time": 0.06369775879,
                        "remaining_time": 0.1100234016,
                        "test": [
                          0.9064327485,
                          0.201196586
                        ]
                      },
                      {
                        "learn": [
                          0.9572864322,
                          0.1310077069
                        ],
                        "iteration": 55,
                        "passed_time": 0.06443429194,
                        "remaining_time": 0.1081575615,
                        "test": [
                          0.9064327485,
                          0.1998176563
                        ]
                      },
                      {
                        "learn": [
                          0.959798995,
                          0.1299731587
                        ],
                        "iteration": 56,
                        "passed_time": 0.06583484078,
                        "remaining_time": 0.1074147402,
                        "test": [
                          0.9064327485,
                          0.1988228373
                        ]
                      },
                      {
                        "learn": [
                          0.959798995,
                          0.1283912097
                        ],
                        "iteration": 57,
                        "passed_time": 0.06672077048,
                        "remaining_time": 0.1058329463,
                        "test": [
                          0.9064327485,
                          0.1970309012
                        ]
                      },
                      {
                        "learn": [
                          0.959798995,
                          0.1273162584
                        ],
                        "iteration": 58,
                        "passed_time": 0.06768901546,
                        "remaining_time": 0.1044017018,
                        "test": [
                          0.9064327485,
                          0.1960079358
                        ]
                      },
                      {
                        "learn": [
                          0.959798995,
                          0.1262982768
                        ],
                        "iteration": 59,
                        "passed_time": 0.06883000163,
                        "remaining_time": 0.1032450025,
                        "test": [
                          0.9064327485,
                          0.1946164111
                        ]
                      },
                      {
                        "learn": [
                          0.959798995,
                          0.1252400655
                        ],
                        "iteration": 60,
                        "passed_time": 0.06998430279,
                        "remaining_time": 0.1021082451,
                        "test": [
                          0.9064327485,
                          0.1938219469
                        ]
                      },
                      {
                        "learn": [
                          0.959798995,
                          0.1241642133
                        ],
                        "iteration": 61,
                        "passed_time": 0.0711174456,
                        "remaining_time": 0.1009408905,
                        "test": [
                          0.9122807018,
                          0.1921238963
                        ]
                      },
                      {
                        "learn": [
                          0.959798995,
                          0.1232937432
                        ],
                        "iteration": 62,
                        "passed_time": 0.07222304392,
                        "remaining_time": 0.09973658446,
                        "test": [
                          0.9064327485,
                          0.1919026293
                        ]
                      },
                      {
                        "learn": [
                          0.959798995,
                          0.1221775989
                        ],
                        "iteration": 63,
                        "passed_time": 0.07339149731,
                        "remaining_time": 0.0986198245,
                        "test": [
                          0.9064327485,
                          0.1916341642
                        ]
                      },
                      {
                        "learn": [
                          0.959798995,
                          0.120982066
                        ],
                        "iteration": 64,
                        "passed_time": 0.0744472992,
                        "remaining_time": 0.0973541605,
                        "test": [
                          0.9064327485,
                          0.1907091109
                        ]
                      },
                      {
                        "learn": [
                          0.959798995,
                          0.1200632563
                        ],
                        "iteration": 65,
                        "passed_time": 0.0756255586,
                        "remaining_time": 0.09625071095,
                        "test": [
                          0.9064327485,
                          0.1906757157
                        ]
                      },
                      {
                        "learn": [
                          0.959798995,
                          0.1187751514
                        ],
                        "iteration": 66,
                        "passed_time": 0.07683465692,
                        "remaining_time": 0.09518323171,
                        "test": [
                          0.9064327485,
                          0.1890765488
                        ]
                      },
                      {
                        "learn": [
                          0.959798995,
                          0.1179089734
                        ],
                        "iteration": 67,
                        "passed_time": 0.07798304737,
                        "remaining_time": 0.09403838066,
                        "test": [
                          0.9064327485,
                          0.1880284791
                        ]
                      },
                      {
                        "learn": [
                          0.959798995,
                          0.1169124226
                        ],
                        "iteration": 68,
                        "passed_time": 0.07909775083,
                        "remaining_time": 0.09285388141,
                        "test": [
                          0.9064327485,
                          0.1871915288
                        ]
                      },
                      {
                        "learn": [
                          0.959798995,
                          0.1161112333
                        ],
                        "iteration": 69,
                        "passed_time": 0.0801962785,
                        "remaining_time": 0.09165288971,
                        "test": [
                          0.9122807018,
                          0.1873518045
                        ]
                      },
                      {
                        "learn": [
                          0.959798995,
                          0.1152291553
                        ],
                        "iteration": 70,
                        "passed_time": 0.08142120353,
                        "remaining_time": 0.09059542364,
                        "test": [
                          0.918128655,
                          0.1871507174
                        ]
                      },
                      {
                        "learn": [
                          0.959798995,
                          0.1144038742
                        ],
                        "iteration": 71,
                        "passed_time": 0.08258504435,
                        "remaining_time": 0.08946713138,
                        "test": [
                          0.9122807018,
                          0.1869194587
                        ]
                      },
                      {
                        "learn": [
                          0.959798995,
                          0.1139436696
                        ],
                        "iteration": 72,
                        "passed_time": 0.08371632813,
                        "remaining_time": 0.08830352419,
                        "test": [
                          0.9122807018,
                          0.1867871236
                        ]
                      },
                      {
                        "learn": [
                          0.959798995,
                          0.1130850715
                        ],
                        "iteration": 73,
                        "passed_time": 0.08476276763,
                        "remaining_time": 0.08705365324,
                        "test": [
                          0.918128655,
                          0.1866421594
                        ]
                      },
                      {
                        "learn": [
                          0.959798995,
                          0.1125364682
                        ],
                        "iteration": 74,
                        "passed_time": 0.08593433363,
                        "remaining_time": 0.08593433363,
                        "test": [
                          0.9122807018,
                          0.1862177626
                        ]
                      },
                      {
                        "learn": [
                          0.959798995,
                          0.1121674182
                        ],
                        "iteration": 75,
                        "passed_time": 0.0871438483,
                        "remaining_time": 0.08485058913,
                        "test": [
                          0.9122807018,
                          0.1857534235
                        ]
                      },
                      {
                        "learn": [
                          0.959798995,
                          0.1114712755
                        ],
                        "iteration": 76,
                        "passed_time": 0.08826403338,
                        "remaining_time": 0.08367888879,
                        "test": [
                          0.918128655,
                          0.1855121366
                        ]
                      },
                      {
                        "learn": [
                          0.9623115578,
                          0.1109746892
                        ],
                        "iteration": 77,
                        "passed_time": 0.08928065211,
                        "remaining_time": 0.08241290964,
                        "test": [
                          0.918128655,
                          0.1850025663
                        ]
                      },
                      {
                        "learn": [
                          0.959798995,
                          0.1105032303
                        ],
                        "iteration": 78,
                        "passed_time": 0.09042537724,
                        "remaining_time": 0.08126837701,
                        "test": [
                          0.918128655,
                          0.1843004961
                        ]
                      },
                      {
                        "learn": [
                          0.9648241206,
                          0.1095220131
                        ],
                        "iteration": 79,
                        "passed_time": 0.09145469916,
                        "remaining_time": 0.08002286177,
                        "test": [
                          0.918128655,
                          0.183601538
                        ]
                      },
                      {
                        "learn": [
                          0.9648241206,
                          0.1085788308
                        ],
                        "iteration": 80,
                        "passed_time": 0.09260718583,
                        "remaining_time": 0.07888760275,
                        "test": [
                          0.918128655,
                          0.1826616429
                        ]
                      },
                      {
                        "learn": [
                          0.9648241206,
                          0.1079710967
                        ],
                        "iteration": 81,
                        "passed_time": 0.09369463662,
                        "remaining_time": 0.07769799134,
                        "test": [
                          0.918128655,
                          0.1825640569
                        ]
                      },
                      {
                        "learn": [
                          0.9648241206,
                          0.1079055699
                        ],
                        "iteration": 82,
                        "passed_time": 0.09479899862,
                        "remaining_time": 0.07652449286,
                        "test": [
                          0.9122807018,
                          0.1825444095
                        ]
                      },
                      {
                        "learn": [
                          0.9623115578,
                          0.1072253737
                        ],
                        "iteration": 83,
                        "passed_time": 0.09587815788,
                        "remaining_time": 0.07533283833,
                        "test": [
                          0.918128655,
                          0.1821534258
                        ]
                      },
                      {
                        "learn": [
                          0.9623115578,
                          0.106330751
                        ],
                        "iteration": 84,
                        "passed_time": 0.09709791036,
                        "remaining_time": 0.07425134322,
                        "test": [
                          0.918128655,
                          0.1811785778
                        ]
                      },
                      {
                        "learn": [
                          0.9623115578,
                          0.1055449252
                        ],
                        "iteration": 85,
                        "passed_time": 0.09827224354,
                        "remaining_time": 0.0731328324,
                        "test": [
                          0.9122807018,
                          0.1802675227
                        ]
                      },
                      {
                        "learn": [
                          0.9623115578,
                          0.1050578517
                        ],
                        "iteration": 86,
                        "passed_time": 0.09936994305,
                        "remaining_time": 0.07195754497,
                        "test": [
                          0.9122807018,
                          0.1799576456
                        ]
                      },
                      {
                        "learn": [
                          0.9623115578,
                          0.1043609184
                        ],
                        "iteration": 87,
                        "passed_time": 0.1004377963,
                        "remaining_time": 0.07076299288,
                        "test": [
                          0.9122807018,
                          0.1791602648
                        ]
                      },
                      {
                        "learn": [
                          0.9623115578,
                          0.1039114656
                        ],
                        "iteration": 88,
                        "passed_time": 0.1013208998,
                        "remaining_time": 0.06944466165,
                        "test": [
                          0.9122807018,
                          0.1788148639
                        ]
                      },
                      {
                        "learn": [
                          0.9648241206,
                          0.1030995574
                        ],
                        "iteration": 89,
                        "passed_time": 0.1020784458,
                        "remaining_time": 0.06805229721,
                        "test": [
                          0.9122807018,
                          0.17792466
                        ]
                      },
                      {
                        "learn": [
                          0.9623115578,
                          0.1023177483
                        ],
                        "iteration": 90,
                        "passed_time": 0.1028495668,
                        "remaining_time": 0.06668268619,
                        "test": [
                          0.918128655,
                          0.1768448714
                        ]
                      },
                      {
                        "learn": [
                          0.9648241206,
                          0.1019251382
                        ],
                        "iteration": 91,
                        "passed_time": 0.1036140817,
                        "remaining_time": 0.06532192109,
                        "test": [
                          0.918128655,
                          0.1766403218
                        ]
                      },
                      {
                        "learn": [
                          0.9648241206,
                          0.1013236696
                        ],
                        "iteration": 92,
                        "passed_time": 0.104151081,
                        "remaining_time": 0.06383453351,
                        "test": [
                          0.9239766082,
                          0.17593916
                        ]
                      },
                      {
                        "learn": [
                          0.9648241206,
                          0.1012534861
                        ],
                        "iteration": 93,
                        "passed_time": 0.1046105548,
                        "remaining_time": 0.06232118158,
                        "test": [
                          0.9239766082,
                          0.1759703323
                        ]
                      },
                      {
                        "learn": [
                          0.9648241206,
                          0.100502289
                        ],
                        "iteration": 94,
                        "passed_time": 0.1050906015,
                        "remaining_time": 0.0608419272,
                        "test": [
                          0.9239766082,
                          0.1751468954
                        ]
                      },
                      {
                        "learn": [
                          0.9648241206,
                          0.09978840657
                        ],
                        "iteration": 95,
                        "passed_time": 0.1055490963,
                        "remaining_time": 0.05937136666,
                        "test": [
                          0.9298245614,
                          0.1743785733
                        ]
                      },
                      {
                        "learn": [
                          0.9673366834,
                          0.09910291567
                        ],
                        "iteration": 96,
                        "passed_time": 0.1060013004,
                        "remaining_time": 0.05791823627,
                        "test": [
                          0.9239766082,
                          0.1742137122
                        ]
                      },
                      {
                        "learn": [
                          0.9648241206,
                          0.0987090034
                        ],
                        "iteration": 97,
                        "passed_time": 0.106467833,
                        "remaining_time": 0.05649313588,
                        "test": [
                          0.9239766082,
                          0.1739276581
                        ]
                      },
                      {
                        "learn": [
                          0.9673366834,
                          0.0980063261
                        ],
                        "iteration": 98,
                        "passed_time": 0.10691521,
                        "remaining_time": 0.05507753241,
                        "test": [
                          0.9239766082,
                          0.1734460836
                        ]
                      },
                      {
                        "learn": [
                          0.9673366834,
                          0.09795506942
                        ],
                        "iteration": 99,
                        "passed_time": 0.1073851061,
                        "remaining_time": 0.05369255307,
                        "test": [
                          0.9239766082,
                          0.1734270494
                        ]
                      },
                      {
                        "learn": [
                          0.9673366834,
                          0.09789693704
                        ],
                        "iteration": 100,
                        "passed_time": 0.1078505725,
                        "remaining_time": 0.05232354506,
                        "test": [
                          0.9239766082,
                          0.1734045842
                        ]
                      },
                      {
                        "learn": [
                          0.9698492462,
                          0.09748960981
                        ],
                        "iteration": 101,
                        "passed_time": 0.1083217732,
                        "remaining_time": 0.05097495207,
                        "test": [
                          0.9239766082,
                          0.1724639956
                        ]
                      },
                      {
                        "learn": [
                          0.9698492462,
                          0.09685081311
                        ],
                        "iteration": 102,
                        "passed_time": 0.1087743108,
                        "remaining_time": 0.04963487971,
                        "test": [
                          0.9239766082,
                          0.1717574073
                        ]
                      },
                      {
                        "learn": [
                          0.9673366834,
                          0.09634874505
                        ],
                        "iteration": 103,
                        "passed_time": 0.1092419416,
                        "remaining_time": 0.04831855111,
                        "test": [
                          0.9298245614,
                          0.1715088667
                        ]
                      },
                      {
                        "learn": [
                          0.9673366834,
                          0.0959859518
                        ],
                        "iteration": 104,
                        "passed_time": 0.1097176785,
                        "remaining_time": 0.04702186222,
                        "test": [
                          0.9298245614,
                          0.171244095
                        ]
                      },
                      {
                        "learn": [
                          0.9673366834,
                          0.09593838384
                        ],
                        "iteration": 105,
                        "passed_time": 0.1101656309,
                        "remaining_time": 0.04572912982,
                        "test": [
                          0.9298245614,
                          0.1712270892
                        ]
                      },
                      {
                        "learn": [
                          0.9673366834,
                          0.0958922218
                        ],
                        "iteration": 106,
                        "passed_time": 0.1106309909,
                        "remaining_time": 0.04445918326,
                        "test": [
                          0.9298245614,
                          0.1712108204
                        ]
                      },
                      {
                        "learn": [
                          0.9673366834,
                          0.09583960499
                        ],
                        "iteration": 107,
                        "passed_time": 0.1110847258,
                        "remaining_time": 0.0431996156,
                        "test": [
                          0.9298245614,
                          0.1711911922
                        ]
                      },
                      {
                        "learn": [
                          0.9673366834,
                          0.09579600434
                        ],
                        "iteration": 108,
                        "passed_time": 0.1115393134,
                        "remaining_time": 0.0419551546,
                        "test": [
                          0.9298245614,
                          0.1711764762
                        ]
                      },
                      {
                        "learn": [
                          0.9698492462,
                          0.094785741
                        ],
                        "iteration": 109,
                        "passed_time": 0.1119865104,
                        "remaining_time": 0.04072236742,
                        "test": [
                          0.9298245614,
                          0.1708690171
                        ]
                      },
                      {
                        "learn": [
                          0.9673366834,
                          0.09443887998
                        ],
                        "iteration": 110,
                        "passed_time": 0.112447426,
                        "remaining_time": 0.03950855508,
                        "test": [
                          0.9298245614,
                          0.170608789
                        ]
                      },
                      {
                        "learn": [
                          0.9698492462,
                          0.09441279191
                        ],
                        "iteration": 111,
                        "passed_time": 0.1129046617,
                        "remaining_time": 0.03830693879,
                        "test": [
                          0.9298245614,
                          0.1706186193
                        ]
                      },
                      {
                        "learn": [
                          0.9698492462,
                          0.09436374671
                        ],
                        "iteration": 112,
                        "passed_time": 0.1133861566,
                        "remaining_time": 0.03712644064,
                        "test": [
                          0.9298245614,
                          0.1705965304
                        ]
                      },
                      {
                        "learn": [
                          0.9698492462,
                          0.09433961622
                        ],
                        "iteration": 113,
                        "passed_time": 0.1138500766,
                        "remaining_time": 0.03595265576,
                        "test": [
                          0.9298245614,
                          0.1706065218
                        ]
                      },
                      {
                        "learn": [
                          0.9698492462,
                          0.09431658963
                        ],
                        "iteration": 114,
                        "passed_time": 0.1143167956,
                        "remaining_time": 0.03479206823,
                        "test": [
                          0.9298245614,
                          0.1706164612
                        ]
                      },
                      {
                        "learn": [
                          0.9698492462,
                          0.09333587091
                        ],
                        "iteration": 115,
                        "passed_time": 0.1147818074,
                        "remaining_time": 0.03364294355,
                        "test": [
                          0.9356725146,
                          0.1697228797
                        ]
                      },
                      {
                        "learn": [
                          0.972361809,
                          0.09265964909
                        ],
                        "iteration": 116,
                        "passed_time": 0.1155418588,
                        "remaining_time": 0.03258872941,
                        "test": [
                          0.9356725146,
                          0.1692388697
                        ]
                      },
                      {
                        "learn": [
                          0.972361809,
                          0.09206446848
                        ],
                        "iteration": 117,
                        "passed_time": 0.1163073737,
                        "remaining_time": 0.03154098269,
                        "test": [
                          0.9356725146,
                          0.168599375
                        ]
                      },
                      {
                        "learn": [
                          0.972361809,
                          0.09202640571
                        ],
                        "iteration": 118,
                        "passed_time": 0.1167905512,
                        "remaining_time": 0.0304244293,
                        "test": [
                          0.9356725146,
                          0.1685824027
                        ]
                      },
                      {
                        "learn": [
                          0.972361809,
                          0.09115883863
                        ],
                        "iteration": 119,
                        "passed_time": 0.1172446488,
                        "remaining_time": 0.0293111622,
                        "test": [
                          0.9298245614,
                          0.1677959277
                        ]
                      },
                      {
                        "learn": [
                          0.972361809,
                          0.0906949466
                        ],
                        "iteration": 120,
                        "passed_time": 0.1177128851,
                        "remaining_time": 0.02821217906,
                        "test": [
                          0.9415204678,
                          0.1675935571
                        ]
                      },
                      {
                        "learn": [
                          0.972361809,
                          0.09020794618
                        ],
                        "iteration": 121,
                        "passed_time": 0.1181688344,
                        "remaining_time": 0.0271207161,
                        "test": [
                          0.9415204678,
                          0.1670298314
                        ]
                      },
                      {
                        "learn": [
                          0.972361809,
                          0.08998930627
                        ],
                        "iteration": 122,
                        "passed_time": 0.1186316309,
                        "remaining_time": 0.0260410897,
                        "test": [
                          0.9415204678,
                          0.1669335897
                        ]
                      },
                      {
                        "learn": [
                          0.972361809,
                          0.08996333701
                        ],
                        "iteration": 123,
                        "passed_time": 0.1191008471,
                        "remaining_time": 0.02497275826,
                        "test": [
                          0.9415204678,
                          0.1669400172
                        ]
                      },
                      {
                        "learn": [
                          0.9748743719,
                          0.08943089937
                        ],
                        "iteration": 124,
                        "passed_time": 0.1195544065,
                        "remaining_time": 0.02391088131,
                        "test": [
                          0.9415204678,
                          0.1663723755
                        ]
                      },
                      {
                        "learn": [
                          0.9748743719,
                          0.08940557637
                        ],
                        "iteration": 125,
                        "passed_time": 0.1200104378,
                        "remaining_time": 0.022859131,
                        "test": [
                          0.9415204678,
                          0.1663800402
                        ]
                      },
                      {
                        "learn": [
                          0.9748743719,
                          0.08938180493
                        ],
                        "iteration": 126,
                        "passed_time": 0.1204623936,
                        "remaining_time": 0.02181602405,
                        "test": [
                          0.9415204678,
                          0.1663881358
                        ]
                      },
                      {
                        "learn": [
                          0.9748743719,
                          0.08857686432
                        ],
                        "iteration": 127,
                        "passed_time": 0.1209090843,
                        "remaining_time": 0.02078124886,
                        "test": [
                          0.9415204678,
                          0.1656448637
                        ]
                      },
                      {
                        "learn": [
                          0.9748743719,
                          0.08798844275
                        ],
                        "iteration": 128,
                        "passed_time": 0.1213872547,
                        "remaining_time": 0.01976071588,
                        "test": [
                          0.9415204678,
                          0.1652490809
                        ]
                      },
                      {
                        "learn": [
                          0.9748743719,
                          0.08751075436
                        ],
                        "iteration": 129,
                        "passed_time": 0.122034891,
                        "remaining_time": 0.01877459861,
                        "test": [
                          0.9415204678,
                          0.16474163
                        ]
                      },
                      {
                        "learn": [
                          0.9748743719,
                          0.08748712758
                        ],
                        "iteration": 130,
                        "passed_time": 0.123417725,
                        "remaining_time": 0.01790028072,
                        "test": [
                          0.9415204678,
                          0.1647484882
                        ]
                      },
                      {
                        "learn": [
                          0.9748743719,
                          0.08745360495
                        ],
                        "iteration": 131,
                        "passed_time": 0.1241419458,
                        "remaining_time": 0.01692844716,
                        "test": [
                          0.9415204678,
                          0.1647353528
                        ]
                      },
                      {
                        "learn": [
                          0.9748743719,
                          0.08743207972
                        ],
                        "iteration": 132,
                        "passed_time": 0.1246061086,
                        "remaining_time": 0.01592709659,
                        "test": [
                          0.9415204678,
                          0.1647427675
                        ]
                      },
                      {
                        "learn": [
                          0.9748743719,
                          0.08708801393
                        ],
                        "iteration": 133,
                        "passed_time": 0.1250599953,
                        "remaining_time": 0.01493253675,
                        "test": [
                          0.9415204678,
                          0.1647069509
                        ]
                      },
                      {
                        "learn": [
                          0.9748743719,
                          0.08656735216
                        ],
                        "iteration": 134,
                        "passed_time": 0.1258057063,
                        "remaining_time": 0.01397841181,
                        "test": [
                          0.9415204678,
                          0.1638617793
                        ]
                      },
                      {
                        "learn": [
                          0.9748743719,
                          0.08602975856
                        ],
                        "iteration": 135,
                        "passed_time": 0.1262577613,
                        "remaining_time": 0.01299712249,
                        "test": [
                          0.9415204678,
                          0.1635174094
                        ]
                      },
                      {
                        "learn": [
                          0.9748743719,
                          0.08601092285
                        ],
                        "iteration": 136,
                        "passed_time": 0.1267184224,
                        "remaining_time": 0.01202437584,
                        "test": [
                          0.9415204678,
                          0.1635242487
                        ]
                      },
                      {
                        "learn": [
                          0.9748743719,
                          0.08570141103
                        ],
                        "iteration": 137,
                        "passed_time": 0.1271733872,
                        "remaining_time": 0.01105855541,
                        "test": [
                          0.9415204678,
                          0.1635093375
                        ]
                      },
                      {
                        "learn": [
                          0.9748743719,
                          0.08498505376
                        ],
                        "iteration": 138,
                        "passed_time": 0.1276858274,
                        "remaining_time": 0.01010463382,
                        "test": [
                          0.9415204678,
                          0.1628449205
                        ]
                      },
                      {
                        "learn": [
                          0.9748743719,
                          0.08495492788
                        ],
                        "iteration": 139,
                        "passed_time": 0.1281479547,
                        "remaining_time": 0.009153425337,
                        "test": [
                          0.9415204678,
                          0.1628320811
                        ]
                      },
                      {
                        "learn": [
                          0.9748743719,
                          0.08454284495
                        ],
                        "iteration": 140,
                        "passed_time": 0.1289108024,
                        "remaining_time": 0.008228349089,
                        "test": [
                          0.9415204678,
                          0.1623865614
                        ]
                      },
                      {
                        "learn": [
                          0.9748743719,
                          0.08406148249
                        ],
                        "iteration": 141,
                        "passed_time": 0.1296529435,
                        "remaining_time": 0.007304391184,
                        "test": [
                          0.9415204678,
                          0.1621039502
                        ]
                      },
                      {
                        "learn": [
                          0.9748743719,
                          0.08403175569
                        ],
                        "iteration": 142,
                        "passed_time": 0.1303794452,
                        "remaining_time": 0.006382210604,
                        "test": [
                          0.9415204678,
                          0.162090826
                        ]
                      },
                      {
                        "learn": [
                          0.9748743719,
                          0.0835373721
                        ],
                        "iteration": 143,
                        "passed_time": 0.1311031579,
                        "remaining_time": 0.005462631579,
                        "test": [
                          0.9473684211,
                          0.1615679992
                        ]
                      },
                      {
                        "learn": [
                          0.9748743719,
                          0.08344304149
                        ],
                        "iteration": 144,
                        "passed_time": 0.1318567404,
                        "remaining_time": 0.004546784153,
                        "test": [
                          0.9473684211,
                          0.1615779303
                        ]
                      },
                      {
                        "learn": [
                          0.9748743719,
                          0.08342354095
                        ],
                        "iteration": 145,
                        "passed_time": 0.1325967107,
                        "remaining_time": 0.003632786595,
                        "test": [
                          0.9473684211,
                          0.1615831556
                        ]
                      },
                      {
                        "learn": [
                          0.9748743719,
                          0.0830570423
                        ],
                        "iteration": 146,
                        "passed_time": 0.1333592075,
                        "remaining_time": 0.00272161648,
                        "test": [
                          0.9415204678,
                          0.1614698285
                        ]
                      },
                      {
                        "learn": [
                          0.9748743719,
                          0.08261898469
                        ],
                        "iteration": 147,
                        "passed_time": 0.1341220743,
                        "remaining_time": 0.001812460463,
                        "test": [
                          0.9415204678,
                          0.1612211973
                        ]
                      },
                      {
                        "learn": [
                          0.9748743719,
                          0.08260032579
                        ],
                        "iteration": 148,
                        "passed_time": 0.1348445343,
                        "remaining_time": 0.0009049968743,
                        "test": [
                          0.9415204678,
                          0.1612270537
                        ]
                      },
                      {
                        "learn": [
                          0.9748743719,
                          0.08258101815
                        ],
                        "iteration": 149,
                        "passed_time": 0.1359792234,
                        "remaining_time": 0,
                        "test": [
                          0.9415204678,
                          0.161232348
                        ]
                      }
                    ],
                    "meta": {
                      "test_sets": [
                        "test"
                      ],
                      "test_metrics": [
                        {
                          "best_value": "Max",
                          "name": "Accuracy"
                        },
                        {
                          "best_value": "Min",
                          "name": "Logloss"
                        }
                      ],
                      "learn_metrics": [
                        {
                          "best_value": "Max",
                          "name": "Accuracy"
                        },
                        {
                          "best_value": "Min",
                          "name": "Logloss"
                        }
                      ],
                      "launch_mode": "Train",
                      "parameters": "",
                      "iteration_count": 150,
                      "learn_sets": [
                        "learn"
                      ],
                      "name": "experiment"
                    }
                  }
                }
              }
            },
            "layout": "IPY_MODEL_5037b70ebead43ed8b4dae773ef061dc"
          }
        }
      }
    }
  },
  "cells": [
    {
      "cell_type": "markdown",
      "metadata": {
        "id": "view-in-github",
        "colab_type": "text"
      },
      "source": [
        "<a href=\"https://colab.research.google.com/github/pspereira-92/Cancer_Diagnostic_Data_Set/blob/main/projeto_cancer.ipynb\" target=\"_parent\"><img src=\"https://colab.research.google.com/assets/colab-badge.svg\" alt=\"Open In Colab\"/></a>"
      ]
    },
    {
      "cell_type": "markdown",
      "source": [
        "# Projeto sobre câncer de mama\n",
        "\n",
        "Projeto com o objetivo de criar um algoritmo capaz de prever se o diagnóstico de câncer de mama será benigno ou maligno."
      ],
      "metadata": {
        "id": "M_0Sl3QrT5tc"
      }
    },
    {
      "cell_type": "code",
      "execution_count": null,
      "metadata": {
        "id": "EDMc756GT2ZC"
      },
      "outputs": [],
      "source": [
        "import numpy as np\n",
        "import pandas as pd"
      ]
    },
    {
      "cell_type": "code",
      "source": [
        "dado=pd.read_csv('/content/drive/MyDrive/Python/Cursos/ML/Classificação/cancer.csv')"
      ],
      "metadata": {
        "id": "cKnZEVXyULOI"
      },
      "execution_count": null,
      "outputs": []
    },
    {
      "cell_type": "markdown",
      "source": [
        "# Exploração, análise e tratamento"
      ],
      "metadata": {
        "id": "ZutUZ4buUZiK"
      }
    },
    {
      "cell_type": "code",
      "source": [
        "pd.set_option('display.max_columns', None)\n",
        "dado.head()"
      ],
      "metadata": {
        "colab": {
          "base_uri": "https://localhost:8080/",
          "height": 244
        },
        "id": "wNeMHJ5TUYnP",
        "outputId": "c87fab62-cb74-4f42-f1b6-d84d16e4b9f7"
      },
      "execution_count": null,
      "outputs": [
        {
          "output_type": "execute_result",
          "data": {
            "text/plain": [
              "         id diagnosis  radius_mean  texture_mean  perimeter_mean  area_mean  \\\n",
              "0    842302         M        17.99         10.38          122.80     1001.0   \n",
              "1    842517         M        20.57         17.77          132.90     1326.0   \n",
              "2  84300903         M        19.69         21.25          130.00     1203.0   \n",
              "3  84348301         M        11.42         20.38           77.58      386.1   \n",
              "4  84358402         M        20.29         14.34          135.10     1297.0   \n",
              "\n",
              "   smoothness_mean  compactness_mean  concavity_mean  concave points_mean  \\\n",
              "0          0.11840           0.27760          0.3001              0.14710   \n",
              "1          0.08474           0.07864          0.0869              0.07017   \n",
              "2          0.10960           0.15990          0.1974              0.12790   \n",
              "3          0.14250           0.28390          0.2414              0.10520   \n",
              "4          0.10030           0.13280          0.1980              0.10430   \n",
              "\n",
              "   symmetry_mean  fractal_dimension_mean  radius_se  texture_se  perimeter_se  \\\n",
              "0         0.2419                 0.07871     1.0950      0.9053         8.589   \n",
              "1         0.1812                 0.05667     0.5435      0.7339         3.398   \n",
              "2         0.2069                 0.05999     0.7456      0.7869         4.585   \n",
              "3         0.2597                 0.09744     0.4956      1.1560         3.445   \n",
              "4         0.1809                 0.05883     0.7572      0.7813         5.438   \n",
              "\n",
              "   area_se  smoothness_se  compactness_se  concavity_se  concave points_se  \\\n",
              "0   153.40       0.006399         0.04904       0.05373            0.01587   \n",
              "1    74.08       0.005225         0.01308       0.01860            0.01340   \n",
              "2    94.03       0.006150         0.04006       0.03832            0.02058   \n",
              "3    27.23       0.009110         0.07458       0.05661            0.01867   \n",
              "4    94.44       0.011490         0.02461       0.05688            0.01885   \n",
              "\n",
              "   symmetry_se  fractal_dimension_se  radius_worst  texture_worst  \\\n",
              "0      0.03003              0.006193         25.38          17.33   \n",
              "1      0.01389              0.003532         24.99          23.41   \n",
              "2      0.02250              0.004571         23.57          25.53   \n",
              "3      0.05963              0.009208         14.91          26.50   \n",
              "4      0.01756              0.005115         22.54          16.67   \n",
              "\n",
              "   perimeter_worst  area_worst  smoothness_worst  compactness_worst  \\\n",
              "0           184.60      2019.0            0.1622             0.6656   \n",
              "1           158.80      1956.0            0.1238             0.1866   \n",
              "2           152.50      1709.0            0.1444             0.4245   \n",
              "3            98.87       567.7            0.2098             0.8663   \n",
              "4           152.20      1575.0            0.1374             0.2050   \n",
              "\n",
              "   concavity_worst  concave points_worst  symmetry_worst  \\\n",
              "0           0.7119                0.2654          0.4601   \n",
              "1           0.2416                0.1860          0.2750   \n",
              "2           0.4504                0.2430          0.3613   \n",
              "3           0.6869                0.2575          0.6638   \n",
              "4           0.4000                0.1625          0.2364   \n",
              "\n",
              "   fractal_dimension_worst  Unnamed: 32  \n",
              "0                  0.11890          NaN  \n",
              "1                  0.08902          NaN  \n",
              "2                  0.08758          NaN  \n",
              "3                  0.17300          NaN  \n",
              "4                  0.07678          NaN  "
            ],
            "text/html": [
              "\n",
              "  <div id=\"df-7eec7e95-3063-4ede-bce1-90f5ed236036\" class=\"colab-df-container\">\n",
              "    <div>\n",
              "<style scoped>\n",
              "    .dataframe tbody tr th:only-of-type {\n",
              "        vertical-align: middle;\n",
              "    }\n",
              "\n",
              "    .dataframe tbody tr th {\n",
              "        vertical-align: top;\n",
              "    }\n",
              "\n",
              "    .dataframe thead th {\n",
              "        text-align: right;\n",
              "    }\n",
              "</style>\n",
              "<table border=\"1\" class=\"dataframe\">\n",
              "  <thead>\n",
              "    <tr style=\"text-align: right;\">\n",
              "      <th></th>\n",
              "      <th>id</th>\n",
              "      <th>diagnosis</th>\n",
              "      <th>radius_mean</th>\n",
              "      <th>texture_mean</th>\n",
              "      <th>perimeter_mean</th>\n",
              "      <th>area_mean</th>\n",
              "      <th>smoothness_mean</th>\n",
              "      <th>compactness_mean</th>\n",
              "      <th>concavity_mean</th>\n",
              "      <th>concave points_mean</th>\n",
              "      <th>symmetry_mean</th>\n",
              "      <th>fractal_dimension_mean</th>\n",
              "      <th>radius_se</th>\n",
              "      <th>texture_se</th>\n",
              "      <th>perimeter_se</th>\n",
              "      <th>area_se</th>\n",
              "      <th>smoothness_se</th>\n",
              "      <th>compactness_se</th>\n",
              "      <th>concavity_se</th>\n",
              "      <th>concave points_se</th>\n",
              "      <th>symmetry_se</th>\n",
              "      <th>fractal_dimension_se</th>\n",
              "      <th>radius_worst</th>\n",
              "      <th>texture_worst</th>\n",
              "      <th>perimeter_worst</th>\n",
              "      <th>area_worst</th>\n",
              "      <th>smoothness_worst</th>\n",
              "      <th>compactness_worst</th>\n",
              "      <th>concavity_worst</th>\n",
              "      <th>concave points_worst</th>\n",
              "      <th>symmetry_worst</th>\n",
              "      <th>fractal_dimension_worst</th>\n",
              "      <th>Unnamed: 32</th>\n",
              "    </tr>\n",
              "  </thead>\n",
              "  <tbody>\n",
              "    <tr>\n",
              "      <th>0</th>\n",
              "      <td>842302</td>\n",
              "      <td>M</td>\n",
              "      <td>17.99</td>\n",
              "      <td>10.38</td>\n",
              "      <td>122.80</td>\n",
              "      <td>1001.0</td>\n",
              "      <td>0.11840</td>\n",
              "      <td>0.27760</td>\n",
              "      <td>0.3001</td>\n",
              "      <td>0.14710</td>\n",
              "      <td>0.2419</td>\n",
              "      <td>0.07871</td>\n",
              "      <td>1.0950</td>\n",
              "      <td>0.9053</td>\n",
              "      <td>8.589</td>\n",
              "      <td>153.40</td>\n",
              "      <td>0.006399</td>\n",
              "      <td>0.04904</td>\n",
              "      <td>0.05373</td>\n",
              "      <td>0.01587</td>\n",
              "      <td>0.03003</td>\n",
              "      <td>0.006193</td>\n",
              "      <td>25.38</td>\n",
              "      <td>17.33</td>\n",
              "      <td>184.60</td>\n",
              "      <td>2019.0</td>\n",
              "      <td>0.1622</td>\n",
              "      <td>0.6656</td>\n",
              "      <td>0.7119</td>\n",
              "      <td>0.2654</td>\n",
              "      <td>0.4601</td>\n",
              "      <td>0.11890</td>\n",
              "      <td>NaN</td>\n",
              "    </tr>\n",
              "    <tr>\n",
              "      <th>1</th>\n",
              "      <td>842517</td>\n",
              "      <td>M</td>\n",
              "      <td>20.57</td>\n",
              "      <td>17.77</td>\n",
              "      <td>132.90</td>\n",
              "      <td>1326.0</td>\n",
              "      <td>0.08474</td>\n",
              "      <td>0.07864</td>\n",
              "      <td>0.0869</td>\n",
              "      <td>0.07017</td>\n",
              "      <td>0.1812</td>\n",
              "      <td>0.05667</td>\n",
              "      <td>0.5435</td>\n",
              "      <td>0.7339</td>\n",
              "      <td>3.398</td>\n",
              "      <td>74.08</td>\n",
              "      <td>0.005225</td>\n",
              "      <td>0.01308</td>\n",
              "      <td>0.01860</td>\n",
              "      <td>0.01340</td>\n",
              "      <td>0.01389</td>\n",
              "      <td>0.003532</td>\n",
              "      <td>24.99</td>\n",
              "      <td>23.41</td>\n",
              "      <td>158.80</td>\n",
              "      <td>1956.0</td>\n",
              "      <td>0.1238</td>\n",
              "      <td>0.1866</td>\n",
              "      <td>0.2416</td>\n",
              "      <td>0.1860</td>\n",
              "      <td>0.2750</td>\n",
              "      <td>0.08902</td>\n",
              "      <td>NaN</td>\n",
              "    </tr>\n",
              "    <tr>\n",
              "      <th>2</th>\n",
              "      <td>84300903</td>\n",
              "      <td>M</td>\n",
              "      <td>19.69</td>\n",
              "      <td>21.25</td>\n",
              "      <td>130.00</td>\n",
              "      <td>1203.0</td>\n",
              "      <td>0.10960</td>\n",
              "      <td>0.15990</td>\n",
              "      <td>0.1974</td>\n",
              "      <td>0.12790</td>\n",
              "      <td>0.2069</td>\n",
              "      <td>0.05999</td>\n",
              "      <td>0.7456</td>\n",
              "      <td>0.7869</td>\n",
              "      <td>4.585</td>\n",
              "      <td>94.03</td>\n",
              "      <td>0.006150</td>\n",
              "      <td>0.04006</td>\n",
              "      <td>0.03832</td>\n",
              "      <td>0.02058</td>\n",
              "      <td>0.02250</td>\n",
              "      <td>0.004571</td>\n",
              "      <td>23.57</td>\n",
              "      <td>25.53</td>\n",
              "      <td>152.50</td>\n",
              "      <td>1709.0</td>\n",
              "      <td>0.1444</td>\n",
              "      <td>0.4245</td>\n",
              "      <td>0.4504</td>\n",
              "      <td>0.2430</td>\n",
              "      <td>0.3613</td>\n",
              "      <td>0.08758</td>\n",
              "      <td>NaN</td>\n",
              "    </tr>\n",
              "    <tr>\n",
              "      <th>3</th>\n",
              "      <td>84348301</td>\n",
              "      <td>M</td>\n",
              "      <td>11.42</td>\n",
              "      <td>20.38</td>\n",
              "      <td>77.58</td>\n",
              "      <td>386.1</td>\n",
              "      <td>0.14250</td>\n",
              "      <td>0.28390</td>\n",
              "      <td>0.2414</td>\n",
              "      <td>0.10520</td>\n",
              "      <td>0.2597</td>\n",
              "      <td>0.09744</td>\n",
              "      <td>0.4956</td>\n",
              "      <td>1.1560</td>\n",
              "      <td>3.445</td>\n",
              "      <td>27.23</td>\n",
              "      <td>0.009110</td>\n",
              "      <td>0.07458</td>\n",
              "      <td>0.05661</td>\n",
              "      <td>0.01867</td>\n",
              "      <td>0.05963</td>\n",
              "      <td>0.009208</td>\n",
              "      <td>14.91</td>\n",
              "      <td>26.50</td>\n",
              "      <td>98.87</td>\n",
              "      <td>567.7</td>\n",
              "      <td>0.2098</td>\n",
              "      <td>0.8663</td>\n",
              "      <td>0.6869</td>\n",
              "      <td>0.2575</td>\n",
              "      <td>0.6638</td>\n",
              "      <td>0.17300</td>\n",
              "      <td>NaN</td>\n",
              "    </tr>\n",
              "    <tr>\n",
              "      <th>4</th>\n",
              "      <td>84358402</td>\n",
              "      <td>M</td>\n",
              "      <td>20.29</td>\n",
              "      <td>14.34</td>\n",
              "      <td>135.10</td>\n",
              "      <td>1297.0</td>\n",
              "      <td>0.10030</td>\n",
              "      <td>0.13280</td>\n",
              "      <td>0.1980</td>\n",
              "      <td>0.10430</td>\n",
              "      <td>0.1809</td>\n",
              "      <td>0.05883</td>\n",
              "      <td>0.7572</td>\n",
              "      <td>0.7813</td>\n",
              "      <td>5.438</td>\n",
              "      <td>94.44</td>\n",
              "      <td>0.011490</td>\n",
              "      <td>0.02461</td>\n",
              "      <td>0.05688</td>\n",
              "      <td>0.01885</td>\n",
              "      <td>0.01756</td>\n",
              "      <td>0.005115</td>\n",
              "      <td>22.54</td>\n",
              "      <td>16.67</td>\n",
              "      <td>152.20</td>\n",
              "      <td>1575.0</td>\n",
              "      <td>0.1374</td>\n",
              "      <td>0.2050</td>\n",
              "      <td>0.4000</td>\n",
              "      <td>0.1625</td>\n",
              "      <td>0.2364</td>\n",
              "      <td>0.07678</td>\n",
              "      <td>NaN</td>\n",
              "    </tr>\n",
              "  </tbody>\n",
              "</table>\n",
              "</div>\n",
              "    <div class=\"colab-df-buttons\">\n",
              "\n",
              "  <div class=\"colab-df-container\">\n",
              "    <button class=\"colab-df-convert\" onclick=\"convertToInteractive('df-7eec7e95-3063-4ede-bce1-90f5ed236036')\"\n",
              "            title=\"Convert this dataframe to an interactive table.\"\n",
              "            style=\"display:none;\">\n",
              "\n",
              "  <svg xmlns=\"http://www.w3.org/2000/svg\" height=\"24px\" viewBox=\"0 -960 960 960\">\n",
              "    <path d=\"M120-120v-720h720v720H120Zm60-500h600v-160H180v160Zm220 220h160v-160H400v160Zm0 220h160v-160H400v160ZM180-400h160v-160H180v160Zm440 0h160v-160H620v160ZM180-180h160v-160H180v160Zm440 0h160v-160H620v160Z\"/>\n",
              "  </svg>\n",
              "    </button>\n",
              "\n",
              "  <style>\n",
              "    .colab-df-container {\n",
              "      display:flex;\n",
              "      gap: 12px;\n",
              "    }\n",
              "\n",
              "    .colab-df-convert {\n",
              "      background-color: #E8F0FE;\n",
              "      border: none;\n",
              "      border-radius: 50%;\n",
              "      cursor: pointer;\n",
              "      display: none;\n",
              "      fill: #1967D2;\n",
              "      height: 32px;\n",
              "      padding: 0 0 0 0;\n",
              "      width: 32px;\n",
              "    }\n",
              "\n",
              "    .colab-df-convert:hover {\n",
              "      background-color: #E2EBFA;\n",
              "      box-shadow: 0px 1px 2px rgba(60, 64, 67, 0.3), 0px 1px 3px 1px rgba(60, 64, 67, 0.15);\n",
              "      fill: #174EA6;\n",
              "    }\n",
              "\n",
              "    .colab-df-buttons div {\n",
              "      margin-bottom: 4px;\n",
              "    }\n",
              "\n",
              "    [theme=dark] .colab-df-convert {\n",
              "      background-color: #3B4455;\n",
              "      fill: #D2E3FC;\n",
              "    }\n",
              "\n",
              "    [theme=dark] .colab-df-convert:hover {\n",
              "      background-color: #434B5C;\n",
              "      box-shadow: 0px 1px 3px 1px rgba(0, 0, 0, 0.15);\n",
              "      filter: drop-shadow(0px 1px 2px rgba(0, 0, 0, 0.3));\n",
              "      fill: #FFFFFF;\n",
              "    }\n",
              "  </style>\n",
              "\n",
              "    <script>\n",
              "      const buttonEl =\n",
              "        document.querySelector('#df-7eec7e95-3063-4ede-bce1-90f5ed236036 button.colab-df-convert');\n",
              "      buttonEl.style.display =\n",
              "        google.colab.kernel.accessAllowed ? 'block' : 'none';\n",
              "\n",
              "      async function convertToInteractive(key) {\n",
              "        const element = document.querySelector('#df-7eec7e95-3063-4ede-bce1-90f5ed236036');\n",
              "        const dataTable =\n",
              "          await google.colab.kernel.invokeFunction('convertToInteractive',\n",
              "                                                    [key], {});\n",
              "        if (!dataTable) return;\n",
              "\n",
              "        const docLinkHtml = 'Like what you see? Visit the ' +\n",
              "          '<a target=\"_blank\" href=https://colab.research.google.com/notebooks/data_table.ipynb>data table notebook</a>'\n",
              "          + ' to learn more about interactive tables.';\n",
              "        element.innerHTML = '';\n",
              "        dataTable['output_type'] = 'display_data';\n",
              "        await google.colab.output.renderOutput(dataTable, element);\n",
              "        const docLink = document.createElement('div');\n",
              "        docLink.innerHTML = docLinkHtml;\n",
              "        element.appendChild(docLink);\n",
              "      }\n",
              "    </script>\n",
              "  </div>\n",
              "\n",
              "\n",
              "<div id=\"df-7e56d554-802a-4aa3-b9a8-d8f0171fd65a\">\n",
              "  <button class=\"colab-df-quickchart\" onclick=\"quickchart('df-7e56d554-802a-4aa3-b9a8-d8f0171fd65a')\"\n",
              "            title=\"Suggest charts\"\n",
              "            style=\"display:none;\">\n",
              "\n",
              "<svg xmlns=\"http://www.w3.org/2000/svg\" height=\"24px\"viewBox=\"0 0 24 24\"\n",
              "     width=\"24px\">\n",
              "    <g>\n",
              "        <path d=\"M19 3H5c-1.1 0-2 .9-2 2v14c0 1.1.9 2 2 2h14c1.1 0 2-.9 2-2V5c0-1.1-.9-2-2-2zM9 17H7v-7h2v7zm4 0h-2V7h2v10zm4 0h-2v-4h2v4z\"/>\n",
              "    </g>\n",
              "</svg>\n",
              "  </button>\n",
              "\n",
              "<style>\n",
              "  .colab-df-quickchart {\n",
              "      --bg-color: #E8F0FE;\n",
              "      --fill-color: #1967D2;\n",
              "      --hover-bg-color: #E2EBFA;\n",
              "      --hover-fill-color: #174EA6;\n",
              "      --disabled-fill-color: #AAA;\n",
              "      --disabled-bg-color: #DDD;\n",
              "  }\n",
              "\n",
              "  [theme=dark] .colab-df-quickchart {\n",
              "      --bg-color: #3B4455;\n",
              "      --fill-color: #D2E3FC;\n",
              "      --hover-bg-color: #434B5C;\n",
              "      --hover-fill-color: #FFFFFF;\n",
              "      --disabled-bg-color: #3B4455;\n",
              "      --disabled-fill-color: #666;\n",
              "  }\n",
              "\n",
              "  .colab-df-quickchart {\n",
              "    background-color: var(--bg-color);\n",
              "    border: none;\n",
              "    border-radius: 50%;\n",
              "    cursor: pointer;\n",
              "    display: none;\n",
              "    fill: var(--fill-color);\n",
              "    height: 32px;\n",
              "    padding: 0;\n",
              "    width: 32px;\n",
              "  }\n",
              "\n",
              "  .colab-df-quickchart:hover {\n",
              "    background-color: var(--hover-bg-color);\n",
              "    box-shadow: 0 1px 2px rgba(60, 64, 67, 0.3), 0 1px 3px 1px rgba(60, 64, 67, 0.15);\n",
              "    fill: var(--button-hover-fill-color);\n",
              "  }\n",
              "\n",
              "  .colab-df-quickchart-complete:disabled,\n",
              "  .colab-df-quickchart-complete:disabled:hover {\n",
              "    background-color: var(--disabled-bg-color);\n",
              "    fill: var(--disabled-fill-color);\n",
              "    box-shadow: none;\n",
              "  }\n",
              "\n",
              "  .colab-df-spinner {\n",
              "    border: 2px solid var(--fill-color);\n",
              "    border-color: transparent;\n",
              "    border-bottom-color: var(--fill-color);\n",
              "    animation:\n",
              "      spin 1s steps(1) infinite;\n",
              "  }\n",
              "\n",
              "  @keyframes spin {\n",
              "    0% {\n",
              "      border-color: transparent;\n",
              "      border-bottom-color: var(--fill-color);\n",
              "      border-left-color: var(--fill-color);\n",
              "    }\n",
              "    20% {\n",
              "      border-color: transparent;\n",
              "      border-left-color: var(--fill-color);\n",
              "      border-top-color: var(--fill-color);\n",
              "    }\n",
              "    30% {\n",
              "      border-color: transparent;\n",
              "      border-left-color: var(--fill-color);\n",
              "      border-top-color: var(--fill-color);\n",
              "      border-right-color: var(--fill-color);\n",
              "    }\n",
              "    40% {\n",
              "      border-color: transparent;\n",
              "      border-right-color: var(--fill-color);\n",
              "      border-top-color: var(--fill-color);\n",
              "    }\n",
              "    60% {\n",
              "      border-color: transparent;\n",
              "      border-right-color: var(--fill-color);\n",
              "    }\n",
              "    80% {\n",
              "      border-color: transparent;\n",
              "      border-right-color: var(--fill-color);\n",
              "      border-bottom-color: var(--fill-color);\n",
              "    }\n",
              "    90% {\n",
              "      border-color: transparent;\n",
              "      border-bottom-color: var(--fill-color);\n",
              "    }\n",
              "  }\n",
              "</style>\n",
              "\n",
              "  <script>\n",
              "    async function quickchart(key) {\n",
              "      const quickchartButtonEl =\n",
              "        document.querySelector('#' + key + ' button');\n",
              "      quickchartButtonEl.disabled = true;  // To prevent multiple clicks.\n",
              "      quickchartButtonEl.classList.add('colab-df-spinner');\n",
              "      try {\n",
              "        const charts = await google.colab.kernel.invokeFunction(\n",
              "            'suggestCharts', [key], {});\n",
              "      } catch (error) {\n",
              "        console.error('Error during call to suggestCharts:', error);\n",
              "      }\n",
              "      quickchartButtonEl.classList.remove('colab-df-spinner');\n",
              "      quickchartButtonEl.classList.add('colab-df-quickchart-complete');\n",
              "    }\n",
              "    (() => {\n",
              "      let quickchartButtonEl =\n",
              "        document.querySelector('#df-7e56d554-802a-4aa3-b9a8-d8f0171fd65a button');\n",
              "      quickchartButtonEl.style.display =\n",
              "        google.colab.kernel.accessAllowed ? 'block' : 'none';\n",
              "    })();\n",
              "  </script>\n",
              "</div>\n",
              "\n",
              "    </div>\n",
              "  </div>\n"
            ],
            "application/vnd.google.colaboratory.intrinsic+json": {
              "type": "dataframe",
              "variable_name": "dado"
            }
          },
          "metadata": {},
          "execution_count": 3
        }
      ]
    },
    {
      "cell_type": "markdown",
      "source": [
        "## Análise das Variáveis\n",
        "\n",
        "Verificando se não há nenhum valor discrepante nas variáveis que precise ser arrumado."
      ],
      "metadata": {
        "id": "ZyxcS0xFVmOV"
      }
    },
    {
      "cell_type": "code",
      "source": [
        "import seaborn as sns\n",
        "import matplotlib.pyplot as plt"
      ],
      "metadata": {
        "id": "_Jlvp5tuUkyn"
      },
      "execution_count": null,
      "outputs": []
    },
    {
      "cell_type": "markdown",
      "source": [
        "### Dianóstico"
      ],
      "metadata": {
        "id": "L2SaeuOkaf9l"
      }
    },
    {
      "cell_type": "markdown",
      "source": [
        "Se é maligno ou benigno"
      ],
      "metadata": {
        "id": "FYRfgssfaay8"
      }
    },
    {
      "cell_type": "code",
      "source": [
        "dado['diagnosis'].value_counts()"
      ],
      "metadata": {
        "colab": {
          "base_uri": "https://localhost:8080/",
          "height": 216
        },
        "id": "AtFJxM_VV8mh",
        "outputId": "5be725fd-c104-43d4-f581-873a0119b9d2"
      },
      "execution_count": null,
      "outputs": [
        {
          "output_type": "execute_result",
          "data": {
            "text/plain": [
              "diagnosis\n",
              "B    357\n",
              "M    212\n",
              "Name: count, dtype: int64"
            ],
            "text/html": [
              "<div>\n",
              "<style scoped>\n",
              "    .dataframe tbody tr th:only-of-type {\n",
              "        vertical-align: middle;\n",
              "    }\n",
              "\n",
              "    .dataframe tbody tr th {\n",
              "        vertical-align: top;\n",
              "    }\n",
              "\n",
              "    .dataframe thead th {\n",
              "        text-align: right;\n",
              "    }\n",
              "</style>\n",
              "<table border=\"1\" class=\"dataframe\">\n",
              "  <thead>\n",
              "    <tr style=\"text-align: right;\">\n",
              "      <th></th>\n",
              "      <th>count</th>\n",
              "    </tr>\n",
              "    <tr>\n",
              "      <th>diagnosis</th>\n",
              "      <th></th>\n",
              "    </tr>\n",
              "  </thead>\n",
              "  <tbody>\n",
              "    <tr>\n",
              "      <th>B</th>\n",
              "      <td>357</td>\n",
              "    </tr>\n",
              "    <tr>\n",
              "      <th>M</th>\n",
              "      <td>212</td>\n",
              "    </tr>\n",
              "  </tbody>\n",
              "</table>\n",
              "</div><br><label><b>dtype:</b> int64</label>"
            ]
          },
          "metadata": {},
          "execution_count": 5
        }
      ]
    },
    {
      "cell_type": "markdown",
      "source": [
        "### Radius_mean\n",
        "\n"
      ],
      "metadata": {
        "id": "-YpT0YkeaUL0"
      }
    },
    {
      "cell_type": "markdown",
      "source": [
        "Média dos raios das células do tumor (distância do centro até a borda da célula). Tumores malignos tendem a ter um raio maior."
      ],
      "metadata": {
        "id": "uhk-l4Noaugx"
      }
    },
    {
      "cell_type": "code",
      "source": [
        "dado['radius_mean'].value_counts().sort_index()"
      ],
      "metadata": {
        "colab": {
          "base_uri": "https://localhost:8080/",
          "height": 597
        },
        "collapsed": true,
        "id": "qEHPM5OlW3GH",
        "outputId": "2af43cdd-de95-492c-a5b1-d520038ab067"
      },
      "execution_count": null,
      "outputs": [
        {
          "output_type": "execute_result",
          "data": {
            "text/plain": [
              "radius_mean\n",
              "6.981     1\n",
              "7.691     1\n",
              "7.729     1\n",
              "7.760     1\n",
              "8.196     1\n",
              "         ..\n",
              "25.220    1\n",
              "25.730    1\n",
              "27.220    1\n",
              "27.420    1\n",
              "28.110    1\n",
              "Name: count, Length: 456, dtype: int64"
            ],
            "text/html": [
              "<div>\n",
              "<style scoped>\n",
              "    .dataframe tbody tr th:only-of-type {\n",
              "        vertical-align: middle;\n",
              "    }\n",
              "\n",
              "    .dataframe tbody tr th {\n",
              "        vertical-align: top;\n",
              "    }\n",
              "\n",
              "    .dataframe thead th {\n",
              "        text-align: right;\n",
              "    }\n",
              "</style>\n",
              "<table border=\"1\" class=\"dataframe\">\n",
              "  <thead>\n",
              "    <tr style=\"text-align: right;\">\n",
              "      <th></th>\n",
              "      <th>count</th>\n",
              "    </tr>\n",
              "    <tr>\n",
              "      <th>radius_mean</th>\n",
              "      <th></th>\n",
              "    </tr>\n",
              "  </thead>\n",
              "  <tbody>\n",
              "    <tr>\n",
              "      <th>6.981</th>\n",
              "      <td>1</td>\n",
              "    </tr>\n",
              "    <tr>\n",
              "      <th>7.691</th>\n",
              "      <td>1</td>\n",
              "    </tr>\n",
              "    <tr>\n",
              "      <th>7.729</th>\n",
              "      <td>1</td>\n",
              "    </tr>\n",
              "    <tr>\n",
              "      <th>7.760</th>\n",
              "      <td>1</td>\n",
              "    </tr>\n",
              "    <tr>\n",
              "      <th>8.196</th>\n",
              "      <td>1</td>\n",
              "    </tr>\n",
              "    <tr>\n",
              "      <th>...</th>\n",
              "      <td>...</td>\n",
              "    </tr>\n",
              "    <tr>\n",
              "      <th>25.220</th>\n",
              "      <td>1</td>\n",
              "    </tr>\n",
              "    <tr>\n",
              "      <th>25.730</th>\n",
              "      <td>1</td>\n",
              "    </tr>\n",
              "    <tr>\n",
              "      <th>27.220</th>\n",
              "      <td>1</td>\n",
              "    </tr>\n",
              "    <tr>\n",
              "      <th>27.420</th>\n",
              "      <td>1</td>\n",
              "    </tr>\n",
              "    <tr>\n",
              "      <th>28.110</th>\n",
              "      <td>1</td>\n",
              "    </tr>\n",
              "  </tbody>\n",
              "</table>\n",
              "<p>456 rows × 1 columns</p>\n",
              "</div><br><label><b>dtype:</b> int64</label>"
            ]
          },
          "metadata": {},
          "execution_count": 6
        }
      ]
    },
    {
      "cell_type": "code",
      "source": [
        "sns.histplot(dado, x='radius_mean', bins=30, kde=True, stat='count');"
      ],
      "metadata": {
        "colab": {
          "base_uri": "https://localhost:8080/",
          "height": 54
        },
        "id": "l7eHsSNHa0xc",
        "outputId": "f8137111-04d0-46ef-c061-1c2a43b1ff94"
      },
      "execution_count": null,
      "outputs": [
        {
          "output_type": "display_data",
          "data": {
            "text/plain": [
              "<Figure size 640x480 with 1 Axes>"
            ],
            "image/png": "[encoded data removed]"
          },
          "metadata": {}
        }
      ]
    },
    {
      "cell_type": "markdown",
      "source": [
        "### Texture_mean"
      ],
      "metadata": {
        "id": "c4v537lgbNIY"
      }
    },
    {
      "cell_type": "markdown",
      "source": [
        "Mede a variação dos valores de pixel ao redor do perímetro da célula, indicando a \"aspereza\" da superfície da célula. Maior variação indicam tumor maligno."
      ],
      "metadata": {
        "id": "Bz_O8G6qbQSR"
      }
    },
    {
      "cell_type": "code",
      "source": [
        "dado['texture_mean'].value_counts().sort_index()"
      ],
      "metadata": {
        "colab": {
          "base_uri": "https://localhost:8080/",
          "height": 597
        },
        "collapsed": true,
        "id": "kJ01TKyBX4rv",
        "outputId": "0558389b-5230-4bf2-ea73-f6c543c43005"
      },
      "execution_count": null,
      "outputs": [
        {
          "output_type": "execute_result",
          "data": {
            "text/plain": [
              "texture_mean\n",
              "9.71     1\n",
              "10.38    1\n",
              "10.72    1\n",
              "10.82    1\n",
              "10.89    1\n",
              "        ..\n",
              "31.12    1\n",
              "32.47    1\n",
              "33.56    1\n",
              "33.81    1\n",
              "39.28    1\n",
              "Name: count, Length: 479, dtype: int64"
            ],
            "text/html": [
              "<div>\n",
              "<style scoped>\n",
              "    .dataframe tbody tr th:only-of-type {\n",
              "        vertical-align: middle;\n",
              "    }\n",
              "\n",
              "    .dataframe tbody tr th {\n",
              "        vertical-align: top;\n",
              "    }\n",
              "\n",
              "    .dataframe thead th {\n",
              "        text-align: right;\n",
              "    }\n",
              "</style>\n",
              "<table border=\"1\" class=\"dataframe\">\n",
              "  <thead>\n",
              "    <tr style=\"text-align: right;\">\n",
              "      <th></th>\n",
              "      <th>count</th>\n",
              "    </tr>\n",
              "    <tr>\n",
              "      <th>texture_mean</th>\n",
              "      <th></th>\n",
              "    </tr>\n",
              "  </thead>\n",
              "  <tbody>\n",
              "    <tr>\n",
              "      <th>9.71</th>\n",
              "      <td>1</td>\n",
              "    </tr>\n",
              "    <tr>\n",
              "      <th>10.38</th>\n",
              "      <td>1</td>\n",
              "    </tr>\n",
              "    <tr>\n",
              "      <th>10.72</th>\n",
              "      <td>1</td>\n",
              "    </tr>\n",
              "    <tr>\n",
              "      <th>10.82</th>\n",
              "      <td>1</td>\n",
              "    </tr>\n",
              "    <tr>\n",
              "      <th>10.89</th>\n",
              "      <td>1</td>\n",
              "    </tr>\n",
              "    <tr>\n",
              "      <th>...</th>\n",
              "      <td>...</td>\n",
              "    </tr>\n",
              "    <tr>\n",
              "      <th>31.12</th>\n",
              "      <td>1</td>\n",
              "    </tr>\n",
              "    <tr>\n",
              "      <th>32.47</th>\n",
              "      <td>1</td>\n",
              "    </tr>\n",
              "    <tr>\n",
              "      <th>33.56</th>\n",
              "      <td>1</td>\n",
              "    </tr>\n",
              "    <tr>\n",
              "      <th>33.81</th>\n",
              "      <td>1</td>\n",
              "    </tr>\n",
              "    <tr>\n",
              "      <th>39.28</th>\n",
              "      <td>1</td>\n",
              "    </tr>\n",
              "  </tbody>\n",
              "</table>\n",
              "<p>479 rows × 1 columns</p>\n",
              "</div><br><label><b>dtype:</b> int64</label>"
            ]
          },
          "metadata": {},
          "execution_count": 8
        }
      ]
    },
    {
      "cell_type": "code",
      "source": [
        "sns.histplot(dado, x='texture_mean', bins=30, kde=True);"
      ],
      "metadata": {
        "colab": {
          "base_uri": "https://localhost:8080/",
          "height": 54
        },
        "id": "xJU8POBybYkP",
        "outputId": "8ebca428-e1d4-4583-c05e-43212f308980"
      },
      "execution_count": null,
      "outputs": [
        {
          "output_type": "display_data",
          "data": {
            "text/plain": [
              "<Figure size 640x480 with 1 Axes>"
            ],
            "image/png": "[encoded data removed]"
          },
          "metadata": {}
        }
      ]
    },
    {
      "cell_type": "markdown",
      "source": [
        "### Perimeter_mean"
      ],
      "metadata": {
        "id": "pi7J-E4Sbz6_"
      }
    },
    {
      "cell_type": "markdown",
      "source": [
        "Média do perímetro das células. Tumores malignos têm perímetros maiores devido ao crescimento descontrolado das células."
      ],
      "metadata": {
        "id": "R7oFlvSZb27Z"
      }
    },
    {
      "cell_type": "code",
      "source": [
        "dado['perimeter_mean'].value_counts().sort_index()"
      ],
      "metadata": {
        "colab": {
          "base_uri": "https://localhost:8080/",
          "height": 597
        },
        "collapsed": true,
        "id": "fu1yaRwbYKCI",
        "outputId": "7dc39628-f6c4-4d8f-d32d-59a1e387715c"
      },
      "execution_count": null,
      "outputs": [
        {
          "output_type": "execute_result",
          "data": {
            "text/plain": [
              "perimeter_mean\n",
              "43.79     1\n",
              "47.92     1\n",
              "47.98     1\n",
              "48.34     1\n",
              "51.71     1\n",
              "         ..\n",
              "171.50    1\n",
              "174.20    1\n",
              "182.10    1\n",
              "186.90    1\n",
              "188.50    1\n",
              "Name: count, Length: 522, dtype: int64"
            ],
            "text/html": [
              "<div>\n",
              "<style scoped>\n",
              "    .dataframe tbody tr th:only-of-type {\n",
              "        vertical-align: middle;\n",
              "    }\n",
              "\n",
              "    .dataframe tbody tr th {\n",
              "        vertical-align: top;\n",
              "    }\n",
              "\n",
              "    .dataframe thead th {\n",
              "        text-align: right;\n",
              "    }\n",
              "</style>\n",
              "<table border=\"1\" class=\"dataframe\">\n",
              "  <thead>\n",
              "    <tr style=\"text-align: right;\">\n",
              "      <th></th>\n",
              "      <th>count</th>\n",
              "    </tr>\n",
              "    <tr>\n",
              "      <th>perimeter_mean</th>\n",
              "      <th></th>\n",
              "    </tr>\n",
              "  </thead>\n",
              "  <tbody>\n",
              "    <tr>\n",
              "      <th>43.79</th>\n",
              "      <td>1</td>\n",
              "    </tr>\n",
              "    <tr>\n",
              "      <th>47.92</th>\n",
              "      <td>1</td>\n",
              "    </tr>\n",
              "    <tr>\n",
              "      <th>47.98</th>\n",
              "      <td>1</td>\n",
              "    </tr>\n",
              "    <tr>\n",
              "      <th>48.34</th>\n",
              "      <td>1</td>\n",
              "    </tr>\n",
              "    <tr>\n",
              "      <th>51.71</th>\n",
              "      <td>1</td>\n",
              "    </tr>\n",
              "    <tr>\n",
              "      <th>...</th>\n",
              "      <td>...</td>\n",
              "    </tr>\n",
              "    <tr>\n",
              "      <th>171.50</th>\n",
              "      <td>1</td>\n",
              "    </tr>\n",
              "    <tr>\n",
              "      <th>174.20</th>\n",
              "      <td>1</td>\n",
              "    </tr>\n",
              "    <tr>\n",
              "      <th>182.10</th>\n",
              "      <td>1</td>\n",
              "    </tr>\n",
              "    <tr>\n",
              "      <th>186.90</th>\n",
              "      <td>1</td>\n",
              "    </tr>\n",
              "    <tr>\n",
              "      <th>188.50</th>\n",
              "      <td>1</td>\n",
              "    </tr>\n",
              "  </tbody>\n",
              "</table>\n",
              "<p>522 rows × 1 columns</p>\n",
              "</div><br><label><b>dtype:</b> int64</label>"
            ]
          },
          "metadata": {},
          "execution_count": 10
        }
      ]
    },
    {
      "cell_type": "code",
      "source": [
        "sns.histplot(dado, x='perimeter_mean', bins=30, kde=True);"
      ],
      "metadata": {
        "colab": {
          "base_uri": "https://localhost:8080/",
          "height": 54
        },
        "id": "eRQR9WQSb8YF",
        "outputId": "ab364246-e407-4d5b-e0ee-c5504c726fd0"
      },
      "execution_count": null,
      "outputs": [
        {
          "output_type": "display_data",
          "data": {
            "text/plain": [
              "<Figure size 640x480 with 1 Axes>"
            ],
            "image/png": "[encoded data removed]"
          },
          "metadata": {}
        }
      ]
    },
    {
      "cell_type": "markdown",
      "source": [
        "### Area_mean"
      ],
      "metadata": {
        "id": "RuxcpijdcRL4"
      }
    },
    {
      "cell_type": "markdown",
      "source": [
        "Média da área em micrometros. Quanto maior, mais agressivo é o câncer (maligno)."
      ],
      "metadata": {
        "id": "J7_lFl5xcT-q"
      }
    },
    {
      "cell_type": "code",
      "source": [
        "dado['area_mean'].value_counts().sort_index()"
      ],
      "metadata": {
        "colab": {
          "base_uri": "https://localhost:8080/",
          "height": 597
        },
        "collapsed": true,
        "id": "0aP4WmpcYTOy",
        "outputId": "5b990f98-76c3-4ae6-d749-2f98b7b26c73"
      },
      "execution_count": null,
      "outputs": [
        {
          "output_type": "execute_result",
          "data": {
            "text/plain": [
              "area_mean\n",
              "143.5     1\n",
              "170.4     1\n",
              "178.8     1\n",
              "181.0     1\n",
              "201.9     1\n",
              "         ..\n",
              "1878.0    1\n",
              "2010.0    1\n",
              "2250.0    1\n",
              "2499.0    1\n",
              "2501.0    1\n",
              "Name: count, Length: 539, dtype: int64"
            ],
            "text/html": [
              "<div>\n",
              "<style scoped>\n",
              "    .dataframe tbody tr th:only-of-type {\n",
              "        vertical-align: middle;\n",
              "    }\n",
              "\n",
              "    .dataframe tbody tr th {\n",
              "        vertical-align: top;\n",
              "    }\n",
              "\n",
              "    .dataframe thead th {\n",
              "        text-align: right;\n",
              "    }\n",
              "</style>\n",
              "<table border=\"1\" class=\"dataframe\">\n",
              "  <thead>\n",
              "    <tr style=\"text-align: right;\">\n",
              "      <th></th>\n",
              "      <th>count</th>\n",
              "    </tr>\n",
              "    <tr>\n",
              "      <th>area_mean</th>\n",
              "      <th></th>\n",
              "    </tr>\n",
              "  </thead>\n",
              "  <tbody>\n",
              "    <tr>\n",
              "      <th>143.5</th>\n",
              "      <td>1</td>\n",
              "    </tr>\n",
              "    <tr>\n",
              "      <th>170.4</th>\n",
              "      <td>1</td>\n",
              "    </tr>\n",
              "    <tr>\n",
              "      <th>178.8</th>\n",
              "      <td>1</td>\n",
              "    </tr>\n",
              "    <tr>\n",
              "      <th>181.0</th>\n",
              "      <td>1</td>\n",
              "    </tr>\n",
              "    <tr>\n",
              "      <th>201.9</th>\n",
              "      <td>1</td>\n",
              "    </tr>\n",
              "    <tr>\n",
              "      <th>...</th>\n",
              "      <td>...</td>\n",
              "    </tr>\n",
              "    <tr>\n",
              "      <th>1878.0</th>\n",
              "      <td>1</td>\n",
              "    </tr>\n",
              "    <tr>\n",
              "      <th>2010.0</th>\n",
              "      <td>1</td>\n",
              "    </tr>\n",
              "    <tr>\n",
              "      <th>2250.0</th>\n",
              "      <td>1</td>\n",
              "    </tr>\n",
              "    <tr>\n",
              "      <th>2499.0</th>\n",
              "      <td>1</td>\n",
              "    </tr>\n",
              "    <tr>\n",
              "      <th>2501.0</th>\n",
              "      <td>1</td>\n",
              "    </tr>\n",
              "  </tbody>\n",
              "</table>\n",
              "<p>539 rows × 1 columns</p>\n",
              "</div><br><label><b>dtype:</b> int64</label>"
            ]
          },
          "metadata": {},
          "execution_count": 12
        }
      ]
    },
    {
      "cell_type": "code",
      "source": [
        "sns.histplot(dado, x='area_mean', bins=30, kde=True);"
      ],
      "metadata": {
        "colab": {
          "base_uri": "https://localhost:8080/",
          "height": 54
        },
        "id": "F1ZE__-fcYyf",
        "outputId": "6fe5a10d-211f-4c52-a9dd-c36cfae3bdc3"
      },
      "execution_count": null,
      "outputs": [
        {
          "output_type": "display_data",
          "data": {
            "text/plain": [
              "<Figure size 640x480 with 1 Axes>"
            ],
            "image/png": "[encoded data removed]"
          },
          "metadata": {}
        }
      ]
    },
    {
      "cell_type": "markdown",
      "source": [
        "### Smoothness-mean"
      ],
      "metadata": {
        "id": "gFwz5Yf2dkn5"
      }
    },
    {
      "cell_type": "markdown",
      "source": [
        "Mede a média da suavidade do contorno da célula (variação local dos raios). Contornos menos suaves indicam malignidade."
      ],
      "metadata": {
        "id": "mHA6zcbCdncu"
      }
    },
    {
      "cell_type": "code",
      "source": [
        "dado['smoothness_mean'].value_counts().sort_index()"
      ],
      "metadata": {
        "colab": {
          "base_uri": "https://localhost:8080/",
          "height": 597
        },
        "collapsed": true,
        "id": "Wb2X1gIoYjNV",
        "outputId": "2c56202a-4e66-4ab4-cfb7-85b178f0d535"
      },
      "execution_count": null,
      "outputs": [
        {
          "output_type": "execute_result",
          "data": {
            "text/plain": [
              "smoothness_mean\n",
              "0.05263    1\n",
              "0.06251    1\n",
              "0.06429    1\n",
              "0.06576    1\n",
              "0.06613    1\n",
              "          ..\n",
              "0.13710    1\n",
              "0.13980    1\n",
              "0.14250    1\n",
              "0.14470    1\n",
              "0.16340    1\n",
              "Name: count, Length: 474, dtype: int64"
            ],
            "text/html": [
              "<div>\n",
              "<style scoped>\n",
              "    .dataframe tbody tr th:only-of-type {\n",
              "        vertical-align: middle;\n",
              "    }\n",
              "\n",
              "    .dataframe tbody tr th {\n",
              "        vertical-align: top;\n",
              "    }\n",
              "\n",
              "    .dataframe thead th {\n",
              "        text-align: right;\n",
              "    }\n",
              "</style>\n",
              "<table border=\"1\" class=\"dataframe\">\n",
              "  <thead>\n",
              "    <tr style=\"text-align: right;\">\n",
              "      <th></th>\n",
              "      <th>count</th>\n",
              "    </tr>\n",
              "    <tr>\n",
              "      <th>smoothness_mean</th>\n",
              "      <th></th>\n",
              "    </tr>\n",
              "  </thead>\n",
              "  <tbody>\n",
              "    <tr>\n",
              "      <th>0.05263</th>\n",
              "      <td>1</td>\n",
              "    </tr>\n",
              "    <tr>\n",
              "      <th>0.06251</th>\n",
              "      <td>1</td>\n",
              "    </tr>\n",
              "    <tr>\n",
              "      <th>0.06429</th>\n",
              "      <td>1</td>\n",
              "    </tr>\n",
              "    <tr>\n",
              "      <th>0.06576</th>\n",
              "      <td>1</td>\n",
              "    </tr>\n",
              "    <tr>\n",
              "      <th>0.06613</th>\n",
              "      <td>1</td>\n",
              "    </tr>\n",
              "    <tr>\n",
              "      <th>...</th>\n",
              "      <td>...</td>\n",
              "    </tr>\n",
              "    <tr>\n",
              "      <th>0.13710</th>\n",
              "      <td>1</td>\n",
              "    </tr>\n",
              "    <tr>\n",
              "      <th>0.13980</th>\n",
              "      <td>1</td>\n",
              "    </tr>\n",
              "    <tr>\n",
              "      <th>0.14250</th>\n",
              "      <td>1</td>\n",
              "    </tr>\n",
              "    <tr>\n",
              "      <th>0.14470</th>\n",
              "      <td>1</td>\n",
              "    </tr>\n",
              "    <tr>\n",
              "      <th>0.16340</th>\n",
              "      <td>1</td>\n",
              "    </tr>\n",
              "  </tbody>\n",
              "</table>\n",
              "<p>474 rows × 1 columns</p>\n",
              "</div><br><label><b>dtype:</b> int64</label>"
            ]
          },
          "metadata": {},
          "execution_count": 14
        }
      ]
    },
    {
      "cell_type": "code",
      "source": [
        "sns.histplot(dado, x='smoothness_mean', bins=30, kde=True);"
      ],
      "metadata": {
        "colab": {
          "base_uri": "https://localhost:8080/",
          "height": 54
        },
        "id": "pNaCTOADdwss",
        "outputId": "9f25d3de-46ca-4ced-b46e-b265b74782fd"
      },
      "execution_count": null,
      "outputs": [
        {
          "output_type": "display_data",
          "data": {
            "text/plain": [
              "<Figure size 640x480 with 1 Axes>"
            ],
            "image/png": "[encoded data removed]"
          },
          "metadata": {}
        }
      ]
    },
    {
      "cell_type": "markdown",
      "source": [
        "### Compactness_mean"
      ],
      "metadata": {
        "id": "NIrleLsjg5xL"
      }
    },
    {
      "cell_type": "markdown",
      "source": [
        "Média da compactação das células. Indica quão compacta ou densa é a célula. Células malignas são menos compactas, refletindo formas mais complexas e irregulares."
      ],
      "metadata": {
        "id": "CkURezehg8-6"
      }
    },
    {
      "cell_type": "code",
      "source": [
        "dado['compactness_mean'].value_counts().sort_index()"
      ],
      "metadata": {
        "colab": {
          "base_uri": "https://localhost:8080/",
          "height": 597
        },
        "collapsed": true,
        "id": "jarI0TAZYtcT",
        "outputId": "0c2a04fa-85f8-4250-d12a-128d9a08424b"
      },
      "execution_count": null,
      "outputs": [
        {
          "output_type": "execute_result",
          "data": {
            "text/plain": [
              "compactness_mean\n",
              "0.01938    1\n",
              "0.02344    1\n",
              "0.02650    1\n",
              "0.02675    1\n",
              "0.03116    1\n",
              "          ..\n",
              "0.28320    1\n",
              "0.28390    1\n",
              "0.28670    1\n",
              "0.31140    1\n",
              "0.34540    1\n",
              "Name: count, Length: 537, dtype: int64"
            ],
            "text/html": [
              "<div>\n",
              "<style scoped>\n",
              "    .dataframe tbody tr th:only-of-type {\n",
              "        vertical-align: middle;\n",
              "    }\n",
              "\n",
              "    .dataframe tbody tr th {\n",
              "        vertical-align: top;\n",
              "    }\n",
              "\n",
              "    .dataframe thead th {\n",
              "        text-align: right;\n",
              "    }\n",
              "</style>\n",
              "<table border=\"1\" class=\"dataframe\">\n",
              "  <thead>\n",
              "    <tr style=\"text-align: right;\">\n",
              "      <th></th>\n",
              "      <th>count</th>\n",
              "    </tr>\n",
              "    <tr>\n",
              "      <th>compactness_mean</th>\n",
              "      <th></th>\n",
              "    </tr>\n",
              "  </thead>\n",
              "  <tbody>\n",
              "    <tr>\n",
              "      <th>0.01938</th>\n",
              "      <td>1</td>\n",
              "    </tr>\n",
              "    <tr>\n",
              "      <th>0.02344</th>\n",
              "      <td>1</td>\n",
              "    </tr>\n",
              "    <tr>\n",
              "      <th>0.02650</th>\n",
              "      <td>1</td>\n",
              "    </tr>\n",
              "    <tr>\n",
              "      <th>0.02675</th>\n",
              "      <td>1</td>\n",
              "    </tr>\n",
              "    <tr>\n",
              "      <th>0.03116</th>\n",
              "      <td>1</td>\n",
              "    </tr>\n",
              "    <tr>\n",
              "      <th>...</th>\n",
              "      <td>...</td>\n",
              "    </tr>\n",
              "    <tr>\n",
              "      <th>0.28320</th>\n",
              "      <td>1</td>\n",
              "    </tr>\n",
              "    <tr>\n",
              "      <th>0.28390</th>\n",
              "      <td>1</td>\n",
              "    </tr>\n",
              "    <tr>\n",
              "      <th>0.28670</th>\n",
              "      <td>1</td>\n",
              "    </tr>\n",
              "    <tr>\n",
              "      <th>0.31140</th>\n",
              "      <td>1</td>\n",
              "    </tr>\n",
              "    <tr>\n",
              "      <th>0.34540</th>\n",
              "      <td>1</td>\n",
              "    </tr>\n",
              "  </tbody>\n",
              "</table>\n",
              "<p>537 rows × 1 columns</p>\n",
              "</div><br><label><b>dtype:</b> int64</label>"
            ]
          },
          "metadata": {},
          "execution_count": 16
        }
      ]
    },
    {
      "cell_type": "code",
      "source": [
        "sns.histplot(dado, x='compactness_mean', bins=30, kde=True);"
      ],
      "metadata": {
        "colab": {
          "base_uri": "https://localhost:8080/",
          "height": 54
        },
        "id": "bbbLs0zkhHbN",
        "outputId": "a460b847-f0b5-4395-b4e8-97ea46035934"
      },
      "execution_count": null,
      "outputs": [
        {
          "output_type": "display_data",
          "data": {
            "text/plain": [
              "<Figure size 640x480 with 1 Axes>"
            ],
            "image/png": "[encoded data removed]"
          },
          "metadata": {}
        }
      ]
    },
    {
      "cell_type": "markdown",
      "source": [
        "### Concavity_mean"
      ],
      "metadata": {
        "id": "B1e-iI34hNHO"
      }
    },
    {
      "cell_type": "markdown",
      "source": [
        "Média da concavidade da células, que é a medida de profundidade das partes côncavas do contorno da célula. Contornos mais côncavos indicam malignidade, por causa da forma mais irregular da célula."
      ],
      "metadata": {
        "id": "dC1gFLaehV-L"
      }
    },
    {
      "cell_type": "code",
      "source": [
        "dado['concavity_mean'].value_counts().sort_index()"
      ],
      "metadata": {
        "colab": {
          "base_uri": "https://localhost:8080/",
          "height": 597
        },
        "collapsed": true,
        "id": "Yxlm13-7Yzre",
        "outputId": "57233f78-a87d-4d76-fcdd-1b023081d9cb"
      },
      "execution_count": null,
      "outputs": [
        {
          "output_type": "execute_result",
          "data": {
            "text/plain": [
              "concavity_mean\n",
              "0.000000    13\n",
              "0.000692     1\n",
              "0.000974     1\n",
              "0.001194     1\n",
              "0.001461     1\n",
              "            ..\n",
              "0.363500     1\n",
              "0.375400     1\n",
              "0.410800     1\n",
              "0.426400     1\n",
              "0.426800     1\n",
              "Name: count, Length: 537, dtype: int64"
            ],
            "text/html": [
              "<div>\n",
              "<style scoped>\n",
              "    .dataframe tbody tr th:only-of-type {\n",
              "        vertical-align: middle;\n",
              "    }\n",
              "\n",
              "    .dataframe tbody tr th {\n",
              "        vertical-align: top;\n",
              "    }\n",
              "\n",
              "    .dataframe thead th {\n",
              "        text-align: right;\n",
              "    }\n",
              "</style>\n",
              "<table border=\"1\" class=\"dataframe\">\n",
              "  <thead>\n",
              "    <tr style=\"text-align: right;\">\n",
              "      <th></th>\n",
              "      <th>count</th>\n",
              "    </tr>\n",
              "    <tr>\n",
              "      <th>concavity_mean</th>\n",
              "      <th></th>\n",
              "    </tr>\n",
              "  </thead>\n",
              "  <tbody>\n",
              "    <tr>\n",
              "      <th>0.000000</th>\n",
              "      <td>13</td>\n",
              "    </tr>\n",
              "    <tr>\n",
              "      <th>0.000692</th>\n",
              "      <td>1</td>\n",
              "    </tr>\n",
              "    <tr>\n",
              "      <th>0.000974</th>\n",
              "      <td>1</td>\n",
              "    </tr>\n",
              "    <tr>\n",
              "      <th>0.001194</th>\n",
              "      <td>1</td>\n",
              "    </tr>\n",
              "    <tr>\n",
              "      <th>0.001461</th>\n",
              "      <td>1</td>\n",
              "    </tr>\n",
              "    <tr>\n",
              "      <th>...</th>\n",
              "      <td>...</td>\n",
              "    </tr>\n",
              "    <tr>\n",
              "      <th>0.363500</th>\n",
              "      <td>1</td>\n",
              "    </tr>\n",
              "    <tr>\n",
              "      <th>0.375400</th>\n",
              "      <td>1</td>\n",
              "    </tr>\n",
              "    <tr>\n",
              "      <th>0.410800</th>\n",
              "      <td>1</td>\n",
              "    </tr>\n",
              "    <tr>\n",
              "      <th>0.426400</th>\n",
              "      <td>1</td>\n",
              "    </tr>\n",
              "    <tr>\n",
              "      <th>0.426800</th>\n",
              "      <td>1</td>\n",
              "    </tr>\n",
              "  </tbody>\n",
              "</table>\n",
              "<p>537 rows × 1 columns</p>\n",
              "</div><br><label><b>dtype:</b> int64</label>"
            ]
          },
          "metadata": {},
          "execution_count": 18
        }
      ]
    },
    {
      "cell_type": "code",
      "source": [
        "sns.histplot(dado, x='concavity_mean', bins=30, kde=True);"
      ],
      "metadata": {
        "colab": {
          "base_uri": "https://localhost:8080/",
          "height": 54
        },
        "id": "iOb8NwT2hg2H",
        "outputId": "6f3df179-7047-428f-d98e-24ffca207e1e"
      },
      "execution_count": null,
      "outputs": [
        {
          "output_type": "display_data",
          "data": {
            "text/plain": [
              "<Figure size 640x480 with 1 Axes>"
            ],
            "image/png": "[encoded data removed]"
          },
          "metadata": {}
        }
      ]
    },
    {
      "cell_type": "markdown",
      "source": [
        "### Concave points_mean"
      ],
      "metadata": {
        "id": "Nful6oyztz2k"
      }
    },
    {
      "cell_type": "markdown",
      "source": [
        "Média dos pontos côncavos no contorno da célula (números de pontos côncavos ao longo do contorno da célula). Quanto maior, mais maligno."
      ],
      "metadata": {
        "id": "CcYPCuM7t3gp"
      }
    },
    {
      "cell_type": "code",
      "source": [
        "dado['concave points_mean'].value_counts().sort_index()"
      ],
      "metadata": {
        "colab": {
          "base_uri": "https://localhost:8080/",
          "height": 614
        },
        "collapsed": true,
        "id": "jXX2E6BHY7-i",
        "outputId": "7e7873b6-cb99-46dd-f3f4-f81b445eb919"
      },
      "execution_count": null,
      "outputs": [
        {
          "output_type": "execute_result",
          "data": {
            "text/plain": [
              "concave points_mean\n",
              "0.000000    13\n",
              "0.001852     1\n",
              "0.002404     1\n",
              "0.002924     1\n",
              "0.002941     1\n",
              "            ..\n",
              "0.182300     1\n",
              "0.184500     1\n",
              "0.187800     1\n",
              "0.191300     1\n",
              "0.201200     1\n",
              "Name: count, Length: 542, dtype: int64"
            ],
            "text/html": [
              "<div>\n",
              "<style scoped>\n",
              "    .dataframe tbody tr th:only-of-type {\n",
              "        vertical-align: middle;\n",
              "    }\n",
              "\n",
              "    .dataframe tbody tr th {\n",
              "        vertical-align: top;\n",
              "    }\n",
              "\n",
              "    .dataframe thead th {\n",
              "        text-align: right;\n",
              "    }\n",
              "</style>\n",
              "<table border=\"1\" class=\"dataframe\">\n",
              "  <thead>\n",
              "    <tr style=\"text-align: right;\">\n",
              "      <th></th>\n",
              "      <th>count</th>\n",
              "    </tr>\n",
              "    <tr>\n",
              "      <th>concave points_mean</th>\n",
              "      <th></th>\n",
              "    </tr>\n",
              "  </thead>\n",
              "  <tbody>\n",
              "    <tr>\n",
              "      <th>0.000000</th>\n",
              "      <td>13</td>\n",
              "    </tr>\n",
              "    <tr>\n",
              "      <th>0.001852</th>\n",
              "      <td>1</td>\n",
              "    </tr>\n",
              "    <tr>\n",
              "      <th>0.002404</th>\n",
              "      <td>1</td>\n",
              "    </tr>\n",
              "    <tr>\n",
              "      <th>0.002924</th>\n",
              "      <td>1</td>\n",
              "    </tr>\n",
              "    <tr>\n",
              "      <th>0.002941</th>\n",
              "      <td>1</td>\n",
              "    </tr>\n",
              "    <tr>\n",
              "      <th>...</th>\n",
              "      <td>...</td>\n",
              "    </tr>\n",
              "    <tr>\n",
              "      <th>0.182300</th>\n",
              "      <td>1</td>\n",
              "    </tr>\n",
              "    <tr>\n",
              "      <th>0.184500</th>\n",
              "      <td>1</td>\n",
              "    </tr>\n",
              "    <tr>\n",
              "      <th>0.187800</th>\n",
              "      <td>1</td>\n",
              "    </tr>\n",
              "    <tr>\n",
              "      <th>0.191300</th>\n",
              "      <td>1</td>\n",
              "    </tr>\n",
              "    <tr>\n",
              "      <th>0.201200</th>\n",
              "      <td>1</td>\n",
              "    </tr>\n",
              "  </tbody>\n",
              "</table>\n",
              "<p>542 rows × 1 columns</p>\n",
              "</div><br><label><b>dtype:</b> int64</label>"
            ]
          },
          "metadata": {},
          "execution_count": 20
        }
      ]
    },
    {
      "cell_type": "code",
      "source": [
        "sns.histplot(dado, x='concave points_mean', bins=30, kde=True);"
      ],
      "metadata": {
        "colab": {
          "base_uri": "https://localhost:8080/",
          "height": 54
        },
        "id": "qdcV3NBht86O",
        "outputId": "36a4aa5b-a7e1-49a0-fe04-654be833133c"
      },
      "execution_count": null,
      "outputs": [
        {
          "output_type": "display_data",
          "data": {
            "text/plain": [
              "<Figure size 640x480 with 1 Axes>"
            ],
            "image/png": "[encoded data removed]"
          },
          "metadata": {}
        }
      ]
    },
    {
      "cell_type": "markdown",
      "source": [
        "### Symmetry_mean"
      ],
      "metadata": {
        "id": "23nMIzR9uAwa"
      }
    },
    {
      "cell_type": "markdown",
      "source": [
        "Média da simetria das células, ou o quão simétrico é o contorno da célula em relação ao seu centro. Tumores malignos têm formas menos simétricas."
      ],
      "metadata": {
        "id": "Fk32zfXFujYA"
      }
    },
    {
      "cell_type": "code",
      "source": [
        "dado['symmetry_mean'].value_counts().sort_index()"
      ],
      "metadata": {
        "colab": {
          "base_uri": "https://localhost:8080/",
          "height": 597
        },
        "collapsed": true,
        "id": "o37iEeOkZTjF",
        "outputId": "04c2f313-df56-4152-c328-89748ed2b967"
      },
      "execution_count": null,
      "outputs": [
        {
          "output_type": "execute_result",
          "data": {
            "text/plain": [
              "symmetry_mean\n",
              "0.1060    1\n",
              "0.1167    1\n",
              "0.1203    1\n",
              "0.1215    1\n",
              "0.1220    1\n",
              "         ..\n",
              "0.2655    1\n",
              "0.2678    1\n",
              "0.2743    1\n",
              "0.2906    1\n",
              "0.3040    1\n",
              "Name: count, Length: 432, dtype: int64"
            ],
            "text/html": [
              "<div>\n",
              "<style scoped>\n",
              "    .dataframe tbody tr th:only-of-type {\n",
              "        vertical-align: middle;\n",
              "    }\n",
              "\n",
              "    .dataframe tbody tr th {\n",
              "        vertical-align: top;\n",
              "    }\n",
              "\n",
              "    .dataframe thead th {\n",
              "        text-align: right;\n",
              "    }\n",
              "</style>\n",
              "<table border=\"1\" class=\"dataframe\">\n",
              "  <thead>\n",
              "    <tr style=\"text-align: right;\">\n",
              "      <th></th>\n",
              "      <th>count</th>\n",
              "    </tr>\n",
              "    <tr>\n",
              "      <th>symmetry_mean</th>\n",
              "      <th></th>\n",
              "    </tr>\n",
              "  </thead>\n",
              "  <tbody>\n",
              "    <tr>\n",
              "      <th>0.1060</th>\n",
              "      <td>1</td>\n",
              "    </tr>\n",
              "    <tr>\n",
              "      <th>0.1167</th>\n",
              "      <td>1</td>\n",
              "    </tr>\n",
              "    <tr>\n",
              "      <th>0.1203</th>\n",
              "      <td>1</td>\n",
              "    </tr>\n",
              "    <tr>\n",
              "      <th>0.1215</th>\n",
              "      <td>1</td>\n",
              "    </tr>\n",
              "    <tr>\n",
              "      <th>0.1220</th>\n",
              "      <td>1</td>\n",
              "    </tr>\n",
              "    <tr>\n",
              "      <th>...</th>\n",
              "      <td>...</td>\n",
              "    </tr>\n",
              "    <tr>\n",
              "      <th>0.2655</th>\n",
              "      <td>1</td>\n",
              "    </tr>\n",
              "    <tr>\n",
              "      <th>0.2678</th>\n",
              "      <td>1</td>\n",
              "    </tr>\n",
              "    <tr>\n",
              "      <th>0.2743</th>\n",
              "      <td>1</td>\n",
              "    </tr>\n",
              "    <tr>\n",
              "      <th>0.2906</th>\n",
              "      <td>1</td>\n",
              "    </tr>\n",
              "    <tr>\n",
              "      <th>0.3040</th>\n",
              "      <td>1</td>\n",
              "    </tr>\n",
              "  </tbody>\n",
              "</table>\n",
              "<p>432 rows × 1 columns</p>\n",
              "</div><br><label><b>dtype:</b> int64</label>"
            ]
          },
          "metadata": {},
          "execution_count": 22
        }
      ]
    },
    {
      "cell_type": "code",
      "source": [
        "sns.histplot(dado, x='symmetry_mean', bins=30, kde=True);"
      ],
      "metadata": {
        "colab": {
          "base_uri": "https://localhost:8080/",
          "height": 54
        },
        "id": "QBSw7qrmupnA",
        "outputId": "4c92f8b7-fd57-489c-8b0d-e5c0c151f9fd"
      },
      "execution_count": null,
      "outputs": [
        {
          "output_type": "display_data",
          "data": {
            "text/plain": [
              "<Figure size 640x480 with 1 Axes>"
            ],
            "image/png": "[encoded data removed]"
          },
          "metadata": {}
        }
      ]
    },
    {
      "cell_type": "markdown",
      "source": [
        "### Fractal_dimension_mean"
      ],
      "metadata": {
        "id": "kLTikUGJuuUw"
      }
    },
    {
      "cell_type": "markdown",
      "source": [
        "Descreve a complexidade do contorno da célula (o quão detalhado é o contorno). Tumores malignos tendem a ter uma dimensão fractal maior, com contornos mais complexos e irregulares."
      ],
      "metadata": {
        "id": "hgt8BHm2ux4k"
      }
    },
    {
      "cell_type": "code",
      "source": [
        "dado['fractal_dimension_mean'].value_counts().sort_index()"
      ],
      "metadata": {
        "colab": {
          "base_uri": "https://localhost:8080/",
          "height": 597
        },
        "collapsed": true,
        "id": "KRhivl5FZYnk",
        "outputId": "67c52b5f-b881-4a28-eab2-8ae242f7cf50"
      },
      "execution_count": null,
      "outputs": [
        {
          "output_type": "execute_result",
          "data": {
            "text/plain": [
              "fractal_dimension_mean\n",
              "0.04996    1\n",
              "0.05024    1\n",
              "0.05025    1\n",
              "0.05044    1\n",
              "0.05054    1\n",
              "          ..\n",
              "0.08980    1\n",
              "0.09296    1\n",
              "0.09502    1\n",
              "0.09575    1\n",
              "0.09744    1\n",
              "Name: count, Length: 499, dtype: int64"
            ],
            "text/html": [
              "<div>\n",
              "<style scoped>\n",
              "    .dataframe tbody tr th:only-of-type {\n",
              "        vertical-align: middle;\n",
              "    }\n",
              "\n",
              "    .dataframe tbody tr th {\n",
              "        vertical-align: top;\n",
              "    }\n",
              "\n",
              "    .dataframe thead th {\n",
              "        text-align: right;\n",
              "    }\n",
              "</style>\n",
              "<table border=\"1\" class=\"dataframe\">\n",
              "  <thead>\n",
              "    <tr style=\"text-align: right;\">\n",
              "      <th></th>\n",
              "      <th>count</th>\n",
              "    </tr>\n",
              "    <tr>\n",
              "      <th>fractal_dimension_mean</th>\n",
              "      <th></th>\n",
              "    </tr>\n",
              "  </thead>\n",
              "  <tbody>\n",
              "    <tr>\n",
              "      <th>0.04996</th>\n",
              "      <td>1</td>\n",
              "    </tr>\n",
              "    <tr>\n",
              "      <th>0.05024</th>\n",
              "      <td>1</td>\n",
              "    </tr>\n",
              "    <tr>\n",
              "      <th>0.05025</th>\n",
              "      <td>1</td>\n",
              "    </tr>\n",
              "    <tr>\n",
              "      <th>0.05044</th>\n",
              "      <td>1</td>\n",
              "    </tr>\n",
              "    <tr>\n",
              "      <th>0.05054</th>\n",
              "      <td>1</td>\n",
              "    </tr>\n",
              "    <tr>\n",
              "      <th>...</th>\n",
              "      <td>...</td>\n",
              "    </tr>\n",
              "    <tr>\n",
              "      <th>0.08980</th>\n",
              "      <td>1</td>\n",
              "    </tr>\n",
              "    <tr>\n",
              "      <th>0.09296</th>\n",
              "      <td>1</td>\n",
              "    </tr>\n",
              "    <tr>\n",
              "      <th>0.09502</th>\n",
              "      <td>1</td>\n",
              "    </tr>\n",
              "    <tr>\n",
              "      <th>0.09575</th>\n",
              "      <td>1</td>\n",
              "    </tr>\n",
              "    <tr>\n",
              "      <th>0.09744</th>\n",
              "      <td>1</td>\n",
              "    </tr>\n",
              "  </tbody>\n",
              "</table>\n",
              "<p>499 rows × 1 columns</p>\n",
              "</div><br><label><b>dtype:</b> int64</label>"
            ]
          },
          "metadata": {},
          "execution_count": 24
        }
      ]
    },
    {
      "cell_type": "code",
      "source": [
        "sns.histplot(dado, x='fractal_dimension_mean', bins=30, kde=True);"
      ],
      "metadata": {
        "colab": {
          "base_uri": "https://localhost:8080/",
          "height": 54
        },
        "id": "1KxoIMdHu4sA",
        "outputId": "67998119-f0cd-447e-acdb-39b2209b539f"
      },
      "execution_count": null,
      "outputs": [
        {
          "output_type": "display_data",
          "data": {
            "text/plain": [
              "<Figure size 640x480 with 1 Axes>"
            ],
            "image/png": "[encoded data removed]"
          },
          "metadata": {}
        }
      ]
    },
    {
      "cell_type": "markdown",
      "source": [
        "### Conclusão inicial"
      ],
      "metadata": {
        "id": "sPAQew3SZd_Q"
      }
    },
    {
      "cell_type": "markdown",
      "source": [
        "Boa parte dos dados tendem a ficar próximos a zero, refletindo bastante a quantidade de tumores benignos no dataset. Tumores malignos tendem a ter valores mais altos em praticamente todos os dados."
      ],
      "metadata": {
        "id": "HOzuSdZFu-H1"
      }
    },
    {
      "cell_type": "markdown",
      "source": [
        "## Tratamento"
      ],
      "metadata": {
        "id": "2hW8Mqzmvi6P"
      }
    },
    {
      "cell_type": "code",
      "source": [
        "cancer=dado.iloc[:, 1:12]"
      ],
      "metadata": {
        "id": "T9uw8tO3nSz6"
      },
      "execution_count": null,
      "outputs": []
    },
    {
      "cell_type": "code",
      "source": [
        "cancer.head()"
      ],
      "metadata": {
        "colab": {
          "base_uri": "https://localhost:8080/",
          "height": 244
        },
        "id": "37fwc7OSD4aS",
        "outputId": "c92ac237-5229-45f1-d8a6-917907276af7"
      },
      "execution_count": null,
      "outputs": [
        {
          "output_type": "execute_result",
          "data": {
            "text/plain": [
              "  diagnosis  radius_mean  texture_mean  perimeter_mean  area_mean  \\\n",
              "0         M        17.99         10.38          122.80     1001.0   \n",
              "1         M        20.57         17.77          132.90     1326.0   \n",
              "2         M        19.69         21.25          130.00     1203.0   \n",
              "3         M        11.42         20.38           77.58      386.1   \n",
              "4         M        20.29         14.34          135.10     1297.0   \n",
              "\n",
              "   smoothness_mean  compactness_mean  concavity_mean  concave points_mean  \\\n",
              "0          0.11840           0.27760          0.3001              0.14710   \n",
              "1          0.08474           0.07864          0.0869              0.07017   \n",
              "2          0.10960           0.15990          0.1974              0.12790   \n",
              "3          0.14250           0.28390          0.2414              0.10520   \n",
              "4          0.10030           0.13280          0.1980              0.10430   \n",
              "\n",
              "   symmetry_mean  fractal_dimension_mean  \n",
              "0         0.2419                 0.07871  \n",
              "1         0.1812                 0.05667  \n",
              "2         0.2069                 0.05999  \n",
              "3         0.2597                 0.09744  \n",
              "4         0.1809                 0.05883  "
            ],
            "text/html": [
              "\n",
              "  <div id=\"df-f199b490-8a3d-41aa-b190-a39e96e6f350\" class=\"colab-df-container\">\n",
              "    <div>\n",
              "<style scoped>\n",
              "    .dataframe tbody tr th:only-of-type {\n",
              "        vertical-align: middle;\n",
              "    }\n",
              "\n",
              "    .dataframe tbody tr th {\n",
              "        vertical-align: top;\n",
              "    }\n",
              "\n",
              "    .dataframe thead th {\n",
              "        text-align: right;\n",
              "    }\n",
              "</style>\n",
              "<table border=\"1\" class=\"dataframe\">\n",
              "  <thead>\n",
              "    <tr style=\"text-align: right;\">\n",
              "      <th></th>\n",
              "      <th>diagnosis</th>\n",
              "      <th>radius_mean</th>\n",
              "      <th>texture_mean</th>\n",
              "      <th>perimeter_mean</th>\n",
              "      <th>area_mean</th>\n",
              "      <th>smoothness_mean</th>\n",
              "      <th>compactness_mean</th>\n",
              "      <th>concavity_mean</th>\n",
              "      <th>concave points_mean</th>\n",
              "      <th>symmetry_mean</th>\n",
              "      <th>fractal_dimension_mean</th>\n",
              "    </tr>\n",
              "  </thead>\n",
              "  <tbody>\n",
              "    <tr>\n",
              "      <th>0</th>\n",
              "      <td>M</td>\n",
              "      <td>17.99</td>\n",
              "      <td>10.38</td>\n",
              "      <td>122.80</td>\n",
              "      <td>1001.0</td>\n",
              "      <td>0.11840</td>\n",
              "      <td>0.27760</td>\n",
              "      <td>0.3001</td>\n",
              "      <td>0.14710</td>\n",
              "      <td>0.2419</td>\n",
              "      <td>0.07871</td>\n",
              "    </tr>\n",
              "    <tr>\n",
              "      <th>1</th>\n",
              "      <td>M</td>\n",
              "      <td>20.57</td>\n",
              "      <td>17.77</td>\n",
              "      <td>132.90</td>\n",
              "      <td>1326.0</td>\n",
              "      <td>0.08474</td>\n",
              "      <td>0.07864</td>\n",
              "      <td>0.0869</td>\n",
              "      <td>0.07017</td>\n",
              "      <td>0.1812</td>\n",
              "      <td>0.05667</td>\n",
              "    </tr>\n",
              "    <tr>\n",
              "      <th>2</th>\n",
              "      <td>M</td>\n",
              "      <td>19.69</td>\n",
              "      <td>21.25</td>\n",
              "      <td>130.00</td>\n",
              "      <td>1203.0</td>\n",
              "      <td>0.10960</td>\n",
              "      <td>0.15990</td>\n",
              "      <td>0.1974</td>\n",
              "      <td>0.12790</td>\n",
              "      <td>0.2069</td>\n",
              "      <td>0.05999</td>\n",
              "    </tr>\n",
              "    <tr>\n",
              "      <th>3</th>\n",
              "      <td>M</td>\n",
              "      <td>11.42</td>\n",
              "      <td>20.38</td>\n",
              "      <td>77.58</td>\n",
              "      <td>386.1</td>\n",
              "      <td>0.14250</td>\n",
              "      <td>0.28390</td>\n",
              "      <td>0.2414</td>\n",
              "      <td>0.10520</td>\n",
              "      <td>0.2597</td>\n",
              "      <td>0.09744</td>\n",
              "    </tr>\n",
              "    <tr>\n",
              "      <th>4</th>\n",
              "      <td>M</td>\n",
              "      <td>20.29</td>\n",
              "      <td>14.34</td>\n",
              "      <td>135.10</td>\n",
              "      <td>1297.0</td>\n",
              "      <td>0.10030</td>\n",
              "      <td>0.13280</td>\n",
              "      <td>0.1980</td>\n",
              "      <td>0.10430</td>\n",
              "      <td>0.1809</td>\n",
              "      <td>0.05883</td>\n",
              "    </tr>\n",
              "  </tbody>\n",
              "</table>\n",
              "</div>\n",
              "    <div class=\"colab-df-buttons\">\n",
              "\n",
              "  <div class=\"colab-df-container\">\n",
              "    <button class=\"colab-df-convert\" onclick=\"convertToInteractive('df-f199b490-8a3d-41aa-b190-a39e96e6f350')\"\n",
              "            title=\"Convert this dataframe to an interactive table.\"\n",
              "            style=\"display:none;\">\n",
              "\n",
              "  <svg xmlns=\"http://www.w3.org/2000/svg\" height=\"24px\" viewBox=\"0 -960 960 960\">\n",
              "    <path d=\"M120-120v-720h720v720H120Zm60-500h600v-160H180v160Zm220 220h160v-160H400v160Zm0 220h160v-160H400v160ZM180-400h160v-160H180v160Zm440 0h160v-160H620v160ZM180-180h160v-160H180v160Zm440 0h160v-160H620v160Z\"/>\n",
              "  </svg>\n",
              "    </button>\n",
              "\n",
              "  <style>\n",
              "    .colab-df-container {\n",
              "      display:flex;\n",
              "      gap: 12px;\n",
              "    }\n",
              "\n",
              "    .colab-df-convert {\n",
              "      background-color: #E8F0FE;\n",
              "      border: none;\n",
              "      border-radius: 50%;\n",
              "      cursor: pointer;\n",
              "      display: none;\n",
              "      fill: #1967D2;\n",
              "      height: 32px;\n",
              "      padding: 0 0 0 0;\n",
              "      width: 32px;\n",
              "    }\n",
              "\n",
              "    .colab-df-convert:hover {\n",
              "      background-color: #E2EBFA;\n",
              "      box-shadow: 0px 1px 2px rgba(60, 64, 67, 0.3), 0px 1px 3px 1px rgba(60, 64, 67, 0.15);\n",
              "      fill: #174EA6;\n",
              "    }\n",
              "\n",
              "    .colab-df-buttons div {\n",
              "      margin-bottom: 4px;\n",
              "    }\n",
              "\n",
              "    [theme=dark] .colab-df-convert {\n",
              "      background-color: #3B4455;\n",
              "      fill: #D2E3FC;\n",
              "    }\n",
              "\n",
              "    [theme=dark] .colab-df-convert:hover {\n",
              "      background-color: #434B5C;\n",
              "      box-shadow: 0px 1px 3px 1px rgba(0, 0, 0, 0.15);\n",
              "      filter: drop-shadow(0px 1px 2px rgba(0, 0, 0, 0.3));\n",
              "      fill: #FFFFFF;\n",
              "    }\n",
              "  </style>\n",
              "\n",
              "    <script>\n",
              "      const buttonEl =\n",
              "        document.querySelector('#df-f199b490-8a3d-41aa-b190-a39e96e6f350 button.colab-df-convert');\n",
              "      buttonEl.style.display =\n",
              "        google.colab.kernel.accessAllowed ? 'block' : 'none';\n",
              "\n",
              "      async function convertToInteractive(key) {\n",
              "        const element = document.querySelector('#df-f199b490-8a3d-41aa-b190-a39e96e6f350');\n",
              "        const dataTable =\n",
              "          await google.colab.kernel.invokeFunction('convertToInteractive',\n",
              "                                                    [key], {});\n",
              "        if (!dataTable) return;\n",
              "\n",
              "        const docLinkHtml = 'Like what you see? Visit the ' +\n",
              "          '<a target=\"_blank\" href=https://colab.research.google.com/notebooks/data_table.ipynb>data table notebook</a>'\n",
              "          + ' to learn more about interactive tables.';\n",
              "        element.innerHTML = '';\n",
              "        dataTable['output_type'] = 'display_data';\n",
              "        await google.colab.output.renderOutput(dataTable, element);\n",
              "        const docLink = document.createElement('div');\n",
              "        docLink.innerHTML = docLinkHtml;\n",
              "        element.appendChild(docLink);\n",
              "      }\n",
              "    </script>\n",
              "  </div>\n",
              "\n",
              "\n",
              "<div id=\"df-e183b52b-1a4e-430d-87db-f8db9df309cd\">\n",
              "  <button class=\"colab-df-quickchart\" onclick=\"quickchart('df-e183b52b-1a4e-430d-87db-f8db9df309cd')\"\n",
              "            title=\"Suggest charts\"\n",
              "            style=\"display:none;\">\n",
              "\n",
              "<svg xmlns=\"http://www.w3.org/2000/svg\" height=\"24px\"viewBox=\"0 0 24 24\"\n",
              "     width=\"24px\">\n",
              "    <g>\n",
              "        <path d=\"M19 3H5c-1.1 0-2 .9-2 2v14c0 1.1.9 2 2 2h14c1.1 0 2-.9 2-2V5c0-1.1-.9-2-2-2zM9 17H7v-7h2v7zm4 0h-2V7h2v10zm4 0h-2v-4h2v4z\"/>\n",
              "    </g>\n",
              "</svg>\n",
              "  </button>\n",
              "\n",
              "<style>\n",
              "  .colab-df-quickchart {\n",
              "      --bg-color: #E8F0FE;\n",
              "      --fill-color: #1967D2;\n",
              "      --hover-bg-color: #E2EBFA;\n",
              "      --hover-fill-color: #174EA6;\n",
              "      --disabled-fill-color: #AAA;\n",
              "      --disabled-bg-color: #DDD;\n",
              "  }\n",
              "\n",
              "  [theme=dark] .colab-df-quickchart {\n",
              "      --bg-color: #3B4455;\n",
              "      --fill-color: #D2E3FC;\n",
              "      --hover-bg-color: #434B5C;\n",
              "      --hover-fill-color: #FFFFFF;\n",
              "      --disabled-bg-color: #3B4455;\n",
              "      --disabled-fill-color: #666;\n",
              "  }\n",
              "\n",
              "  .colab-df-quickchart {\n",
              "    background-color: var(--bg-color);\n",
              "    border: none;\n",
              "    border-radius: 50%;\n",
              "    cursor: pointer;\n",
              "    display: none;\n",
              "    fill: var(--fill-color);\n",
              "    height: 32px;\n",
              "    padding: 0;\n",
              "    width: 32px;\n",
              "  }\n",
              "\n",
              "  .colab-df-quickchart:hover {\n",
              "    background-color: var(--hover-bg-color);\n",
              "    box-shadow: 0 1px 2px rgba(60, 64, 67, 0.3), 0 1px 3px 1px rgba(60, 64, 67, 0.15);\n",
              "    fill: var(--button-hover-fill-color);\n",
              "  }\n",
              "\n",
              "  .colab-df-quickchart-complete:disabled,\n",
              "  .colab-df-quickchart-complete:disabled:hover {\n",
              "    background-color: var(--disabled-bg-color);\n",
              "    fill: var(--disabled-fill-color);\n",
              "    box-shadow: none;\n",
              "  }\n",
              "\n",
              "  .colab-df-spinner {\n",
              "    border: 2px solid var(--fill-color);\n",
              "    border-color: transparent;\n",
              "    border-bottom-color: var(--fill-color);\n",
              "    animation:\n",
              "      spin 1s steps(1) infinite;\n",
              "  }\n",
              "\n",
              "  @keyframes spin {\n",
              "    0% {\n",
              "      border-color: transparent;\n",
              "      border-bottom-color: var(--fill-color);\n",
              "      border-left-color: var(--fill-color);\n",
              "    }\n",
              "    20% {\n",
              "      border-color: transparent;\n",
              "      border-left-color: var(--fill-color);\n",
              "      border-top-color: var(--fill-color);\n",
              "    }\n",
              "    30% {\n",
              "      border-color: transparent;\n",
              "      border-left-color: var(--fill-color);\n",
              "      border-top-color: var(--fill-color);\n",
              "      border-right-color: var(--fill-color);\n",
              "    }\n",
              "    40% {\n",
              "      border-color: transparent;\n",
              "      border-right-color: var(--fill-color);\n",
              "      border-top-color: var(--fill-color);\n",
              "    }\n",
              "    60% {\n",
              "      border-color: transparent;\n",
              "      border-right-color: var(--fill-color);\n",
              "    }\n",
              "    80% {\n",
              "      border-color: transparent;\n",
              "      border-right-color: var(--fill-color);\n",
              "      border-bottom-color: var(--fill-color);\n",
              "    }\n",
              "    90% {\n",
              "      border-color: transparent;\n",
              "      border-bottom-color: var(--fill-color);\n",
              "    }\n",
              "  }\n",
              "</style>\n",
              "\n",
              "  <script>\n",
              "    async function quickchart(key) {\n",
              "      const quickchartButtonEl =\n",
              "        document.querySelector('#' + key + ' button');\n",
              "      quickchartButtonEl.disabled = true;  // To prevent multiple clicks.\n",
              "      quickchartButtonEl.classList.add('colab-df-spinner');\n",
              "      try {\n",
              "        const charts = await google.colab.kernel.invokeFunction(\n",
              "            'suggestCharts', [key], {});\n",
              "      } catch (error) {\n",
              "        console.error('Error during call to suggestCharts:', error);\n",
              "      }\n",
              "      quickchartButtonEl.classList.remove('colab-df-spinner');\n",
              "      quickchartButtonEl.classList.add('colab-df-quickchart-complete');\n",
              "    }\n",
              "    (() => {\n",
              "      let quickchartButtonEl =\n",
              "        document.querySelector('#df-e183b52b-1a4e-430d-87db-f8db9df309cd button');\n",
              "      quickchartButtonEl.style.display =\n",
              "        google.colab.kernel.accessAllowed ? 'block' : 'none';\n",
              "    })();\n",
              "  </script>\n",
              "</div>\n",
              "\n",
              "    </div>\n",
              "  </div>\n"
            ],
            "application/vnd.google.colaboratory.intrinsic+json": {
              "type": "dataframe",
              "variable_name": "cancer",
              "summary": "{\n  \"name\": \"cancer\",\n  \"rows\": 569,\n  \"fields\": [\n    {\n      \"column\": \"diagnosis\",\n      \"properties\": {\n        \"dtype\": \"category\",\n        \"num_unique_values\": 2,\n        \"samples\": [\n          \"B\",\n          \"M\"\n        ],\n        \"semantic_type\": \"\",\n        \"description\": \"\"\n      }\n    },\n    {\n      \"column\": \"radius_mean\",\n      \"properties\": {\n        \"dtype\": \"number\",\n        \"std\": 3.5240488262120775,\n        \"min\": 6.981,\n        \"max\": 28.11,\n        \"num_unique_values\": 456,\n        \"samples\": [\n          11.87,\n          13.44\n        ],\n        \"semantic_type\": \"\",\n        \"description\": \"\"\n      }\n    },\n    {\n      \"column\": \"texture_mean\",\n      \"properties\": {\n        \"dtype\": \"number\",\n        \"std\": 4.301035768166949,\n        \"min\": 9.71,\n        \"max\": 39.28,\n        \"num_unique_values\": 479,\n        \"samples\": [\n          17.84,\n          17.07\n        ],\n        \"semantic_type\": \"\",\n        \"description\": \"\"\n      }\n    },\n    {\n      \"column\": \"perimeter_mean\",\n      \"properties\": {\n        \"dtype\": \"number\",\n        \"std\": 24.298981038754906,\n        \"min\": 43.79,\n        \"max\": 188.5,\n        \"num_unique_values\": 522,\n        \"samples\": [\n          92.25,\n          76.38\n        ],\n        \"semantic_type\": \"\",\n        \"description\": \"\"\n      }\n    },\n    {\n      \"column\": \"area_mean\",\n      \"properties\": {\n        \"dtype\": \"number\",\n        \"std\": 351.914129181653,\n        \"min\": 143.5,\n        \"max\": 2501.0,\n        \"num_unique_values\": 539,\n        \"samples\": [\n          556.7,\n          584.1\n        ],\n        \"semantic_type\": \"\",\n        \"description\": \"\"\n      }\n    },\n    {\n      \"column\": \"smoothness_mean\",\n      \"properties\": {\n        \"dtype\": \"number\",\n        \"std\": 0.01406412813767362,\n        \"min\": 0.05263,\n        \"max\": 0.1634,\n        \"num_unique_values\": 474,\n        \"samples\": [\n          0.09427,\n          0.09003\n        ],\n        \"semantic_type\": \"\",\n        \"description\": \"\"\n      }\n    },\n    {\n      \"column\": \"compactness_mean\",\n      \"properties\": {\n        \"dtype\": \"number\",\n        \"std\": 0.052812757932512194,\n        \"min\": 0.01938,\n        \"max\": 0.3454,\n        \"num_unique_values\": 537,\n        \"samples\": [\n          0.1661,\n          0.128\n        ],\n        \"semantic_type\": \"\",\n        \"description\": \"\"\n      }\n    },\n    {\n      \"column\": \"concavity_mean\",\n      \"properties\": {\n        \"dtype\": \"number\",\n        \"std\": 0.07971980870789348,\n        \"min\": 0.0,\n        \"max\": 0.4268,\n        \"num_unique_values\": 537,\n        \"samples\": [\n          0.1411,\n          0.03372\n        ],\n        \"semantic_type\": \"\",\n        \"description\": \"\"\n      }\n    },\n    {\n      \"column\": \"concave points_mean\",\n      \"properties\": {\n        \"dtype\": \"number\",\n        \"std\": 0.038802844859153605,\n        \"min\": 0.0,\n        \"max\": 0.2012,\n        \"num_unique_values\": 542,\n        \"samples\": [\n          0.1255,\n          0.05069\n        ],\n        \"semantic_type\": \"\",\n        \"description\": \"\"\n      }\n    },\n    {\n      \"column\": \"symmetry_mean\",\n      \"properties\": {\n        \"dtype\": \"number\",\n        \"std\": 0.027414281336035715,\n        \"min\": 0.106,\n        \"max\": 0.304,\n        \"num_unique_values\": 432,\n        \"samples\": [\n          0.1742,\n          0.1829\n        ],\n        \"semantic_type\": \"\",\n        \"description\": \"\"\n      }\n    },\n    {\n      \"column\": \"fractal_dimension_mean\",\n      \"properties\": {\n        \"dtype\": \"number\",\n        \"std\": 0.007060362795084459,\n        \"min\": 0.04996,\n        \"max\": 0.09744,\n        \"num_unique_values\": 499,\n        \"samples\": [\n          0.06739,\n          0.05914\n        ],\n        \"semantic_type\": \"\",\n        \"description\": \"\"\n      }\n    }\n  ]\n}"
            }
          },
          "metadata": {},
          "execution_count": 27
        }
      ]
    },
    {
      "cell_type": "code",
      "source": [
        "cancer.isnull().sum()"
      ],
      "metadata": {
        "colab": {
          "base_uri": "https://localhost:8080/",
          "height": 467
        },
        "id": "odsdebXVg_ha",
        "outputId": "409f33c2-9b0a-48eb-ab3b-2cce834adb49"
      },
      "execution_count": null,
      "outputs": [
        {
          "output_type": "execute_result",
          "data": {
            "text/plain": [
              "diagnosis                 0\n",
              "radius_mean               0\n",
              "texture_mean              0\n",
              "perimeter_mean            0\n",
              "area_mean                 0\n",
              "smoothness_mean           0\n",
              "compactness_mean          0\n",
              "concavity_mean            0\n",
              "concave points_mean       0\n",
              "symmetry_mean             0\n",
              "fractal_dimension_mean    0\n",
              "dtype: int64"
            ],
            "text/html": [
              "<div>\n",
              "<style scoped>\n",
              "    .dataframe tbody tr th:only-of-type {\n",
              "        vertical-align: middle;\n",
              "    }\n",
              "\n",
              "    .dataframe tbody tr th {\n",
              "        vertical-align: top;\n",
              "    }\n",
              "\n",
              "    .dataframe thead th {\n",
              "        text-align: right;\n",
              "    }\n",
              "</style>\n",
              "<table border=\"1\" class=\"dataframe\">\n",
              "  <thead>\n",
              "    <tr style=\"text-align: right;\">\n",
              "      <th></th>\n",
              "      <th>0</th>\n",
              "    </tr>\n",
              "  </thead>\n",
              "  <tbody>\n",
              "    <tr>\n",
              "      <th>diagnosis</th>\n",
              "      <td>0</td>\n",
              "    </tr>\n",
              "    <tr>\n",
              "      <th>radius_mean</th>\n",
              "      <td>0</td>\n",
              "    </tr>\n",
              "    <tr>\n",
              "      <th>texture_mean</th>\n",
              "      <td>0</td>\n",
              "    </tr>\n",
              "    <tr>\n",
              "      <th>perimeter_mean</th>\n",
              "      <td>0</td>\n",
              "    </tr>\n",
              "    <tr>\n",
              "      <th>area_mean</th>\n",
              "      <td>0</td>\n",
              "    </tr>\n",
              "    <tr>\n",
              "      <th>smoothness_mean</th>\n",
              "      <td>0</td>\n",
              "    </tr>\n",
              "    <tr>\n",
              "      <th>compactness_mean</th>\n",
              "      <td>0</td>\n",
              "    </tr>\n",
              "    <tr>\n",
              "      <th>concavity_mean</th>\n",
              "      <td>0</td>\n",
              "    </tr>\n",
              "    <tr>\n",
              "      <th>concave points_mean</th>\n",
              "      <td>0</td>\n",
              "    </tr>\n",
              "    <tr>\n",
              "      <th>symmetry_mean</th>\n",
              "      <td>0</td>\n",
              "    </tr>\n",
              "    <tr>\n",
              "      <th>fractal_dimension_mean</th>\n",
              "      <td>0</td>\n",
              "    </tr>\n",
              "  </tbody>\n",
              "</table>\n",
              "</div><br><label><b>dtype:</b> int64</label>"
            ]
          },
          "metadata": {},
          "execution_count": 28
        }
      ]
    },
    {
      "cell_type": "code",
      "source": [
        "cancer.describe()"
      ],
      "metadata": {
        "colab": {
          "base_uri": "https://localhost:8080/",
          "height": 338
        },
        "id": "vL5aCzwthHUd",
        "outputId": "513482bd-a1f5-4183-9064-dabfefa4c50f"
      },
      "execution_count": null,
      "outputs": [
        {
          "output_type": "execute_result",
          "data": {
            "text/plain": [
              "       radius_mean  texture_mean  perimeter_mean    area_mean  \\\n",
              "count   569.000000    569.000000      569.000000   569.000000   \n",
              "mean     14.127292     19.289649       91.969033   654.889104   \n",
              "std       3.524049      4.301036       24.298981   351.914129   \n",
              "min       6.981000      9.710000       43.790000   143.500000   \n",
              "25%      11.700000     16.170000       75.170000   420.300000   \n",
              "50%      13.370000     18.840000       86.240000   551.100000   \n",
              "75%      15.780000     21.800000      104.100000   782.700000   \n",
              "max      28.110000     39.280000      188.500000  2501.000000   \n",
              "\n",
              "       smoothness_mean  compactness_mean  concavity_mean  concave points_mean  \\\n",
              "count       569.000000        569.000000      569.000000           569.000000   \n",
              "mean          0.096360          0.104341        0.088799             0.048919   \n",
              "std           0.014064          0.052813        0.079720             0.038803   \n",
              "min           0.052630          0.019380        0.000000             0.000000   \n",
              "25%           0.086370          0.064920        0.029560             0.020310   \n",
              "50%           0.095870          0.092630        0.061540             0.033500   \n",
              "75%           0.105300          0.130400        0.130700             0.074000   \n",
              "max           0.163400          0.345400        0.426800             0.201200   \n",
              "\n",
              "       symmetry_mean  fractal_dimension_mean  \n",
              "count     569.000000              569.000000  \n",
              "mean        0.181162                0.062798  \n",
              "std         0.027414                0.007060  \n",
              "min         0.106000                0.049960  \n",
              "25%         0.161900                0.057700  \n",
              "50%         0.179200                0.061540  \n",
              "75%         0.195700                0.066120  \n",
              "max         0.304000                0.097440  "
            ],
            "text/html": [
              "\n",
              "  <div id=\"df-426b6cd3-f0ed-4d9d-94f9-2faab6f5d1fb\" class=\"colab-df-container\">\n",
              "    <div>\n",
              "<style scoped>\n",
              "    .dataframe tbody tr th:only-of-type {\n",
              "        vertical-align: middle;\n",
              "    }\n",
              "\n",
              "    .dataframe tbody tr th {\n",
              "        vertical-align: top;\n",
              "    }\n",
              "\n",
              "    .dataframe thead th {\n",
              "        text-align: right;\n",
              "    }\n",
              "</style>\n",
              "<table border=\"1\" class=\"dataframe\">\n",
              "  <thead>\n",
              "    <tr style=\"text-align: right;\">\n",
              "      <th></th>\n",
              "      <th>radius_mean</th>\n",
              "      <th>texture_mean</th>\n",
              "      <th>perimeter_mean</th>\n",
              "      <th>area_mean</th>\n",
              "      <th>smoothness_mean</th>\n",
              "      <th>compactness_mean</th>\n",
              "      <th>concavity_mean</th>\n",
              "      <th>concave points_mean</th>\n",
              "      <th>symmetry_mean</th>\n",
              "      <th>fractal_dimension_mean</th>\n",
              "    </tr>\n",
              "  </thead>\n",
              "  <tbody>\n",
              "    <tr>\n",
              "      <th>count</th>\n",
              "      <td>569.000000</td>\n",
              "      <td>569.000000</td>\n",
              "      <td>569.000000</td>\n",
              "      <td>569.000000</td>\n",
              "      <td>569.000000</td>\n",
              "      <td>569.000000</td>\n",
              "      <td>569.000000</td>\n",
              "      <td>569.000000</td>\n",
              "      <td>569.000000</td>\n",
              "      <td>569.000000</td>\n",
              "    </tr>\n",
              "    <tr>\n",
              "      <th>mean</th>\n",
              "      <td>14.127292</td>\n",
              "      <td>19.289649</td>\n",
              "      <td>91.969033</td>\n",
              "      <td>654.889104</td>\n",
              "      <td>0.096360</td>\n",
              "      <td>0.104341</td>\n",
              "      <td>0.088799</td>\n",
              "      <td>0.048919</td>\n",
              "      <td>0.181162</td>\n",
              "      <td>0.062798</td>\n",
              "    </tr>\n",
              "    <tr>\n",
              "      <th>std</th>\n",
              "      <td>3.524049</td>\n",
              "      <td>4.301036</td>\n",
              "      <td>24.298981</td>\n",
              "      <td>351.914129</td>\n",
              "      <td>0.014064</td>\n",
              "      <td>0.052813</td>\n",
              "      <td>0.079720</td>\n",
              "      <td>0.038803</td>\n",
              "      <td>0.027414</td>\n",
              "      <td>0.007060</td>\n",
              "    </tr>\n",
              "    <tr>\n",
              "      <th>min</th>\n",
              "      <td>6.981000</td>\n",
              "      <td>9.710000</td>\n",
              "      <td>43.790000</td>\n",
              "      <td>143.500000</td>\n",
              "      <td>0.052630</td>\n",
              "      <td>0.019380</td>\n",
              "      <td>0.000000</td>\n",
              "      <td>0.000000</td>\n",
              "      <td>0.106000</td>\n",
              "      <td>0.049960</td>\n",
              "    </tr>\n",
              "    <tr>\n",
              "      <th>25%</th>\n",
              "      <td>11.700000</td>\n",
              "      <td>16.170000</td>\n",
              "      <td>75.170000</td>\n",
              "      <td>420.300000</td>\n",
              "      <td>0.086370</td>\n",
              "      <td>0.064920</td>\n",
              "      <td>0.029560</td>\n",
              "      <td>0.020310</td>\n",
              "      <td>0.161900</td>\n",
              "      <td>0.057700</td>\n",
              "    </tr>\n",
              "    <tr>\n",
              "      <th>50%</th>\n",
              "      <td>13.370000</td>\n",
              "      <td>18.840000</td>\n",
              "      <td>86.240000</td>\n",
              "      <td>551.100000</td>\n",
              "      <td>0.095870</td>\n",
              "      <td>0.092630</td>\n",
              "      <td>0.061540</td>\n",
              "      <td>0.033500</td>\n",
              "      <td>0.179200</td>\n",
              "      <td>0.061540</td>\n",
              "    </tr>\n",
              "    <tr>\n",
              "      <th>75%</th>\n",
              "      <td>15.780000</td>\n",
              "      <td>21.800000</td>\n",
              "      <td>104.100000</td>\n",
              "      <td>782.700000</td>\n",
              "      <td>0.105300</td>\n",
              "      <td>0.130400</td>\n",
              "      <td>0.130700</td>\n",
              "      <td>0.074000</td>\n",
              "      <td>0.195700</td>\n",
              "      <td>0.066120</td>\n",
              "    </tr>\n",
              "    <tr>\n",
              "      <th>max</th>\n",
              "      <td>28.110000</td>\n",
              "      <td>39.280000</td>\n",
              "      <td>188.500000</td>\n",
              "      <td>2501.000000</td>\n",
              "      <td>0.163400</td>\n",
              "      <td>0.345400</td>\n",
              "      <td>0.426800</td>\n",
              "      <td>0.201200</td>\n",
              "      <td>0.304000</td>\n",
              "      <td>0.097440</td>\n",
              "    </tr>\n",
              "  </tbody>\n",
              "</table>\n",
              "</div>\n",
              "    <div class=\"colab-df-buttons\">\n",
              "\n",
              "  <div class=\"colab-df-container\">\n",
              "    <button class=\"colab-df-convert\" onclick=\"convertToInteractive('df-426b6cd3-f0ed-4d9d-94f9-2faab6f5d1fb')\"\n",
              "            title=\"Convert this dataframe to an interactive table.\"\n",
              "            style=\"display:none;\">\n",
              "\n",
              "  <svg xmlns=\"http://www.w3.org/2000/svg\" height=\"24px\" viewBox=\"0 -960 960 960\">\n",
              "    <path d=\"M120-120v-720h720v720H120Zm60-500h600v-160H180v160Zm220 220h160v-160H400v160Zm0 220h160v-160H400v160ZM180-400h160v-160H180v160Zm440 0h160v-160H620v160ZM180-180h160v-160H180v160Zm440 0h160v-160H620v160Z\"/>\n",
              "  </svg>\n",
              "    </button>\n",
              "\n",
              "  <style>\n",
              "    .colab-df-container {\n",
              "      display:flex;\n",
              "      gap: 12px;\n",
              "    }\n",
              "\n",
              "    .colab-df-convert {\n",
              "      background-color: #E8F0FE;\n",
              "      border: none;\n",
              "      border-radius: 50%;\n",
              "      cursor: pointer;\n",
              "      display: none;\n",
              "      fill: #1967D2;\n",
              "      height: 32px;\n",
              "      padding: 0 0 0 0;\n",
              "      width: 32px;\n",
              "    }\n",
              "\n",
              "    .colab-df-convert:hover {\n",
              "      background-color: #E2EBFA;\n",
              "      box-shadow: 0px 1px 2px rgba(60, 64, 67, 0.3), 0px 1px 3px 1px rgba(60, 64, 67, 0.15);\n",
              "      fill: #174EA6;\n",
              "    }\n",
              "\n",
              "    .colab-df-buttons div {\n",
              "      margin-bottom: 4px;\n",
              "    }\n",
              "\n",
              "    [theme=dark] .colab-df-convert {\n",
              "      background-color: #3B4455;\n",
              "      fill: #D2E3FC;\n",
              "    }\n",
              "\n",
              "    [theme=dark] .colab-df-convert:hover {\n",
              "      background-color: #434B5C;\n",
              "      box-shadow: 0px 1px 3px 1px rgba(0, 0, 0, 0.15);\n",
              "      filter: drop-shadow(0px 1px 2px rgba(0, 0, 0, 0.3));\n",
              "      fill: #FFFFFF;\n",
              "    }\n",
              "  </style>\n",
              "\n",
              "    <script>\n",
              "      const buttonEl =\n",
              "        document.querySelector('#df-426b6cd3-f0ed-4d9d-94f9-2faab6f5d1fb button.colab-df-convert');\n",
              "      buttonEl.style.display =\n",
              "        google.colab.kernel.accessAllowed ? 'block' : 'none';\n",
              "\n",
              "      async function convertToInteractive(key) {\n",
              "        const element = document.querySelector('#df-426b6cd3-f0ed-4d9d-94f9-2faab6f5d1fb');\n",
              "        const dataTable =\n",
              "          await google.colab.kernel.invokeFunction('convertToInteractive',\n",
              "                                                    [key], {});\n",
              "        if (!dataTable) return;\n",
              "\n",
              "        const docLinkHtml = 'Like what you see? Visit the ' +\n",
              "          '<a target=\"_blank\" href=https://colab.research.google.com/notebooks/data_table.ipynb>data table notebook</a>'\n",
              "          + ' to learn more about interactive tables.';\n",
              "        element.innerHTML = '';\n",
              "        dataTable['output_type'] = 'display_data';\n",
              "        await google.colab.output.renderOutput(dataTable, element);\n",
              "        const docLink = document.createElement('div');\n",
              "        docLink.innerHTML = docLinkHtml;\n",
              "        element.appendChild(docLink);\n",
              "      }\n",
              "    </script>\n",
              "  </div>\n",
              "\n",
              "\n",
              "<div id=\"df-ec139c9f-4313-4eaf-bc9c-d1619e453b0c\">\n",
              "  <button class=\"colab-df-quickchart\" onclick=\"quickchart('df-ec139c9f-4313-4eaf-bc9c-d1619e453b0c')\"\n",
              "            title=\"Suggest charts\"\n",
              "            style=\"display:none;\">\n",
              "\n",
              "<svg xmlns=\"http://www.w3.org/2000/svg\" height=\"24px\"viewBox=\"0 0 24 24\"\n",
              "     width=\"24px\">\n",
              "    <g>\n",
              "        <path d=\"M19 3H5c-1.1 0-2 .9-2 2v14c0 1.1.9 2 2 2h14c1.1 0 2-.9 2-2V5c0-1.1-.9-2-2-2zM9 17H7v-7h2v7zm4 0h-2V7h2v10zm4 0h-2v-4h2v4z\"/>\n",
              "    </g>\n",
              "</svg>\n",
              "  </button>\n",
              "\n",
              "<style>\n",
              "  .colab-df-quickchart {\n",
              "      --bg-color: #E8F0FE;\n",
              "      --fill-color: #1967D2;\n",
              "      --hover-bg-color: #E2EBFA;\n",
              "      --hover-fill-color: #174EA6;\n",
              "      --disabled-fill-color: #AAA;\n",
              "      --disabled-bg-color: #DDD;\n",
              "  }\n",
              "\n",
              "  [theme=dark] .colab-df-quickchart {\n",
              "      --bg-color: #3B4455;\n",
              "      --fill-color: #D2E3FC;\n",
              "      --hover-bg-color: #434B5C;\n",
              "      --hover-fill-color: #FFFFFF;\n",
              "      --disabled-bg-color: #3B4455;\n",
              "      --disabled-fill-color: #666;\n",
              "  }\n",
              "\n",
              "  .colab-df-quickchart {\n",
              "    background-color: var(--bg-color);\n",
              "    border: none;\n",
              "    border-radius: 50%;\n",
              "    cursor: pointer;\n",
              "    display: none;\n",
              "    fill: var(--fill-color);\n",
              "    height: 32px;\n",
              "    padding: 0;\n",
              "    width: 32px;\n",
              "  }\n",
              "\n",
              "  .colab-df-quickchart:hover {\n",
              "    background-color: var(--hover-bg-color);\n",
              "    box-shadow: 0 1px 2px rgba(60, 64, 67, 0.3), 0 1px 3px 1px rgba(60, 64, 67, 0.15);\n",
              "    fill: var(--button-hover-fill-color);\n",
              "  }\n",
              "\n",
              "  .colab-df-quickchart-complete:disabled,\n",
              "  .colab-df-quickchart-complete:disabled:hover {\n",
              "    background-color: var(--disabled-bg-color);\n",
              "    fill: var(--disabled-fill-color);\n",
              "    box-shadow: none;\n",
              "  }\n",
              "\n",
              "  .colab-df-spinner {\n",
              "    border: 2px solid var(--fill-color);\n",
              "    border-color: transparent;\n",
              "    border-bottom-color: var(--fill-color);\n",
              "    animation:\n",
              "      spin 1s steps(1) infinite;\n",
              "  }\n",
              "\n",
              "  @keyframes spin {\n",
              "    0% {\n",
              "      border-color: transparent;\n",
              "      border-bottom-color: var(--fill-color);\n",
              "      border-left-color: var(--fill-color);\n",
              "    }\n",
              "    20% {\n",
              "      border-color: transparent;\n",
              "      border-left-color: var(--fill-color);\n",
              "      border-top-color: var(--fill-color);\n",
              "    }\n",
              "    30% {\n",
              "      border-color: transparent;\n",
              "      border-left-color: var(--fill-color);\n",
              "      border-top-color: var(--fill-color);\n",
              "      border-right-color: var(--fill-color);\n",
              "    }\n",
              "    40% {\n",
              "      border-color: transparent;\n",
              "      border-right-color: var(--fill-color);\n",
              "      border-top-color: var(--fill-color);\n",
              "    }\n",
              "    60% {\n",
              "      border-color: transparent;\n",
              "      border-right-color: var(--fill-color);\n",
              "    }\n",
              "    80% {\n",
              "      border-color: transparent;\n",
              "      border-right-color: var(--fill-color);\n",
              "      border-bottom-color: var(--fill-color);\n",
              "    }\n",
              "    90% {\n",
              "      border-color: transparent;\n",
              "      border-bottom-color: var(--fill-color);\n",
              "    }\n",
              "  }\n",
              "</style>\n",
              "\n",
              "  <script>\n",
              "    async function quickchart(key) {\n",
              "      const quickchartButtonEl =\n",
              "        document.querySelector('#' + key + ' button');\n",
              "      quickchartButtonEl.disabled = true;  // To prevent multiple clicks.\n",
              "      quickchartButtonEl.classList.add('colab-df-spinner');\n",
              "      try {\n",
              "        const charts = await google.colab.kernel.invokeFunction(\n",
              "            'suggestCharts', [key], {});\n",
              "      } catch (error) {\n",
              "        console.error('Error during call to suggestCharts:', error);\n",
              "      }\n",
              "      quickchartButtonEl.classList.remove('colab-df-spinner');\n",
              "      quickchartButtonEl.classList.add('colab-df-quickchart-complete');\n",
              "    }\n",
              "    (() => {\n",
              "      let quickchartButtonEl =\n",
              "        document.querySelector('#df-ec139c9f-4313-4eaf-bc9c-d1619e453b0c button');\n",
              "      quickchartButtonEl.style.display =\n",
              "        google.colab.kernel.accessAllowed ? 'block' : 'none';\n",
              "    })();\n",
              "  </script>\n",
              "</div>\n",
              "\n",
              "    </div>\n",
              "  </div>\n"
            ],
            "application/vnd.google.colaboratory.intrinsic+json": {
              "type": "dataframe",
              "summary": "{\n  \"name\": \"cancer\",\n  \"rows\": 8,\n  \"fields\": [\n    {\n      \"column\": \"radius_mean\",\n      \"properties\": {\n        \"dtype\": \"number\",\n        \"std\": 196.57713310952695,\n        \"min\": 3.5240488262120775,\n        \"max\": 569.0,\n        \"num_unique_values\": 8,\n        \"samples\": [\n          14.127291739894552,\n          13.37,\n          569.0\n        ],\n        \"semantic_type\": \"\",\n        \"description\": \"\"\n      }\n    },\n    {\n      \"column\": \"texture_mean\",\n      \"properties\": {\n        \"dtype\": \"number\",\n        \"std\": 194.9035486604395,\n        \"min\": 4.301035768166949,\n        \"max\": 569.0,\n        \"num_unique_values\": 8,\n        \"samples\": [\n          19.289648506151142,\n          18.84,\n          569.0\n        ],\n        \"semantic_type\": \"\",\n        \"description\": \"\"\n      }\n    },\n    {\n      \"column\": \"perimeter_mean\",\n      \"properties\": {\n        \"dtype\": \"number\",\n        \"std\": 176.9697283784711,\n        \"min\": 24.298981038754906,\n        \"max\": 569.0,\n        \"num_unique_values\": 8,\n        \"samples\": [\n          91.96903339191564,\n          86.24,\n          569.0\n        ],\n        \"semantic_type\": \"\",\n        \"description\": \"\"\n      }\n    },\n    {\n      \"column\": \"area_mean\",\n      \"properties\": {\n        \"dtype\": \"number\",\n        \"std\": 735.1747492779269,\n        \"min\": 143.5,\n        \"max\": 2501.0,\n        \"num_unique_values\": 8,\n        \"samples\": [\n          654.8891036906855,\n          551.1,\n          569.0\n        ],\n        \"semantic_type\": \"\",\n        \"description\": \"\"\n      }\n    },\n    {\n      \"column\": \"smoothness_mean\",\n      \"properties\": {\n        \"dtype\": \"number\",\n        \"std\": 201.14087240507928,\n        \"min\": 0.01406412813767362,\n        \"max\": 569.0,\n        \"num_unique_values\": 8,\n        \"samples\": [\n          0.0963602811950791,\n          0.09587,\n          569.0\n        ],\n        \"semantic_type\": \"\",\n        \"description\": \"\"\n      }\n    },\n    {\n      \"column\": \"compactness_mean\",\n      \"properties\": {\n        \"dtype\": \"number\",\n        \"std\": 201.1309986056638,\n        \"min\": 0.01938,\n        \"max\": 569.0,\n        \"num_unique_values\": 8,\n        \"samples\": [\n          0.10434098418277679,\n          0.09263,\n          569.0\n        ],\n        \"semantic_type\": \"\",\n        \"description\": \"\"\n      }\n    },\n    {\n      \"column\": \"concavity_mean\",\n      \"properties\": {\n        \"dtype\": \"number\",\n        \"std\": 201.13065209543342,\n        \"min\": 0.0,\n        \"max\": 569.0,\n        \"num_unique_values\": 8,\n        \"samples\": [\n          0.0887993158172232,\n          0.06154,\n          569.0\n        ],\n        \"semantic_type\": \"\",\n        \"description\": \"\"\n      }\n    },\n    {\n      \"column\": \"concave points_mean\",\n      \"properties\": {\n        \"dtype\": \"number\",\n        \"std\": 201.15084054263303,\n        \"min\": 0.0,\n        \"max\": 569.0,\n        \"num_unique_values\": 8,\n        \"samples\": [\n          0.04891914586994728,\n          0.0335,\n          569.0\n        ],\n        \"semantic_type\": \"\",\n        \"description\": \"\"\n      }\n    },\n    {\n      \"column\": \"symmetry_mean\",\n      \"properties\": {\n        \"dtype\": \"number\",\n        \"std\": 201.1135392642066,\n        \"min\": 0.027414281336035715,\n        \"max\": 569.0,\n        \"num_unique_values\": 8,\n        \"samples\": [\n          0.18116186291739894,\n          0.1792,\n          569.0\n        ],\n        \"semantic_type\": \"\",\n        \"description\": \"\"\n      }\n    },\n    {\n      \"column\": \"fractal_dimension_mean\",\n      \"properties\": {\n        \"dtype\": \"number\",\n        \"std\": 201.15154550132385,\n        \"min\": 0.007060362795084459,\n        \"max\": 569.0,\n        \"num_unique_values\": 8,\n        \"samples\": [\n          0.06279760984182776,\n          0.06154,\n          569.0\n        ],\n        \"semantic_type\": \"\",\n        \"description\": \"\"\n      }\n    }\n  ]\n}"
            }
          },
          "metadata": {},
          "execution_count": 29
        }
      ]
    },
    {
      "cell_type": "code",
      "source": [
        "#se há múlitplos valores de frequencias, o python vai retornar várias modas\n",
        "#esse método mostra apenas a \"primeira moda\" de cada coluna\n",
        "cancer.mode().iloc[0]"
      ],
      "metadata": {
        "colab": {
          "base_uri": "https://localhost:8080/",
          "height": 467
        },
        "id": "11bruQiCndft",
        "outputId": "55ec9538-862f-422f-9cb6-6ef8cbb33f1f"
      },
      "execution_count": null,
      "outputs": [
        {
          "output_type": "execute_result",
          "data": {
            "text/plain": [
              "diagnosis                       B\n",
              "radius_mean                 12.34\n",
              "texture_mean                14.93\n",
              "perimeter_mean              82.61\n",
              "area_mean                   512.2\n",
              "smoothness_mean            0.1007\n",
              "compactness_mean           0.1147\n",
              "concavity_mean                0.0\n",
              "concave points_mean           0.0\n",
              "symmetry_mean              0.1601\n",
              "fractal_dimension_mean    0.05667\n",
              "Name: 0, dtype: object"
            ],
            "text/html": [
              "<div>\n",
              "<style scoped>\n",
              "    .dataframe tbody tr th:only-of-type {\n",
              "        vertical-align: middle;\n",
              "    }\n",
              "\n",
              "    .dataframe tbody tr th {\n",
              "        vertical-align: top;\n",
              "    }\n",
              "\n",
              "    .dataframe thead th {\n",
              "        text-align: right;\n",
              "    }\n",
              "</style>\n",
              "<table border=\"1\" class=\"dataframe\">\n",
              "  <thead>\n",
              "    <tr style=\"text-align: right;\">\n",
              "      <th></th>\n",
              "      <th>0</th>\n",
              "    </tr>\n",
              "  </thead>\n",
              "  <tbody>\n",
              "    <tr>\n",
              "      <th>diagnosis</th>\n",
              "      <td>B</td>\n",
              "    </tr>\n",
              "    <tr>\n",
              "      <th>radius_mean</th>\n",
              "      <td>12.34</td>\n",
              "    </tr>\n",
              "    <tr>\n",
              "      <th>texture_mean</th>\n",
              "      <td>14.93</td>\n",
              "    </tr>\n",
              "    <tr>\n",
              "      <th>perimeter_mean</th>\n",
              "      <td>82.61</td>\n",
              "    </tr>\n",
              "    <tr>\n",
              "      <th>area_mean</th>\n",
              "      <td>512.2</td>\n",
              "    </tr>\n",
              "    <tr>\n",
              "      <th>smoothness_mean</th>\n",
              "      <td>0.1007</td>\n",
              "    </tr>\n",
              "    <tr>\n",
              "      <th>compactness_mean</th>\n",
              "      <td>0.1147</td>\n",
              "    </tr>\n",
              "    <tr>\n",
              "      <th>concavity_mean</th>\n",
              "      <td>0.0</td>\n",
              "    </tr>\n",
              "    <tr>\n",
              "      <th>concave points_mean</th>\n",
              "      <td>0.0</td>\n",
              "    </tr>\n",
              "    <tr>\n",
              "      <th>symmetry_mean</th>\n",
              "      <td>0.1601</td>\n",
              "    </tr>\n",
              "    <tr>\n",
              "      <th>fractal_dimension_mean</th>\n",
              "      <td>0.05667</td>\n",
              "    </tr>\n",
              "  </tbody>\n",
              "</table>\n",
              "</div><br><label><b>dtype:</b> object</label>"
            ]
          },
          "metadata": {},
          "execution_count": 30
        }
      ]
    },
    {
      "cell_type": "markdown",
      "source": [
        "**Conclusão**: As médias, moda e mediana de quase todas as variáveis estão próximas, indicando uma possível distribuição normal. Se for fazer uma análise estatística mais profunda, levar isto em consideração.\n",
        "\n",
        "Além disso, análise de outliers não é necessária nesse caso já que os valores das variáveis são possíveis de se atingir. Ademais, as variáveis de erro padrão e pior valor foram excluídas; muitas dessas variáveis são redudantes e poderia dar problemas na criação do algoritmo."
      ],
      "metadata": {
        "id": "ML495UhKo4kG"
      }
    },
    {
      "cell_type": "markdown",
      "source": [
        "# PRÉ-PROCESSAMENTO"
      ],
      "metadata": {
        "id": "1YCvxAPtp2xA"
      }
    },
    {
      "cell_type": "markdown",
      "source": [
        "## Transformando variáveis categóricas nominais em ordinais"
      ],
      "metadata": {
        "id": "JoI7cMBILfyZ"
      }
    },
    {
      "cell_type": "markdown",
      "source": [
        "Câncer Benigno: 0\n",
        "\n",
        "Câncer Maligno: 1"
      ],
      "metadata": {
        "id": "eamnhRQaL7DP"
      }
    },
    {
      "cell_type": "code",
      "source": [
        "cancer2=pd.DataFrame.copy(cancer)"
      ],
      "metadata": {
        "id": "ngxxJvXZLQmH"
      },
      "execution_count": null,
      "outputs": []
    },
    {
      "cell_type": "code",
      "source": [
        "cancer2['diagnosis'].replace({'B':0, 'M':1}, inplace=True)"
      ],
      "metadata": {
        "id": "VCDiKCpFLqZn"
      },
      "execution_count": null,
      "outputs": []
    },
    {
      "cell_type": "code",
      "source": [
        "cancer2.head()"
      ],
      "metadata": {
        "colab": {
          "base_uri": "https://localhost:8080/",
          "height": 244
        },
        "id": "aFAfYsOaL3Zr",
        "outputId": "ac3064a9-603c-4916-a443-dcdc6badddef"
      },
      "execution_count": null,
      "outputs": [
        {
          "output_type": "execute_result",
          "data": {
            "text/plain": [
              "   diagnosis  radius_mean  texture_mean  perimeter_mean  area_mean  \\\n",
              "0          1        17.99         10.38          122.80     1001.0   \n",
              "1          1        20.57         17.77          132.90     1326.0   \n",
              "2          1        19.69         21.25          130.00     1203.0   \n",
              "3          1        11.42         20.38           77.58      386.1   \n",
              "4          1        20.29         14.34          135.10     1297.0   \n",
              "\n",
              "   smoothness_mean  compactness_mean  concavity_mean  concave points_mean  \\\n",
              "0          0.11840           0.27760          0.3001              0.14710   \n",
              "1          0.08474           0.07864          0.0869              0.07017   \n",
              "2          0.10960           0.15990          0.1974              0.12790   \n",
              "3          0.14250           0.28390          0.2414              0.10520   \n",
              "4          0.10030           0.13280          0.1980              0.10430   \n",
              "\n",
              "   symmetry_mean  fractal_dimension_mean  \n",
              "0         0.2419                 0.07871  \n",
              "1         0.1812                 0.05667  \n",
              "2         0.2069                 0.05999  \n",
              "3         0.2597                 0.09744  \n",
              "4         0.1809                 0.05883  "
            ],
            "text/html": [
              "\n",
              "  <div id=\"df-443a1a6b-816f-43c6-8169-a4ae8ca76747\" class=\"colab-df-container\">\n",
              "    <div>\n",
              "<style scoped>\n",
              "    .dataframe tbody tr th:only-of-type {\n",
              "        vertical-align: middle;\n",
              "    }\n",
              "\n",
              "    .dataframe tbody tr th {\n",
              "        vertical-align: top;\n",
              "    }\n",
              "\n",
              "    .dataframe thead th {\n",
              "        text-align: right;\n",
              "    }\n",
              "</style>\n",
              "<table border=\"1\" class=\"dataframe\">\n",
              "  <thead>\n",
              "    <tr style=\"text-align: right;\">\n",
              "      <th></th>\n",
              "      <th>diagnosis</th>\n",
              "      <th>radius_mean</th>\n",
              "      <th>texture_mean</th>\n",
              "      <th>perimeter_mean</th>\n",
              "      <th>area_mean</th>\n",
              "      <th>smoothness_mean</th>\n",
              "      <th>compactness_mean</th>\n",
              "      <th>concavity_mean</th>\n",
              "      <th>concave points_mean</th>\n",
              "      <th>symmetry_mean</th>\n",
              "      <th>fractal_dimension_mean</th>\n",
              "    </tr>\n",
              "  </thead>\n",
              "  <tbody>\n",
              "    <tr>\n",
              "      <th>0</th>\n",
              "      <td>1</td>\n",
              "      <td>17.99</td>\n",
              "      <td>10.38</td>\n",
              "      <td>122.80</td>\n",
              "      <td>1001.0</td>\n",
              "      <td>0.11840</td>\n",
              "      <td>0.27760</td>\n",
              "      <td>0.3001</td>\n",
              "      <td>0.14710</td>\n",
              "      <td>0.2419</td>\n",
              "      <td>0.07871</td>\n",
              "    </tr>\n",
              "    <tr>\n",
              "      <th>1</th>\n",
              "      <td>1</td>\n",
              "      <td>20.57</td>\n",
              "      <td>17.77</td>\n",
              "      <td>132.90</td>\n",
              "      <td>1326.0</td>\n",
              "      <td>0.08474</td>\n",
              "      <td>0.07864</td>\n",
              "      <td>0.0869</td>\n",
              "      <td>0.07017</td>\n",
              "      <td>0.1812</td>\n",
              "      <td>0.05667</td>\n",
              "    </tr>\n",
              "    <tr>\n",
              "      <th>2</th>\n",
              "      <td>1</td>\n",
              "      <td>19.69</td>\n",
              "      <td>21.25</td>\n",
              "      <td>130.00</td>\n",
              "      <td>1203.0</td>\n",
              "      <td>0.10960</td>\n",
              "      <td>0.15990</td>\n",
              "      <td>0.1974</td>\n",
              "      <td>0.12790</td>\n",
              "      <td>0.2069</td>\n",
              "      <td>0.05999</td>\n",
              "    </tr>\n",
              "    <tr>\n",
              "      <th>3</th>\n",
              "      <td>1</td>\n",
              "      <td>11.42</td>\n",
              "      <td>20.38</td>\n",
              "      <td>77.58</td>\n",
              "      <td>386.1</td>\n",
              "      <td>0.14250</td>\n",
              "      <td>0.28390</td>\n",
              "      <td>0.2414</td>\n",
              "      <td>0.10520</td>\n",
              "      <td>0.2597</td>\n",
              "      <td>0.09744</td>\n",
              "    </tr>\n",
              "    <tr>\n",
              "      <th>4</th>\n",
              "      <td>1</td>\n",
              "      <td>20.29</td>\n",
              "      <td>14.34</td>\n",
              "      <td>135.10</td>\n",
              "      <td>1297.0</td>\n",
              "      <td>0.10030</td>\n",
              "      <td>0.13280</td>\n",
              "      <td>0.1980</td>\n",
              "      <td>0.10430</td>\n",
              "      <td>0.1809</td>\n",
              "      <td>0.05883</td>\n",
              "    </tr>\n",
              "  </tbody>\n",
              "</table>\n",
              "</div>\n",
              "    <div class=\"colab-df-buttons\">\n",
              "\n",
              "  <div class=\"colab-df-container\">\n",
              "    <button class=\"colab-df-convert\" onclick=\"convertToInteractive('df-443a1a6b-816f-43c6-8169-a4ae8ca76747')\"\n",
              "            title=\"Convert this dataframe to an interactive table.\"\n",
              "            style=\"display:none;\">\n",
              "\n",
              "  <svg xmlns=\"http://www.w3.org/2000/svg\" height=\"24px\" viewBox=\"0 -960 960 960\">\n",
              "    <path d=\"M120-120v-720h720v720H120Zm60-500h600v-160H180v160Zm220 220h160v-160H400v160Zm0 220h160v-160H400v160ZM180-400h160v-160H180v160Zm440 0h160v-160H620v160ZM180-180h160v-160H180v160Zm440 0h160v-160H620v160Z\"/>\n",
              "  </svg>\n",
              "    </button>\n",
              "\n",
              "  <style>\n",
              "    .colab-df-container {\n",
              "      display:flex;\n",
              "      gap: 12px;\n",
              "    }\n",
              "\n",
              "    .colab-df-convert {\n",
              "      background-color: #E8F0FE;\n",
              "      border: none;\n",
              "      border-radius: 50%;\n",
              "      cursor: pointer;\n",
              "      display: none;\n",
              "      fill: #1967D2;\n",
              "      height: 32px;\n",
              "      padding: 0 0 0 0;\n",
              "      width: 32px;\n",
              "    }\n",
              "\n",
              "    .colab-df-convert:hover {\n",
              "      background-color: #E2EBFA;\n",
              "      box-shadow: 0px 1px 2px rgba(60, 64, 67, 0.3), 0px 1px 3px 1px rgba(60, 64, 67, 0.15);\n",
              "      fill: #174EA6;\n",
              "    }\n",
              "\n",
              "    .colab-df-buttons div {\n",
              "      margin-bottom: 4px;\n",
              "    }\n",
              "\n",
              "    [theme=dark] .colab-df-convert {\n",
              "      background-color: #3B4455;\n",
              "      fill: #D2E3FC;\n",
              "    }\n",
              "\n",
              "    [theme=dark] .colab-df-convert:hover {\n",
              "      background-color: #434B5C;\n",
              "      box-shadow: 0px 1px 3px 1px rgba(0, 0, 0, 0.15);\n",
              "      filter: drop-shadow(0px 1px 2px rgba(0, 0, 0, 0.3));\n",
              "      fill: #FFFFFF;\n",
              "    }\n",
              "  </style>\n",
              "\n",
              "    <script>\n",
              "      const buttonEl =\n",
              "        document.querySelector('#df-443a1a6b-816f-43c6-8169-a4ae8ca76747 button.colab-df-convert');\n",
              "      buttonEl.style.display =\n",
              "        google.colab.kernel.accessAllowed ? 'block' : 'none';\n",
              "\n",
              "      async function convertToInteractive(key) {\n",
              "        const element = document.querySelector('#df-443a1a6b-816f-43c6-8169-a4ae8ca76747');\n",
              "        const dataTable =\n",
              "          await google.colab.kernel.invokeFunction('convertToInteractive',\n",
              "                                                    [key], {});\n",
              "        if (!dataTable) return;\n",
              "\n",
              "        const docLinkHtml = 'Like what you see? Visit the ' +\n",
              "          '<a target=\"_blank\" href=https://colab.research.google.com/notebooks/data_table.ipynb>data table notebook</a>'\n",
              "          + ' to learn more about interactive tables.';\n",
              "        element.innerHTML = '';\n",
              "        dataTable['output_type'] = 'display_data';\n",
              "        await google.colab.output.renderOutput(dataTable, element);\n",
              "        const docLink = document.createElement('div');\n",
              "        docLink.innerHTML = docLinkHtml;\n",
              "        element.appendChild(docLink);\n",
              "      }\n",
              "    </script>\n",
              "  </div>\n",
              "\n",
              "\n",
              "<div id=\"df-f7dfd0fd-5d13-4087-9fae-198a9100faa9\">\n",
              "  <button class=\"colab-df-quickchart\" onclick=\"quickchart('df-f7dfd0fd-5d13-4087-9fae-198a9100faa9')\"\n",
              "            title=\"Suggest charts\"\n",
              "            style=\"display:none;\">\n",
              "\n",
              "<svg xmlns=\"http://www.w3.org/2000/svg\" height=\"24px\"viewBox=\"0 0 24 24\"\n",
              "     width=\"24px\">\n",
              "    <g>\n",
              "        <path d=\"M19 3H5c-1.1 0-2 .9-2 2v14c0 1.1.9 2 2 2h14c1.1 0 2-.9 2-2V5c0-1.1-.9-2-2-2zM9 17H7v-7h2v7zm4 0h-2V7h2v10zm4 0h-2v-4h2v4z\"/>\n",
              "    </g>\n",
              "</svg>\n",
              "  </button>\n",
              "\n",
              "<style>\n",
              "  .colab-df-quickchart {\n",
              "      --bg-color: #E8F0FE;\n",
              "      --fill-color: #1967D2;\n",
              "      --hover-bg-color: #E2EBFA;\n",
              "      --hover-fill-color: #174EA6;\n",
              "      --disabled-fill-color: #AAA;\n",
              "      --disabled-bg-color: #DDD;\n",
              "  }\n",
              "\n",
              "  [theme=dark] .colab-df-quickchart {\n",
              "      --bg-color: #3B4455;\n",
              "      --fill-color: #D2E3FC;\n",
              "      --hover-bg-color: #434B5C;\n",
              "      --hover-fill-color: #FFFFFF;\n",
              "      --disabled-bg-color: #3B4455;\n",
              "      --disabled-fill-color: #666;\n",
              "  }\n",
              "\n",
              "  .colab-df-quickchart {\n",
              "    background-color: var(--bg-color);\n",
              "    border: none;\n",
              "    border-radius: 50%;\n",
              "    cursor: pointer;\n",
              "    display: none;\n",
              "    fill: var(--fill-color);\n",
              "    height: 32px;\n",
              "    padding: 0;\n",
              "    width: 32px;\n",
              "  }\n",
              "\n",
              "  .colab-df-quickchart:hover {\n",
              "    background-color: var(--hover-bg-color);\n",
              "    box-shadow: 0 1px 2px rgba(60, 64, 67, 0.3), 0 1px 3px 1px rgba(60, 64, 67, 0.15);\n",
              "    fill: var(--button-hover-fill-color);\n",
              "  }\n",
              "\n",
              "  .colab-df-quickchart-complete:disabled,\n",
              "  .colab-df-quickchart-complete:disabled:hover {\n",
              "    background-color: var(--disabled-bg-color);\n",
              "    fill: var(--disabled-fill-color);\n",
              "    box-shadow: none;\n",
              "  }\n",
              "\n",
              "  .colab-df-spinner {\n",
              "    border: 2px solid var(--fill-color);\n",
              "    border-color: transparent;\n",
              "    border-bottom-color: var(--fill-color);\n",
              "    animation:\n",
              "      spin 1s steps(1) infinite;\n",
              "  }\n",
              "\n",
              "  @keyframes spin {\n",
              "    0% {\n",
              "      border-color: transparent;\n",
              "      border-bottom-color: var(--fill-color);\n",
              "      border-left-color: var(--fill-color);\n",
              "    }\n",
              "    20% {\n",
              "      border-color: transparent;\n",
              "      border-left-color: var(--fill-color);\n",
              "      border-top-color: var(--fill-color);\n",
              "    }\n",
              "    30% {\n",
              "      border-color: transparent;\n",
              "      border-left-color: var(--fill-color);\n",
              "      border-top-color: var(--fill-color);\n",
              "      border-right-color: var(--fill-color);\n",
              "    }\n",
              "    40% {\n",
              "      border-color: transparent;\n",
              "      border-right-color: var(--fill-color);\n",
              "      border-top-color: var(--fill-color);\n",
              "    }\n",
              "    60% {\n",
              "      border-color: transparent;\n",
              "      border-right-color: var(--fill-color);\n",
              "    }\n",
              "    80% {\n",
              "      border-color: transparent;\n",
              "      border-right-color: var(--fill-color);\n",
              "      border-bottom-color: var(--fill-color);\n",
              "    }\n",
              "    90% {\n",
              "      border-color: transparent;\n",
              "      border-bottom-color: var(--fill-color);\n",
              "    }\n",
              "  }\n",
              "</style>\n",
              "\n",
              "  <script>\n",
              "    async function quickchart(key) {\n",
              "      const quickchartButtonEl =\n",
              "        document.querySelector('#' + key + ' button');\n",
              "      quickchartButtonEl.disabled = true;  // To prevent multiple clicks.\n",
              "      quickchartButtonEl.classList.add('colab-df-spinner');\n",
              "      try {\n",
              "        const charts = await google.colab.kernel.invokeFunction(\n",
              "            'suggestCharts', [key], {});\n",
              "      } catch (error) {\n",
              "        console.error('Error during call to suggestCharts:', error);\n",
              "      }\n",
              "      quickchartButtonEl.classList.remove('colab-df-spinner');\n",
              "      quickchartButtonEl.classList.add('colab-df-quickchart-complete');\n",
              "    }\n",
              "    (() => {\n",
              "      let quickchartButtonEl =\n",
              "        document.querySelector('#df-f7dfd0fd-5d13-4087-9fae-198a9100faa9 button');\n",
              "      quickchartButtonEl.style.display =\n",
              "        google.colab.kernel.accessAllowed ? 'block' : 'none';\n",
              "    })();\n",
              "  </script>\n",
              "</div>\n",
              "\n",
              "    </div>\n",
              "  </div>\n"
            ],
            "application/vnd.google.colaboratory.intrinsic+json": {
              "type": "dataframe",
              "variable_name": "cancer2",
              "summary": "{\n  \"name\": \"cancer2\",\n  \"rows\": 569,\n  \"fields\": [\n    {\n      \"column\": \"diagnosis\",\n      \"properties\": {\n        \"dtype\": \"number\",\n        \"std\": 0,\n        \"min\": 0,\n        \"max\": 1,\n        \"num_unique_values\": 2,\n        \"samples\": [\n          0,\n          1\n        ],\n        \"semantic_type\": \"\",\n        \"description\": \"\"\n      }\n    },\n    {\n      \"column\": \"radius_mean\",\n      \"properties\": {\n        \"dtype\": \"number\",\n        \"std\": 3.5240488262120775,\n        \"min\": 6.981,\n        \"max\": 28.11,\n        \"num_unique_values\": 456,\n        \"samples\": [\n          11.87,\n          13.44\n        ],\n        \"semantic_type\": \"\",\n        \"description\": \"\"\n      }\n    },\n    {\n      \"column\": \"texture_mean\",\n      \"properties\": {\n        \"dtype\": \"number\",\n        \"std\": 4.301035768166949,\n        \"min\": 9.71,\n        \"max\": 39.28,\n        \"num_unique_values\": 479,\n        \"samples\": [\n          17.84,\n          17.07\n        ],\n        \"semantic_type\": \"\",\n        \"description\": \"\"\n      }\n    },\n    {\n      \"column\": \"perimeter_mean\",\n      \"properties\": {\n        \"dtype\": \"number\",\n        \"std\": 24.298981038754906,\n        \"min\": 43.79,\n        \"max\": 188.5,\n        \"num_unique_values\": 522,\n        \"samples\": [\n          92.25,\n          76.38\n        ],\n        \"semantic_type\": \"\",\n        \"description\": \"\"\n      }\n    },\n    {\n      \"column\": \"area_mean\",\n      \"properties\": {\n        \"dtype\": \"number\",\n        \"std\": 351.914129181653,\n        \"min\": 143.5,\n        \"max\": 2501.0,\n        \"num_unique_values\": 539,\n        \"samples\": [\n          556.7,\n          584.1\n        ],\n        \"semantic_type\": \"\",\n        \"description\": \"\"\n      }\n    },\n    {\n      \"column\": \"smoothness_mean\",\n      \"properties\": {\n        \"dtype\": \"number\",\n        \"std\": 0.01406412813767362,\n        \"min\": 0.05263,\n        \"max\": 0.1634,\n        \"num_unique_values\": 474,\n        \"samples\": [\n          0.09427,\n          0.09003\n        ],\n        \"semantic_type\": \"\",\n        \"description\": \"\"\n      }\n    },\n    {\n      \"column\": \"compactness_mean\",\n      \"properties\": {\n        \"dtype\": \"number\",\n        \"std\": 0.052812757932512194,\n        \"min\": 0.01938,\n        \"max\": 0.3454,\n        \"num_unique_values\": 537,\n        \"samples\": [\n          0.1661,\n          0.128\n        ],\n        \"semantic_type\": \"\",\n        \"description\": \"\"\n      }\n    },\n    {\n      \"column\": \"concavity_mean\",\n      \"properties\": {\n        \"dtype\": \"number\",\n        \"std\": 0.07971980870789348,\n        \"min\": 0.0,\n        \"max\": 0.4268,\n        \"num_unique_values\": 537,\n        \"samples\": [\n          0.1411,\n          0.03372\n        ],\n        \"semantic_type\": \"\",\n        \"description\": \"\"\n      }\n    },\n    {\n      \"column\": \"concave points_mean\",\n      \"properties\": {\n        \"dtype\": \"number\",\n        \"std\": 0.038802844859153605,\n        \"min\": 0.0,\n        \"max\": 0.2012,\n        \"num_unique_values\": 542,\n        \"samples\": [\n          0.1255,\n          0.05069\n        ],\n        \"semantic_type\": \"\",\n        \"description\": \"\"\n      }\n    },\n    {\n      \"column\": \"symmetry_mean\",\n      \"properties\": {\n        \"dtype\": \"number\",\n        \"std\": 0.027414281336035715,\n        \"min\": 0.106,\n        \"max\": 0.304,\n        \"num_unique_values\": 432,\n        \"samples\": [\n          0.1742,\n          0.1829\n        ],\n        \"semantic_type\": \"\",\n        \"description\": \"\"\n      }\n    },\n    {\n      \"column\": \"fractal_dimension_mean\",\n      \"properties\": {\n        \"dtype\": \"number\",\n        \"std\": 0.007060362795084459,\n        \"min\": 0.04996,\n        \"max\": 0.09744,\n        \"num_unique_values\": 499,\n        \"samples\": [\n          0.06739,\n          0.05914\n        ],\n        \"semantic_type\": \"\",\n        \"description\": \"\"\n      }\n    }\n  ]\n}"
            }
          },
          "metadata": {},
          "execution_count": 33
        }
      ]
    },
    {
      "cell_type": "markdown",
      "source": [
        "## Separação dos atributos previsores e alvo"
      ],
      "metadata": {
        "id": "iJFTKsmhMHR0"
      }
    },
    {
      "cell_type": "code",
      "source": [
        "previsor=cancer2.iloc[:,1:11].values\n",
        "previsor"
      ],
      "metadata": {
        "colab": {
          "base_uri": "https://localhost:8080/"
        },
        "id": "onitMukYVlIo",
        "outputId": "a41adc25-8315-4c1e-9d4e-49bcc8bfa483"
      },
      "execution_count": null,
      "outputs": [
        {
          "output_type": "execute_result",
          "data": {
            "text/plain": [
              "array([[1.799e+01, 1.038e+01, 1.228e+02, ..., 1.471e-01, 2.419e-01,\n",
              "        7.871e-02],\n",
              "       [2.057e+01, 1.777e+01, 1.329e+02, ..., 7.017e-02, 1.812e-01,\n",
              "        5.667e-02],\n",
              "       [1.969e+01, 2.125e+01, 1.300e+02, ..., 1.279e-01, 2.069e-01,\n",
              "        5.999e-02],\n",
              "       ...,\n",
              "       [1.660e+01, 2.808e+01, 1.083e+02, ..., 5.302e-02, 1.590e-01,\n",
              "        5.648e-02],\n",
              "       [2.060e+01, 2.933e+01, 1.401e+02, ..., 1.520e-01, 2.397e-01,\n",
              "        7.016e-02],\n",
              "       [7.760e+00, 2.454e+01, 4.792e+01, ..., 0.000e+00, 1.587e-01,\n",
              "        5.884e-02]])"
            ]
          },
          "metadata": {},
          "execution_count": 34
        }
      ]
    },
    {
      "cell_type": "code",
      "source": [
        "alvo=cancer2.iloc[:,0].values"
      ],
      "metadata": {
        "collapsed": true,
        "id": "DCLlN_4_Vxcf"
      },
      "execution_count": null,
      "outputs": []
    },
    {
      "cell_type": "markdown",
      "source": [
        "## Escalonamento"
      ],
      "metadata": {
        "id": "cpqB_YhdWje1"
      }
    },
    {
      "cell_type": "markdown",
      "source": [
        "Será utilizado o escalonamento por padronização, ou seja, será utilizado a média e o desvio padrão como referência para os valores."
      ],
      "metadata": {
        "id": "tCDE2Zn7W1n9"
      }
    },
    {
      "cell_type": "code",
      "source": [
        "from sklearn.preprocessing import StandardScaler"
      ],
      "metadata": {
        "id": "XjaqU_r8WEbd"
      },
      "execution_count": null,
      "outputs": []
    },
    {
      "cell_type": "code",
      "source": [
        "previsor_esc=StandardScaler().fit_transform(previsor)\n",
        "previsor_esc"
      ],
      "metadata": {
        "colab": {
          "base_uri": "https://localhost:8080/"
        },
        "id": "ivDWfOSNXC4K",
        "outputId": "e00b712d-35ac-484e-9231-8e90b4ea05ee"
      },
      "execution_count": null,
      "outputs": [
        {
          "output_type": "execute_result",
          "data": {
            "text/plain": [
              "array([[ 1.09706398e+00, -2.07333501e+00,  1.26993369e+00, ...,\n",
              "         2.53247522e+00,  2.21751501e+00,  2.25574689e+00],\n",
              "       [ 1.82982061e+00, -3.53632408e-01,  1.68595471e+00, ...,\n",
              "         5.48144156e-01,  1.39236330e-03, -8.68652457e-01],\n",
              "       [ 1.57988811e+00,  4.56186952e-01,  1.56650313e+00, ...,\n",
              "         2.03723076e+00,  9.39684817e-01, -3.98007910e-01],\n",
              "       ...,\n",
              "       [ 7.02284249e-01,  2.04557380e+00,  6.72675785e-01, ...,\n",
              "         1.05777359e-01, -8.09117071e-01, -8.95586935e-01],\n",
              "       [ 1.83834103e+00,  2.33645719e+00,  1.98252415e+00, ...,\n",
              "         2.65886573e+00,  2.13719425e+00,  1.04369542e+00],\n",
              "       [-1.80840125e+00,  1.22179204e+00, -1.81438851e+00, ...,\n",
              "        -1.26181958e+00, -8.20069901e-01, -5.61032377e-01]])"
            ]
          },
          "metadata": {},
          "execution_count": 37
        }
      ]
    },
    {
      "cell_type": "code",
      "source": [
        "previsordf=pd.DataFrame(previsor_esc)\n",
        "previsordf.head()"
      ],
      "metadata": {
        "colab": {
          "base_uri": "https://localhost:8080/",
          "height": 226
        },
        "id": "_PIsJGeIXVnL",
        "outputId": "0d7a487d-48a0-4c84-af87-f22b11a4859d"
      },
      "execution_count": null,
      "outputs": [
        {
          "output_type": "execute_result",
          "data": {
            "text/plain": [
              "          0         1         2         3         4         5         6  \\\n",
              "0  1.097064 -2.073335  1.269934  0.984375  1.568466  3.283515  2.652874   \n",
              "1  1.829821 -0.353632  1.685955  1.908708 -0.826962 -0.487072 -0.023846   \n",
              "2  1.579888  0.456187  1.566503  1.558884  0.942210  1.052926  1.363478   \n",
              "3 -0.768909  0.253732 -0.592687 -0.764464  3.283553  3.402909  1.915897   \n",
              "4  1.750297 -1.151816  1.776573  1.826229  0.280372  0.539340  1.371011   \n",
              "\n",
              "          7         8         9  \n",
              "0  2.532475  2.217515  2.255747  \n",
              "1  0.548144  0.001392 -0.868652  \n",
              "2  2.037231  0.939685 -0.398008  \n",
              "3  1.451707  2.867383  4.910919  \n",
              "4  1.428493 -0.009560 -0.562450  "
            ],
            "text/html": [
              "\n",
              "  <div id=\"df-69f80c4d-13aa-472d-bd75-ba3795b29b4a\" class=\"colab-df-container\">\n",
              "    <div>\n",
              "<style scoped>\n",
              "    .dataframe tbody tr th:only-of-type {\n",
              "        vertical-align: middle;\n",
              "    }\n",
              "\n",
              "    .dataframe tbody tr th {\n",
              "        vertical-align: top;\n",
              "    }\n",
              "\n",
              "    .dataframe thead th {\n",
              "        text-align: right;\n",
              "    }\n",
              "</style>\n",
              "<table border=\"1\" class=\"dataframe\">\n",
              "  <thead>\n",
              "    <tr style=\"text-align: right;\">\n",
              "      <th></th>\n",
              "      <th>0</th>\n",
              "      <th>1</th>\n",
              "      <th>2</th>\n",
              "      <th>3</th>\n",
              "      <th>4</th>\n",
              "      <th>5</th>\n",
              "      <th>6</th>\n",
              "      <th>7</th>\n",
              "      <th>8</th>\n",
              "      <th>9</th>\n",
              "    </tr>\n",
              "  </thead>\n",
              "  <tbody>\n",
              "    <tr>\n",
              "      <th>0</th>\n",
              "      <td>1.097064</td>\n",
              "      <td>-2.073335</td>\n",
              "      <td>1.269934</td>\n",
              "      <td>0.984375</td>\n",
              "      <td>1.568466</td>\n",
              "      <td>3.283515</td>\n",
              "      <td>2.652874</td>\n",
              "      <td>2.532475</td>\n",
              "      <td>2.217515</td>\n",
              "      <td>2.255747</td>\n",
              "    </tr>\n",
              "    <tr>\n",
              "      <th>1</th>\n",
              "      <td>1.829821</td>\n",
              "      <td>-0.353632</td>\n",
              "      <td>1.685955</td>\n",
              "      <td>1.908708</td>\n",
              "      <td>-0.826962</td>\n",
              "      <td>-0.487072</td>\n",
              "      <td>-0.023846</td>\n",
              "      <td>0.548144</td>\n",
              "      <td>0.001392</td>\n",
              "      <td>-0.868652</td>\n",
              "    </tr>\n",
              "    <tr>\n",
              "      <th>2</th>\n",
              "      <td>1.579888</td>\n",
              "      <td>0.456187</td>\n",
              "      <td>1.566503</td>\n",
              "      <td>1.558884</td>\n",
              "      <td>0.942210</td>\n",
              "      <td>1.052926</td>\n",
              "      <td>1.363478</td>\n",
              "      <td>2.037231</td>\n",
              "      <td>0.939685</td>\n",
              "      <td>-0.398008</td>\n",
              "    </tr>\n",
              "    <tr>\n",
              "      <th>3</th>\n",
              "      <td>-0.768909</td>\n",
              "      <td>0.253732</td>\n",
              "      <td>-0.592687</td>\n",
              "      <td>-0.764464</td>\n",
              "      <td>3.283553</td>\n",
              "      <td>3.402909</td>\n",
              "      <td>1.915897</td>\n",
              "      <td>1.451707</td>\n",
              "      <td>2.867383</td>\n",
              "      <td>4.910919</td>\n",
              "    </tr>\n",
              "    <tr>\n",
              "      <th>4</th>\n",
              "      <td>1.750297</td>\n",
              "      <td>-1.151816</td>\n",
              "      <td>1.776573</td>\n",
              "      <td>1.826229</td>\n",
              "      <td>0.280372</td>\n",
              "      <td>0.539340</td>\n",
              "      <td>1.371011</td>\n",
              "      <td>1.428493</td>\n",
              "      <td>-0.009560</td>\n",
              "      <td>-0.562450</td>\n",
              "    </tr>\n",
              "  </tbody>\n",
              "</table>\n",
              "</div>\n",
              "    <div class=\"colab-df-buttons\">\n",
              "\n",
              "  <div class=\"colab-df-container\">\n",
              "    <button class=\"colab-df-convert\" onclick=\"convertToInteractive('df-69f80c4d-13aa-472d-bd75-ba3795b29b4a')\"\n",
              "            title=\"Convert this dataframe to an interactive table.\"\n",
              "            style=\"display:none;\">\n",
              "\n",
              "  <svg xmlns=\"http://www.w3.org/2000/svg\" height=\"24px\" viewBox=\"0 -960 960 960\">\n",
              "    <path d=\"M120-120v-720h720v720H120Zm60-500h600v-160H180v160Zm220 220h160v-160H400v160Zm0 220h160v-160H400v160ZM180-400h160v-160H180v160Zm440 0h160v-160H620v160ZM180-180h160v-160H180v160Zm440 0h160v-160H620v160Z\"/>\n",
              "  </svg>\n",
              "    </button>\n",
              "\n",
              "  <style>\n",
              "    .colab-df-container {\n",
              "      display:flex;\n",
              "      gap: 12px;\n",
              "    }\n",
              "\n",
              "    .colab-df-convert {\n",
              "      background-color: #E8F0FE;\n",
              "      border: none;\n",
              "      border-radius: 50%;\n",
              "      cursor: pointer;\n",
              "      display: none;\n",
              "      fill: #1967D2;\n",
              "      height: 32px;\n",
              "      padding: 0 0 0 0;\n",
              "      width: 32px;\n",
              "    }\n",
              "\n",
              "    .colab-df-convert:hover {\n",
              "      background-color: #E2EBFA;\n",
              "      box-shadow: 0px 1px 2px rgba(60, 64, 67, 0.3), 0px 1px 3px 1px rgba(60, 64, 67, 0.15);\n",
              "      fill: #174EA6;\n",
              "    }\n",
              "\n",
              "    .colab-df-buttons div {\n",
              "      margin-bottom: 4px;\n",
              "    }\n",
              "\n",
              "    [theme=dark] .colab-df-convert {\n",
              "      background-color: #3B4455;\n",
              "      fill: #D2E3FC;\n",
              "    }\n",
              "\n",
              "    [theme=dark] .colab-df-convert:hover {\n",
              "      background-color: #434B5C;\n",
              "      box-shadow: 0px 1px 3px 1px rgba(0, 0, 0, 0.15);\n",
              "      filter: drop-shadow(0px 1px 2px rgba(0, 0, 0, 0.3));\n",
              "      fill: #FFFFFF;\n",
              "    }\n",
              "  </style>\n",
              "\n",
              "    <script>\n",
              "      const buttonEl =\n",
              "        document.querySelector('#df-69f80c4d-13aa-472d-bd75-ba3795b29b4a button.colab-df-convert');\n",
              "      buttonEl.style.display =\n",
              "        google.colab.kernel.accessAllowed ? 'block' : 'none';\n",
              "\n",
              "      async function convertToInteractive(key) {\n",
              "        const element = document.querySelector('#df-69f80c4d-13aa-472d-bd75-ba3795b29b4a');\n",
              "        const dataTable =\n",
              "          await google.colab.kernel.invokeFunction('convertToInteractive',\n",
              "                                                    [key], {});\n",
              "        if (!dataTable) return;\n",
              "\n",
              "        const docLinkHtml = 'Like what you see? Visit the ' +\n",
              "          '<a target=\"_blank\" href=https://colab.research.google.com/notebooks/data_table.ipynb>data table notebook</a>'\n",
              "          + ' to learn more about interactive tables.';\n",
              "        element.innerHTML = '';\n",
              "        dataTable['output_type'] = 'display_data';\n",
              "        await google.colab.output.renderOutput(dataTable, element);\n",
              "        const docLink = document.createElement('div');\n",
              "        docLink.innerHTML = docLinkHtml;\n",
              "        element.appendChild(docLink);\n",
              "      }\n",
              "    </script>\n",
              "  </div>\n",
              "\n",
              "\n",
              "<div id=\"df-7199e88b-ba15-4058-8b3a-5513cfb857b4\">\n",
              "  <button class=\"colab-df-quickchart\" onclick=\"quickchart('df-7199e88b-ba15-4058-8b3a-5513cfb857b4')\"\n",
              "            title=\"Suggest charts\"\n",
              "            style=\"display:none;\">\n",
              "\n",
              "<svg xmlns=\"http://www.w3.org/2000/svg\" height=\"24px\"viewBox=\"0 0 24 24\"\n",
              "     width=\"24px\">\n",
              "    <g>\n",
              "        <path d=\"M19 3H5c-1.1 0-2 .9-2 2v14c0 1.1.9 2 2 2h14c1.1 0 2-.9 2-2V5c0-1.1-.9-2-2-2zM9 17H7v-7h2v7zm4 0h-2V7h2v10zm4 0h-2v-4h2v4z\"/>\n",
              "    </g>\n",
              "</svg>\n",
              "  </button>\n",
              "\n",
              "<style>\n",
              "  .colab-df-quickchart {\n",
              "      --bg-color: #E8F0FE;\n",
              "      --fill-color: #1967D2;\n",
              "      --hover-bg-color: #E2EBFA;\n",
              "      --hover-fill-color: #174EA6;\n",
              "      --disabled-fill-color: #AAA;\n",
              "      --disabled-bg-color: #DDD;\n",
              "  }\n",
              "\n",
              "  [theme=dark] .colab-df-quickchart {\n",
              "      --bg-color: #3B4455;\n",
              "      --fill-color: #D2E3FC;\n",
              "      --hover-bg-color: #434B5C;\n",
              "      --hover-fill-color: #FFFFFF;\n",
              "      --disabled-bg-color: #3B4455;\n",
              "      --disabled-fill-color: #666;\n",
              "  }\n",
              "\n",
              "  .colab-df-quickchart {\n",
              "    background-color: var(--bg-color);\n",
              "    border: none;\n",
              "    border-radius: 50%;\n",
              "    cursor: pointer;\n",
              "    display: none;\n",
              "    fill: var(--fill-color);\n",
              "    height: 32px;\n",
              "    padding: 0;\n",
              "    width: 32px;\n",
              "  }\n",
              "\n",
              "  .colab-df-quickchart:hover {\n",
              "    background-color: var(--hover-bg-color);\n",
              "    box-shadow: 0 1px 2px rgba(60, 64, 67, 0.3), 0 1px 3px 1px rgba(60, 64, 67, 0.15);\n",
              "    fill: var(--button-hover-fill-color);\n",
              "  }\n",
              "\n",
              "  .colab-df-quickchart-complete:disabled,\n",
              "  .colab-df-quickchart-complete:disabled:hover {\n",
              "    background-color: var(--disabled-bg-color);\n",
              "    fill: var(--disabled-fill-color);\n",
              "    box-shadow: none;\n",
              "  }\n",
              "\n",
              "  .colab-df-spinner {\n",
              "    border: 2px solid var(--fill-color);\n",
              "    border-color: transparent;\n",
              "    border-bottom-color: var(--fill-color);\n",
              "    animation:\n",
              "      spin 1s steps(1) infinite;\n",
              "  }\n",
              "\n",
              "  @keyframes spin {\n",
              "    0% {\n",
              "      border-color: transparent;\n",
              "      border-bottom-color: var(--fill-color);\n",
              "      border-left-color: var(--fill-color);\n",
              "    }\n",
              "    20% {\n",
              "      border-color: transparent;\n",
              "      border-left-color: var(--fill-color);\n",
              "      border-top-color: var(--fill-color);\n",
              "    }\n",
              "    30% {\n",
              "      border-color: transparent;\n",
              "      border-left-color: var(--fill-color);\n",
              "      border-top-color: var(--fill-color);\n",
              "      border-right-color: var(--fill-color);\n",
              "    }\n",
              "    40% {\n",
              "      border-color: transparent;\n",
              "      border-right-color: var(--fill-color);\n",
              "      border-top-color: var(--fill-color);\n",
              "    }\n",
              "    60% {\n",
              "      border-color: transparent;\n",
              "      border-right-color: var(--fill-color);\n",
              "    }\n",
              "    80% {\n",
              "      border-color: transparent;\n",
              "      border-right-color: var(--fill-color);\n",
              "      border-bottom-color: var(--fill-color);\n",
              "    }\n",
              "    90% {\n",
              "      border-color: transparent;\n",
              "      border-bottom-color: var(--fill-color);\n",
              "    }\n",
              "  }\n",
              "</style>\n",
              "\n",
              "  <script>\n",
              "    async function quickchart(key) {\n",
              "      const quickchartButtonEl =\n",
              "        document.querySelector('#' + key + ' button');\n",
              "      quickchartButtonEl.disabled = true;  // To prevent multiple clicks.\n",
              "      quickchartButtonEl.classList.add('colab-df-spinner');\n",
              "      try {\n",
              "        const charts = await google.colab.kernel.invokeFunction(\n",
              "            'suggestCharts', [key], {});\n",
              "      } catch (error) {\n",
              "        console.error('Error during call to suggestCharts:', error);\n",
              "      }\n",
              "      quickchartButtonEl.classList.remove('colab-df-spinner');\n",
              "      quickchartButtonEl.classList.add('colab-df-quickchart-complete');\n",
              "    }\n",
              "    (() => {\n",
              "      let quickchartButtonEl =\n",
              "        document.querySelector('#df-7199e88b-ba15-4058-8b3a-5513cfb857b4 button');\n",
              "      quickchartButtonEl.style.display =\n",
              "        google.colab.kernel.accessAllowed ? 'block' : 'none';\n",
              "    })();\n",
              "  </script>\n",
              "</div>\n",
              "\n",
              "    </div>\n",
              "  </div>\n"
            ],
            "application/vnd.google.colaboratory.intrinsic+json": {
              "type": "dataframe",
              "variable_name": "previsordf",
              "summary": "{\n  \"name\": \"previsordf\",\n  \"rows\": 569,\n  \"fields\": [\n    {\n      \"column\": 0,\n      \"properties\": {\n        \"dtype\": \"number\",\n        \"std\": 1.0008798945829023,\n        \"min\": -2.0296483039857525,\n        \"max\": 3.9712876465451097,\n        \"num_unique_values\": 456,\n        \"samples\": [\n          -0.6411028989904674,\n          -0.19520061102920766,\n          -0.3315274251829682\n        ],\n        \"semantic_type\": \"\",\n        \"description\": \"\"\n      }\n    },\n    {\n      \"column\": 1,\n      \"properties\": {\n        \"dtype\": \"number\",\n        \"std\": 1.0008798945829025,\n        \"min\": -2.2292485121703924,\n        \"max\": 4.651888980771197,\n        \"num_unique_values\": 479,\n        \"samples\": [\n          -0.3373429383585861,\n          -0.5165271070959896,\n          -0.16746703812702157\n        ],\n        \"semantic_type\": \"\",\n        \"description\": \"\"\n      }\n    },\n    {\n      \"column\": 2,\n      \"properties\": {\n        \"dtype\": \"number\",\n        \"std\": 1.0008798945829023,\n        \"min\": -1.984504032720442,\n        \"max\": 3.9761298438231054,\n        \"num_unique_values\": 522,\n        \"samples\": [\n          0.01157307084738542,\n          -0.6421154069409231,\n          1.1381250473760702\n        ],\n        \"semantic_type\": \"\",\n        \"description\": \"\"\n      }\n    },\n    {\n      \"column\": 3,\n      \"properties\": {\n        \"dtype\": \"number\",\n        \"std\": 1.0008798945829023,\n        \"min\": -1.454443086394449,\n        \"max\": 5.250528825265325,\n        \"num_unique_values\": 539,\n        \"samples\": [\n          -0.2792598864377921,\n          -0.2013314748240158,\n          -0.5588351733587492\n        ],\n        \"semantic_type\": \"\",\n        \"description\": \"\"\n      }\n    },\n    {\n      \"column\": 4,\n      \"properties\": {\n        \"dtype\": \"number\",\n        \"std\": 1.0008798945829023,\n        \"min\": -3.112084787919981,\n        \"max\": 4.770911217069983,\n        \"num_unique_values\": 474,\n        \"samples\": [\n          -0.14875578505113413,\n          -0.4504972589263486,\n          1.5826994176337605\n        ],\n        \"semantic_type\": \"\",\n        \"description\": \"\"\n      }\n    },\n    {\n      \"column\": 5,\n      \"properties\": {\n        \"dtype\": \"number\",\n        \"std\": 1.0008798945829023,\n        \"min\": -1.6101363424569084,\n        \"max\": 4.5684249750356445,\n        \"num_unique_values\": 537,\n        \"samples\": [\n          1.1704247166882584,\n          0.4483733511387025,\n          -0.7696382305901682\n        ],\n        \"semantic_type\": \"\",\n        \"description\": \"\"\n      }\n    },\n    {\n      \"column\": 6,\n      \"properties\": {\n        \"dtype\": \"number\",\n        \"std\": 1.0008798945829023,\n        \"min\": -1.1148728439607505,\n        \"max\": 4.243588822363918,\n        \"num_unique_values\": 537,\n        \"samples\": [\n          0.6566335785284968,\n          -0.6915192184020161,\n          -0.7746331270971176\n        ],\n        \"semantic_type\": \"\",\n        \"description\": \"\"\n      }\n    },\n    {\n      \"column\": 7,\n      \"properties\": {\n        \"dtype\": \"number\",\n        \"std\": 1.0008798945829023,\n        \"min\": -1.2618195840825894,\n        \"max\": 3.9279296603616616,\n        \"num_unique_values\": 542,\n        \"samples\": [\n          1.9753251981130047,\n          0.0456773801364915,\n          0.746241940171809\n        ],\n        \"semantic_type\": \"\",\n        \"description\": \"\"\n      }\n    },\n    {\n      \"column\": 8,\n      \"properties\": {\n        \"dtype\": \"number\",\n        \"std\": 1.0008798945829023,\n        \"min\": -2.744117072094631,\n        \"max\": 4.4847508562036476,\n        \"num_unique_values\": 432,\n        \"samples\": [\n          -0.2541736745696684,\n          0.06345840106768069,\n          -1.1157963165284523\n        ],\n        \"semantic_type\": \"\",\n        \"description\": \"\"\n      }\n    },\n    {\n      \"column\": 9,\n      \"properties\": {\n        \"dtype\": \"number\",\n        \"std\": 1.0008798945829023,\n        \"min\": -1.8198647800550172,\n        \"max\": 4.91091928501904,\n        \"num_unique_values\": 499,\n        \"samples\": [\n          0.6510190921909993,\n          -0.5185042552576321,\n          -0.7453209044597904\n        ],\n        \"semantic_type\": \"\",\n        \"description\": \"\"\n      }\n    }\n  ]\n}"
            }
          },
          "metadata": {},
          "execution_count": 38
        }
      ]
    },
    {
      "cell_type": "code",
      "source": [
        "#agora todos os valores, até minimos e máximos, estão bem próximos um do outro\n",
        "previsordf.describe()"
      ],
      "metadata": {
        "colab": {
          "base_uri": "https://localhost:8080/",
          "height": 320
        },
        "id": "IUBGON5BXh9d",
        "outputId": "318c973e-b4f7-4923-8b59-7a9e3e5da4ef"
      },
      "execution_count": null,
      "outputs": [
        {
          "output_type": "execute_result",
          "data": {
            "text/plain": [
              "                  0             1             2             3             4  \\\n",
              "count  5.690000e+02  5.690000e+02  5.690000e+02  5.690000e+02  5.690000e+02   \n",
              "mean  -1.373633e-16  6.868164e-17 -1.248757e-16 -2.185325e-16 -8.366672e-16   \n",
              "std    1.000880e+00  1.000880e+00  1.000880e+00  1.000880e+00  1.000880e+00   \n",
              "min   -2.029648e+00 -2.229249e+00 -1.984504e+00 -1.454443e+00 -3.112085e+00   \n",
              "25%   -6.893853e-01 -7.259631e-01 -6.919555e-01 -6.671955e-01 -7.109628e-01   \n",
              "50%   -2.150816e-01 -1.046362e-01 -2.359800e-01 -2.951869e-01 -3.489108e-02   \n",
              "75%    4.693926e-01  5.841756e-01  4.996769e-01  3.635073e-01  6.361990e-01   \n",
              "max    3.971288e+00  4.651889e+00  3.976130e+00  5.250529e+00  4.770911e+00   \n",
              "\n",
              "                  5             6             7             8             9  \n",
              "count  5.690000e+02  5.690000e+02  5.690000e+02  5.690000e+02  5.690000e+02  \n",
              "mean   1.873136e-16  4.995028e-17 -4.995028e-17  1.748260e-16  4.745277e-16  \n",
              "std    1.000880e+00  1.000880e+00  1.000880e+00  1.000880e+00  1.000880e+00  \n",
              "min   -1.610136e+00 -1.114873e+00 -1.261820e+00 -2.744117e+00 -1.819865e+00  \n",
              "25%   -7.470860e-01 -7.437479e-01 -7.379438e-01 -7.032397e-01 -7.226392e-01  \n",
              "50%   -2.219405e-01 -3.422399e-01 -3.977212e-01 -7.162650e-02 -1.782793e-01  \n",
              "75%    4.938569e-01  5.260619e-01  6.469351e-01  5.307792e-01  4.709834e-01  \n",
              "max    4.568425e+00  4.243589e+00  3.927930e+00  4.484751e+00  4.910919e+00  "
            ],
            "text/html": [
              "\n",
              "  <div id=\"df-2a1d9f8d-14d6-45f5-8d87-f0967b7d462e\" class=\"colab-df-container\">\n",
              "    <div>\n",
              "<style scoped>\n",
              "    .dataframe tbody tr th:only-of-type {\n",
              "        vertical-align: middle;\n",
              "    }\n",
              "\n",
              "    .dataframe tbody tr th {\n",
              "        vertical-align: top;\n",
              "    }\n",
              "\n",
              "    .dataframe thead th {\n",
              "        text-align: right;\n",
              "    }\n",
              "</style>\n",
              "<table border=\"1\" class=\"dataframe\">\n",
              "  <thead>\n",
              "    <tr style=\"text-align: right;\">\n",
              "      <th></th>\n",
              "      <th>0</th>\n",
              "      <th>1</th>\n",
              "      <th>2</th>\n",
              "      <th>3</th>\n",
              "      <th>4</th>\n",
              "      <th>5</th>\n",
              "      <th>6</th>\n",
              "      <th>7</th>\n",
              "      <th>8</th>\n",
              "      <th>9</th>\n",
              "    </tr>\n",
              "  </thead>\n",
              "  <tbody>\n",
              "    <tr>\n",
              "      <th>count</th>\n",
              "      <td>5.690000e+02</td>\n",
              "      <td>5.690000e+02</td>\n",
              "      <td>5.690000e+02</td>\n",
              "      <td>5.690000e+02</td>\n",
              "      <td>5.690000e+02</td>\n",
              "      <td>5.690000e+02</td>\n",
              "      <td>5.690000e+02</td>\n",
              "      <td>5.690000e+02</td>\n",
              "      <td>5.690000e+02</td>\n",
              "      <td>5.690000e+02</td>\n",
              "    </tr>\n",
              "    <tr>\n",
              "      <th>mean</th>\n",
              "      <td>-1.373633e-16</td>\n",
              "      <td>6.868164e-17</td>\n",
              "      <td>-1.248757e-16</td>\n",
              "      <td>-2.185325e-16</td>\n",
              "      <td>-8.366672e-16</td>\n",
              "      <td>1.873136e-16</td>\n",
              "      <td>4.995028e-17</td>\n",
              "      <td>-4.995028e-17</td>\n",
              "      <td>1.748260e-16</td>\n",
              "      <td>4.745277e-16</td>\n",
              "    </tr>\n",
              "    <tr>\n",
              "      <th>std</th>\n",
              "      <td>1.000880e+00</td>\n",
              "      <td>1.000880e+00</td>\n",
              "      <td>1.000880e+00</td>\n",
              "      <td>1.000880e+00</td>\n",
              "      <td>1.000880e+00</td>\n",
              "      <td>1.000880e+00</td>\n",
              "      <td>1.000880e+00</td>\n",
              "      <td>1.000880e+00</td>\n",
              "      <td>1.000880e+00</td>\n",
              "      <td>1.000880e+00</td>\n",
              "    </tr>\n",
              "    <tr>\n",
              "      <th>min</th>\n",
              "      <td>-2.029648e+00</td>\n",
              "      <td>-2.229249e+00</td>\n",
              "      <td>-1.984504e+00</td>\n",
              "      <td>-1.454443e+00</td>\n",
              "      <td>-3.112085e+00</td>\n",
              "      <td>-1.610136e+00</td>\n",
              "      <td>-1.114873e+00</td>\n",
              "      <td>-1.261820e+00</td>\n",
              "      <td>-2.744117e+00</td>\n",
              "      <td>-1.819865e+00</td>\n",
              "    </tr>\n",
              "    <tr>\n",
              "      <th>25%</th>\n",
              "      <td>-6.893853e-01</td>\n",
              "      <td>-7.259631e-01</td>\n",
              "      <td>-6.919555e-01</td>\n",
              "      <td>-6.671955e-01</td>\n",
              "      <td>-7.109628e-01</td>\n",
              "      <td>-7.470860e-01</td>\n",
              "      <td>-7.437479e-01</td>\n",
              "      <td>-7.379438e-01</td>\n",
              "      <td>-7.032397e-01</td>\n",
              "      <td>-7.226392e-01</td>\n",
              "    </tr>\n",
              "    <tr>\n",
              "      <th>50%</th>\n",
              "      <td>-2.150816e-01</td>\n",
              "      <td>-1.046362e-01</td>\n",
              "      <td>-2.359800e-01</td>\n",
              "      <td>-2.951869e-01</td>\n",
              "      <td>-3.489108e-02</td>\n",
              "      <td>-2.219405e-01</td>\n",
              "      <td>-3.422399e-01</td>\n",
              "      <td>-3.977212e-01</td>\n",
              "      <td>-7.162650e-02</td>\n",
              "      <td>-1.782793e-01</td>\n",
              "    </tr>\n",
              "    <tr>\n",
              "      <th>75%</th>\n",
              "      <td>4.693926e-01</td>\n",
              "      <td>5.841756e-01</td>\n",
              "      <td>4.996769e-01</td>\n",
              "      <td>3.635073e-01</td>\n",
              "      <td>6.361990e-01</td>\n",
              "      <td>4.938569e-01</td>\n",
              "      <td>5.260619e-01</td>\n",
              "      <td>6.469351e-01</td>\n",
              "      <td>5.307792e-01</td>\n",
              "      <td>4.709834e-01</td>\n",
              "    </tr>\n",
              "    <tr>\n",
              "      <th>max</th>\n",
              "      <td>3.971288e+00</td>\n",
              "      <td>4.651889e+00</td>\n",
              "      <td>3.976130e+00</td>\n",
              "      <td>5.250529e+00</td>\n",
              "      <td>4.770911e+00</td>\n",
              "      <td>4.568425e+00</td>\n",
              "      <td>4.243589e+00</td>\n",
              "      <td>3.927930e+00</td>\n",
              "      <td>4.484751e+00</td>\n",
              "      <td>4.910919e+00</td>\n",
              "    </tr>\n",
              "  </tbody>\n",
              "</table>\n",
              "</div>\n",
              "    <div class=\"colab-df-buttons\">\n",
              "\n",
              "  <div class=\"colab-df-container\">\n",
              "    <button class=\"colab-df-convert\" onclick=\"convertToInteractive('df-2a1d9f8d-14d6-45f5-8d87-f0967b7d462e')\"\n",
              "            title=\"Convert this dataframe to an interactive table.\"\n",
              "            style=\"display:none;\">\n",
              "\n",
              "  <svg xmlns=\"http://www.w3.org/2000/svg\" height=\"24px\" viewBox=\"0 -960 960 960\">\n",
              "    <path d=\"M120-120v-720h720v720H120Zm60-500h600v-160H180v160Zm220 220h160v-160H400v160Zm0 220h160v-160H400v160ZM180-400h160v-160H180v160Zm440 0h160v-160H620v160ZM180-180h160v-160H180v160Zm440 0h160v-160H620v160Z\"/>\n",
              "  </svg>\n",
              "    </button>\n",
              "\n",
              "  <style>\n",
              "    .colab-df-container {\n",
              "      display:flex;\n",
              "      gap: 12px;\n",
              "    }\n",
              "\n",
              "    .colab-df-convert {\n",
              "      background-color: #E8F0FE;\n",
              "      border: none;\n",
              "      border-radius: 50%;\n",
              "      cursor: pointer;\n",
              "      display: none;\n",
              "      fill: #1967D2;\n",
              "      height: 32px;\n",
              "      padding: 0 0 0 0;\n",
              "      width: 32px;\n",
              "    }\n",
              "\n",
              "    .colab-df-convert:hover {\n",
              "      background-color: #E2EBFA;\n",
              "      box-shadow: 0px 1px 2px rgba(60, 64, 67, 0.3), 0px 1px 3px 1px rgba(60, 64, 67, 0.15);\n",
              "      fill: #174EA6;\n",
              "    }\n",
              "\n",
              "    .colab-df-buttons div {\n",
              "      margin-bottom: 4px;\n",
              "    }\n",
              "\n",
              "    [theme=dark] .colab-df-convert {\n",
              "      background-color: #3B4455;\n",
              "      fill: #D2E3FC;\n",
              "    }\n",
              "\n",
              "    [theme=dark] .colab-df-convert:hover {\n",
              "      background-color: #434B5C;\n",
              "      box-shadow: 0px 1px 3px 1px rgba(0, 0, 0, 0.15);\n",
              "      filter: drop-shadow(0px 1px 2px rgba(0, 0, 0, 0.3));\n",
              "      fill: #FFFFFF;\n",
              "    }\n",
              "  </style>\n",
              "\n",
              "    <script>\n",
              "      const buttonEl =\n",
              "        document.querySelector('#df-2a1d9f8d-14d6-45f5-8d87-f0967b7d462e button.colab-df-convert');\n",
              "      buttonEl.style.display =\n",
              "        google.colab.kernel.accessAllowed ? 'block' : 'none';\n",
              "\n",
              "      async function convertToInteractive(key) {\n",
              "        const element = document.querySelector('#df-2a1d9f8d-14d6-45f5-8d87-f0967b7d462e');\n",
              "        const dataTable =\n",
              "          await google.colab.kernel.invokeFunction('convertToInteractive',\n",
              "                                                    [key], {});\n",
              "        if (!dataTable) return;\n",
              "\n",
              "        const docLinkHtml = 'Like what you see? Visit the ' +\n",
              "          '<a target=\"_blank\" href=https://colab.research.google.com/notebooks/data_table.ipynb>data table notebook</a>'\n",
              "          + ' to learn more about interactive tables.';\n",
              "        element.innerHTML = '';\n",
              "        dataTable['output_type'] = 'display_data';\n",
              "        await google.colab.output.renderOutput(dataTable, element);\n",
              "        const docLink = document.createElement('div');\n",
              "        docLink.innerHTML = docLinkHtml;\n",
              "        element.appendChild(docLink);\n",
              "      }\n",
              "    </script>\n",
              "  </div>\n",
              "\n",
              "\n",
              "<div id=\"df-802ffea0-ea08-4a89-a033-4fe8fa88caeb\">\n",
              "  <button class=\"colab-df-quickchart\" onclick=\"quickchart('df-802ffea0-ea08-4a89-a033-4fe8fa88caeb')\"\n",
              "            title=\"Suggest charts\"\n",
              "            style=\"display:none;\">\n",
              "\n",
              "<svg xmlns=\"http://www.w3.org/2000/svg\" height=\"24px\"viewBox=\"0 0 24 24\"\n",
              "     width=\"24px\">\n",
              "    <g>\n",
              "        <path d=\"M19 3H5c-1.1 0-2 .9-2 2v14c0 1.1.9 2 2 2h14c1.1 0 2-.9 2-2V5c0-1.1-.9-2-2-2zM9 17H7v-7h2v7zm4 0h-2V7h2v10zm4 0h-2v-4h2v4z\"/>\n",
              "    </g>\n",
              "</svg>\n",
              "  </button>\n",
              "\n",
              "<style>\n",
              "  .colab-df-quickchart {\n",
              "      --bg-color: #E8F0FE;\n",
              "      --fill-color: #1967D2;\n",
              "      --hover-bg-color: #E2EBFA;\n",
              "      --hover-fill-color: #174EA6;\n",
              "      --disabled-fill-color: #AAA;\n",
              "      --disabled-bg-color: #DDD;\n",
              "  }\n",
              "\n",
              "  [theme=dark] .colab-df-quickchart {\n",
              "      --bg-color: #3B4455;\n",
              "      --fill-color: #D2E3FC;\n",
              "      --hover-bg-color: #434B5C;\n",
              "      --hover-fill-color: #FFFFFF;\n",
              "      --disabled-bg-color: #3B4455;\n",
              "      --disabled-fill-color: #666;\n",
              "  }\n",
              "\n",
              "  .colab-df-quickchart {\n",
              "    background-color: var(--bg-color);\n",
              "    border: none;\n",
              "    border-radius: 50%;\n",
              "    cursor: pointer;\n",
              "    display: none;\n",
              "    fill: var(--fill-color);\n",
              "    height: 32px;\n",
              "    padding: 0;\n",
              "    width: 32px;\n",
              "  }\n",
              "\n",
              "  .colab-df-quickchart:hover {\n",
              "    background-color: var(--hover-bg-color);\n",
              "    box-shadow: 0 1px 2px rgba(60, 64, 67, 0.3), 0 1px 3px 1px rgba(60, 64, 67, 0.15);\n",
              "    fill: var(--button-hover-fill-color);\n",
              "  }\n",
              "\n",
              "  .colab-df-quickchart-complete:disabled,\n",
              "  .colab-df-quickchart-complete:disabled:hover {\n",
              "    background-color: var(--disabled-bg-color);\n",
              "    fill: var(--disabled-fill-color);\n",
              "    box-shadow: none;\n",
              "  }\n",
              "\n",
              "  .colab-df-spinner {\n",
              "    border: 2px solid var(--fill-color);\n",
              "    border-color: transparent;\n",
              "    border-bottom-color: var(--fill-color);\n",
              "    animation:\n",
              "      spin 1s steps(1) infinite;\n",
              "  }\n",
              "\n",
              "  @keyframes spin {\n",
              "    0% {\n",
              "      border-color: transparent;\n",
              "      border-bottom-color: var(--fill-color);\n",
              "      border-left-color: var(--fill-color);\n",
              "    }\n",
              "    20% {\n",
              "      border-color: transparent;\n",
              "      border-left-color: var(--fill-color);\n",
              "      border-top-color: var(--fill-color);\n",
              "    }\n",
              "    30% {\n",
              "      border-color: transparent;\n",
              "      border-left-color: var(--fill-color);\n",
              "      border-top-color: var(--fill-color);\n",
              "      border-right-color: var(--fill-color);\n",
              "    }\n",
              "    40% {\n",
              "      border-color: transparent;\n",
              "      border-right-color: var(--fill-color);\n",
              "      border-top-color: var(--fill-color);\n",
              "    }\n",
              "    60% {\n",
              "      border-color: transparent;\n",
              "      border-right-color: var(--fill-color);\n",
              "    }\n",
              "    80% {\n",
              "      border-color: transparent;\n",
              "      border-right-color: var(--fill-color);\n",
              "      border-bottom-color: var(--fill-color);\n",
              "    }\n",
              "    90% {\n",
              "      border-color: transparent;\n",
              "      border-bottom-color: var(--fill-color);\n",
              "    }\n",
              "  }\n",
              "</style>\n",
              "\n",
              "  <script>\n",
              "    async function quickchart(key) {\n",
              "      const quickchartButtonEl =\n",
              "        document.querySelector('#' + key + ' button');\n",
              "      quickchartButtonEl.disabled = true;  // To prevent multiple clicks.\n",
              "      quickchartButtonEl.classList.add('colab-df-spinner');\n",
              "      try {\n",
              "        const charts = await google.colab.kernel.invokeFunction(\n",
              "            'suggestCharts', [key], {});\n",
              "      } catch (error) {\n",
              "        console.error('Error during call to suggestCharts:', error);\n",
              "      }\n",
              "      quickchartButtonEl.classList.remove('colab-df-spinner');\n",
              "      quickchartButtonEl.classList.add('colab-df-quickchart-complete');\n",
              "    }\n",
              "    (() => {\n",
              "      let quickchartButtonEl =\n",
              "        document.querySelector('#df-802ffea0-ea08-4a89-a033-4fe8fa88caeb button');\n",
              "      quickchartButtonEl.style.display =\n",
              "        google.colab.kernel.accessAllowed ? 'block' : 'none';\n",
              "    })();\n",
              "  </script>\n",
              "</div>\n",
              "\n",
              "    </div>\n",
              "  </div>\n"
            ],
            "application/vnd.google.colaboratory.intrinsic+json": {
              "type": "dataframe",
              "summary": "{\n  \"name\": \"previsordf\",\n  \"rows\": 8,\n  \"fields\": [\n    {\n      \"column\": 0,\n      \"properties\": {\n        \"dtype\": \"number\",\n        \"std\": 201.05260123694003,\n        \"min\": -2.0296483039857525,\n        \"max\": 569.0,\n        \"num_unique_values\": 8,\n        \"samples\": [\n          -1.3736327053358703e-16,\n          -0.21508160475996452,\n          569.0\n        ],\n        \"semantic_type\": \"\",\n        \"description\": \"\"\n      }\n    },\n    {\n      \"column\": 1,\n      \"properties\": {\n        \"dtype\": \"number\",\n        \"std\": 201.0210230207339,\n        \"min\": -2.2292485121703924,\n        \"max\": 569.0,\n        \"num_unique_values\": 8,\n        \"samples\": [\n          6.868163526679351e-17,\n          -0.10463622571260742,\n          569.0\n        ],\n        \"semantic_type\": \"\",\n        \"description\": \"\"\n      }\n    },\n    {\n      \"column\": 2,\n      \"properties\": {\n        \"dtype\": \"number\",\n        \"std\": 201.0496821064471,\n        \"min\": -1.984504032720442,\n        \"max\": 569.0,\n        \"num_unique_values\": 8,\n        \"samples\": [\n          -1.2487570048507913e-16,\n          -0.23598003258725456,\n          569.0\n        ],\n        \"semantic_type\": \"\",\n        \"description\": \"\"\n      }\n    },\n    {\n      \"column\": 3,\n      \"properties\": {\n        \"dtype\": \"number\",\n        \"std\": 200.9700913278692,\n        \"min\": -1.454443086394449,\n        \"max\": 569.0,\n        \"num_unique_values\": 8,\n        \"samples\": [\n          -2.1853247584888846e-16,\n          -0.29518686107418446,\n          569.0\n        ],\n        \"semantic_type\": \"\",\n        \"description\": \"\"\n      }\n    },\n    {\n      \"column\": 4,\n      \"properties\": {\n        \"dtype\": \"number\",\n        \"std\": 201.05495950408064,\n        \"min\": -3.112084787919981,\n        \"max\": 569.0,\n        \"num_unique_values\": 8,\n        \"samples\": [\n          -8.366671932500301e-16,\n          -0.03489107792841255,\n          569.0\n        ],\n        \"semantic_type\": \"\",\n        \"description\": \"\"\n      }\n    },\n    {\n      \"column\": 5,\n      \"properties\": {\n        \"dtype\": \"number\",\n        \"std\": 201.00429098459813,\n        \"min\": -1.6101363424569084,\n        \"max\": 569.0,\n        \"num_unique_values\": 8,\n        \"samples\": [\n          1.8731355072761868e-16,\n          -0.2219404756195074,\n          569.0\n        ],\n        \"semantic_type\": \"\",\n        \"description\": \"\"\n      }\n    },\n    {\n      \"column\": 6,\n      \"properties\": {\n        \"dtype\": \"number\",\n        \"std\": 200.998470645436,\n        \"min\": -1.1148728439607505,\n        \"max\": 569.0,\n        \"num_unique_values\": 8,\n        \"samples\": [\n          4.9950280194031645e-17,\n          -0.3422399223449583,\n          569.0\n        ],\n        \"semantic_type\": \"\",\n        \"description\": \"\"\n      }\n    },\n    {\n      \"column\": 7,\n      \"properties\": {\n        \"dtype\": \"number\",\n        \"std\": 201.01764268075226,\n        \"min\": -1.2618195840825894,\n        \"max\": 569.0,\n        \"num_unique_values\": 8,\n        \"samples\": [\n          -4.9950280194031645e-17,\n          -0.3977211760861559,\n          569.0\n        ],\n        \"semantic_type\": \"\",\n        \"description\": \"\"\n      }\n    },\n    {\n      \"column\": 8,\n      \"properties\": {\n        \"dtype\": \"number\",\n        \"std\": 201.05587807283374,\n        \"min\": -2.744117072094631,\n        \"max\": 569.0,\n        \"num_unique_values\": 8,\n        \"samples\": [\n          1.7482598067911076e-16,\n          -0.07162650466314603,\n          569.0\n        ],\n        \"semantic_type\": \"\",\n        \"description\": \"\"\n      }\n    },\n    {\n      \"column\": 9,\n      \"properties\": {\n        \"dtype\": \"number\",\n        \"std\": 200.99661899751106,\n        \"min\": -1.8198647800550172,\n        \"max\": 569.0,\n        \"num_unique_values\": 8,\n        \"samples\": [\n          4.745276618433007e-16,\n          -0.17827928145439426,\n          569.0\n        ],\n        \"semantic_type\": \"\",\n        \"description\": \"\"\n      }\n    }\n  ]\n}"
            }
          },
          "metadata": {},
          "execution_count": 39
        }
      ]
    },
    {
      "cell_type": "markdown",
      "source": [
        "## Resumo do pré processamento e mais algumas informações sobre o mesmo"
      ],
      "metadata": {
        "id": "dZA9ZT7ndjRi"
      }
    },
    {
      "cell_type": "markdown",
      "source": [
        "alvo = variável que se pretende atingir (se o câncer será benigno ou maligno)\n",
        "\n",
        "previsor = variáveis que serão usadas para prever o resultado, sem escalonar\n",
        "\n",
        "previsor_esc = variáveis previsoras escalonadas\n",
        "\n"
      ],
      "metadata": {
        "id": "PhSuB4KYdoOR"
      }
    },
    {
      "cell_type": "markdown",
      "source": [
        "O uso do LabelEncoder e o OneHotEncoder foi julgado não necessário já que as variáveis previsoras já estão em formato numérico, então não é necessário transformação.\n",
        "\n",
        "Redução de dimensionalidade também não será usada já que o número de atributos previsores não é tão grande assim."
      ],
      "metadata": {
        "id": "C_6Kx-fUeIZP"
      }
    },
    {
      "cell_type": "markdown",
      "source": [
        "## Separação entre treino e teste"
      ],
      "metadata": {
        "id": "inzgEk4fepjD"
      }
    },
    {
      "cell_type": "code",
      "source": [
        "from sklearn.model_selection import train_test_split"
      ],
      "metadata": {
        "id": "YrmjYvk-dnul"
      },
      "execution_count": null,
      "outputs": []
    },
    {
      "cell_type": "code",
      "source": [
        "x_treino, x_teste, y_treino, y_teste=train_test_split(previsor_esc, alvo, test_size=0.3, random_state=0)"
      ],
      "metadata": {
        "id": "ZVAx0vsaf5pZ"
      },
      "execution_count": null,
      "outputs": []
    },
    {
      "cell_type": "markdown",
      "source": [
        "# Naive Bayes"
      ],
      "metadata": {
        "id": "Ji2qm6ECguc5"
      }
    },
    {
      "cell_type": "code",
      "source": [
        "from sklearn.naive_bayes import GaussianNB"
      ],
      "metadata": {
        "id": "_PrIJPFBgjud"
      },
      "execution_count": null,
      "outputs": []
    },
    {
      "cell_type": "code",
      "source": [
        "naive=GaussianNB()\n",
        "naive.fit(x_treino, y_treino)"
      ],
      "metadata": {
        "colab": {
          "base_uri": "https://localhost:8080/",
          "height": 95
        },
        "id": "tVQKh7uA6aHf",
        "outputId": "5c569c0a-dad0-4114-a310-292199c71ee9"
      },
      "execution_count": null,
      "outputs": [
        {
          "output_type": "execute_result",
          "data": {
            "text/plain": [
              "GaussianNB()"
            ],
            "text/html": [
              "<style>#sk-container-id-1 {color: black;}#sk-container-id-1 pre{padding: 0;}#sk-container-id-1 div.sk-toggleable {background-color: white;}#sk-container-id-1 label.sk-toggleable__label {cursor: pointer;display: block;width: 100%;margin-bottom: 0;padding: 0.3em;box-sizing: border-box;text-align: center;}#sk-container-id-1 label.sk-toggleable__label-arrow:before {content: \"▸\";float: left;margin-right: 0.25em;color: #696969;}#sk-container-id-1 label.sk-toggleable__label-arrow:hover:before {color: black;}#sk-container-id-1 div.sk-estimator:hover label.sk-toggleable__label-arrow:before {color: black;}#sk-container-id-1 div.sk-toggleable__content {max-height: 0;max-width: 0;overflow: hidden;text-align: left;background-color: #f0f8ff;}#sk-container-id-1 div.sk-toggleable__content pre {margin: 0.2em;color: black;border-radius: 0.25em;background-color: #f0f8ff;}#sk-container-id-1 input.sk-toggleable__control:checked~div.sk-toggleable__content {max-height: 200px;max-width: 100%;overflow: auto;}#sk-container-id-1 input.sk-toggleable__control:checked~label.sk-toggleable__label-arrow:before {content: \"▾\";}#sk-container-id-1 div.sk-estimator input.sk-toggleable__control:checked~label.sk-toggleable__label {background-color: #d4ebff;}#sk-container-id-1 div.sk-label input.sk-toggleable__control:checked~label.sk-toggleable__label {background-color: #d4ebff;}#sk-container-id-1 input.sk-hidden--visually {border: 0;clip: rect(1px 1px 1px 1px);clip: rect(1px, 1px, 1px, 1px);height: 1px;margin: -1px;overflow: hidden;padding: 0;position: absolute;width: 1px;}#sk-container-id-1 div.sk-estimator {font-family: monospace;background-color: #f0f8ff;border: 1px dotted black;border-radius: 0.25em;box-sizing: border-box;margin-bottom: 0.5em;}#sk-container-id-1 div.sk-estimator:hover {background-color: #d4ebff;}#sk-container-id-1 div.sk-parallel-item::after {content: \"\";width: 100%;border-bottom: 1px solid gray;flex-grow: 1;}#sk-container-id-1 div.sk-label:hover label.sk-toggleable__label {background-color: #d4ebff;}#sk-container-id-1 div.sk-serial::before {content: \"\";position: absolute;border-left: 1px solid gray;box-sizing: border-box;top: 0;bottom: 0;left: 50%;z-index: 0;}#sk-container-id-1 div.sk-serial {display: flex;flex-direction: column;align-items: center;background-color: white;padding-right: 0.2em;padding-left: 0.2em;position: relative;}#sk-container-id-1 div.sk-item {position: relative;z-index: 1;}#sk-container-id-1 div.sk-parallel {display: flex;align-items: stretch;justify-content: center;background-color: white;position: relative;}#sk-container-id-1 div.sk-item::before, #sk-container-id-1 div.sk-parallel-item::before {content: \"\";position: absolute;border-left: 1px solid gray;box-sizing: border-box;top: 0;bottom: 0;left: 50%;z-index: -1;}#sk-container-id-1 div.sk-parallel-item {display: flex;flex-direction: column;z-index: 1;position: relative;background-color: white;}#sk-container-id-1 div.sk-parallel-item:first-child::after {align-self: flex-end;width: 50%;}#sk-container-id-1 div.sk-parallel-item:last-child::after {align-self: flex-start;width: 50%;}#sk-container-id-1 div.sk-parallel-item:only-child::after {width: 0;}#sk-container-id-1 div.sk-dashed-wrapped {border: 1px dashed gray;margin: 0 0.4em 0.5em 0.4em;box-sizing: border-box;padding-bottom: 0.4em;background-color: white;}#sk-container-id-1 div.sk-label label {font-family: monospace;font-weight: bold;display: inline-block;line-height: 1.2em;}#sk-container-id-1 div.sk-label-container {text-align: center;}#sk-container-id-1 div.sk-container {/* jupyter's `normalize.less` sets `[hidden] { display: none; }` but bootstrap.min.css set `[hidden] { display: none !important; }` so we also need the `!important` here to be able to override the default hidden behavior on the sphinx rendered scikit-learn.org. See: https://github.com/scikit-learn/scikit-learn/issues/21755 */display: inline-block !important;position: relative;}#sk-container-id-1 div.sk-text-repr-fallback {display: none;}</style><div id=\"sk-container-id-1\" class=\"sk-top-container\"><div class=\"sk-text-repr-fallback\"><pre>GaussianNB()</pre><b>In a Jupyter environment, please rerun this cell to show the HTML representation or trust the notebook. <br />On GitHub, the HTML representation is unable to render, please try loading this page with nbviewer.org.</b></div><div class=\"sk-container\" hidden><div class=\"sk-item\"><div class=\"sk-estimator sk-toggleable\"><input class=\"sk-toggleable__control sk-hidden--visually\" id=\"sk-estimator-id-1\" type=\"checkbox\" checked><label for=\"sk-estimator-id-1\" class=\"sk-toggleable__label sk-toggleable__label-arrow\">GaussianNB</label><div class=\"sk-toggleable__content\"><pre>GaussianNB()</pre></div></div></div></div></div>"
            ]
          },
          "metadata": {},
          "execution_count": 43
        }
      ]
    },
    {
      "cell_type": "code",
      "source": [
        "#Usando os previsores para fazer a previsão\n",
        "previsor_naive = naive.predict(x_teste)"
      ],
      "metadata": {
        "id": "js9UloYq6e-d"
      },
      "execution_count": null,
      "outputs": []
    },
    {
      "cell_type": "code",
      "source": [
        "from sklearn.metrics import accuracy_score, confusion_matrix, classification_report"
      ],
      "metadata": {
        "id": "vVmESMUR7HdO"
      },
      "execution_count": null,
      "outputs": []
    },
    {
      "cell_type": "code",
      "source": [
        "accuracy_score(y_teste, previsor_naive)"
      ],
      "metadata": {
        "colab": {
          "base_uri": "https://localhost:8080/"
        },
        "id": "L4vo94tG7Szl",
        "outputId": "17bb069f-5421-44be-eb31-da62b8918d7f"
      },
      "execution_count": null,
      "outputs": [
        {
          "output_type": "execute_result",
          "data": {
            "text/plain": [
              "0.9064327485380117"
            ]
          },
          "metadata": {},
          "execution_count": 46
        }
      ]
    },
    {
      "cell_type": "code",
      "source": [
        "print('Acurácia: %.2f%%' % (accuracy_score(y_teste, previsor_naive)*100))"
      ],
      "metadata": {
        "colab": {
          "base_uri": "https://localhost:8080/"
        },
        "id": "Ia6J8oWi7YxB",
        "outputId": "611001dd-9613-4c90-f4e5-3fcf265a61ab"
      },
      "execution_count": null,
      "outputs": [
        {
          "output_type": "stream",
          "name": "stdout",
          "text": [
            "Acurácia: 90.64%\n"
          ]
        }
      ]
    },
    {
      "cell_type": "code",
      "source": [
        "#Usando previsor, o teste teve 154 acertos na previsão\n",
        "confusion_matrix(y_teste, previsor_naive)"
      ],
      "metadata": {
        "colab": {
          "base_uri": "https://localhost:8080/"
        },
        "id": "5xaKcmDR7xeh",
        "outputId": "43337a49-3858-4e5a-f5f6-62ae73868a92"
      },
      "execution_count": null,
      "outputs": [
        {
          "output_type": "execute_result",
          "data": {
            "text/plain": [
              "array([[100,   8],\n",
              "       [  8,  55]])"
            ]
          },
          "metadata": {},
          "execution_count": 48
        }
      ]
    },
    {
      "cell_type": "code",
      "source": [
        "print(classification_report(y_teste, previsor_naive))"
      ],
      "metadata": {
        "colab": {
          "base_uri": "https://localhost:8080/"
        },
        "id": "f6kRCUuZ78ik",
        "outputId": "216da61a-da0f-4a50-cec6-35234830df48"
      },
      "execution_count": null,
      "outputs": [
        {
          "output_type": "stream",
          "name": "stdout",
          "text": [
            "              precision    recall  f1-score   support\n",
            "\n",
            "           0       0.93      0.93      0.93       108\n",
            "           1       0.87      0.87      0.87        63\n",
            "\n",
            "    accuracy                           0.91       171\n",
            "   macro avg       0.90      0.90      0.90       171\n",
            "weighted avg       0.91      0.91      0.91       171\n",
            "\n"
          ]
        }
      ]
    },
    {
      "cell_type": "code",
      "source": [
        "#Agora estão prevendo usando os dados de treino\n",
        "previsor_treino=naive.predict(x_treino)"
      ],
      "metadata": {
        "id": "m5RLl8-c8YFS"
      },
      "execution_count": null,
      "outputs": []
    },
    {
      "cell_type": "code",
      "source": [
        "accuracy_score(y_treino, previsor_treino)"
      ],
      "metadata": {
        "colab": {
          "base_uri": "https://localhost:8080/"
        },
        "id": "jIagyLay8fsu",
        "outputId": "5fa61472-52fc-4bbf-a09a-5f8b9d4f3c7c"
      },
      "execution_count": null,
      "outputs": [
        {
          "output_type": "execute_result",
          "data": {
            "text/plain": [
              "0.9221105527638191"
            ]
          },
          "metadata": {},
          "execution_count": 51
        }
      ]
    },
    {
      "cell_type": "code",
      "source": [
        "confusion_matrix(y_treino, previsor_treino)"
      ],
      "metadata": {
        "colab": {
          "base_uri": "https://localhost:8080/"
        },
        "id": "1bZWoeEX8oRg",
        "outputId": "f2a48b3e-d9ba-490c-b73f-142c4fe2f063"
      },
      "execution_count": null,
      "outputs": [
        {
          "output_type": "execute_result",
          "data": {
            "text/plain": [
              "array([[237,  12],\n",
              "       [ 19, 130]])"
            ]
          },
          "metadata": {},
          "execution_count": 52
        }
      ]
    },
    {
      "cell_type": "markdown",
      "source": [
        "## Validação Cruzada"
      ],
      "metadata": {
        "id": "7uPLEJgv9Cwo"
      }
    },
    {
      "cell_type": "code",
      "source": [
        "from sklearn.model_selection import KFold\n",
        "from sklearn.model_selection import cross_val_score"
      ],
      "metadata": {
        "id": "u3QFQtHn8tnX"
      },
      "execution_count": null,
      "outputs": []
    },
    {
      "cell_type": "code",
      "source": [
        "kfold=KFold(n_splits=30, shuffle=True, random_state=1)"
      ],
      "metadata": {
        "id": "WbAlbjYP9L86"
      },
      "execution_count": null,
      "outputs": []
    },
    {
      "cell_type": "code",
      "source": [
        "modelo = GaussianNB()\n",
        "resultado = cross_val_score(modelo, previsor_esc, alvo, cv=kfold)"
      ],
      "metadata": {
        "id": "BAXGPUH_9X7p"
      },
      "execution_count": null,
      "outputs": []
    },
    {
      "cell_type": "code",
      "source": [
        "print('Acurácia Média: %.2f%%' % (resultado.mean()*100))"
      ],
      "metadata": {
        "colab": {
          "base_uri": "https://localhost:8080/"
        },
        "id": "SdiX0xfO9ibq",
        "outputId": "73bc7ded-7ddd-426f-b91c-a516e4f972ac"
      },
      "execution_count": null,
      "outputs": [
        {
          "output_type": "stream",
          "name": "stdout",
          "text": [
            "Acurácia Média: 91.21%\n"
          ]
        }
      ]
    },
    {
      "cell_type": "markdown",
      "source": [
        "Naive Bayes = 90,64% (154 acertos)\n",
        "\n",
        "Validação Cruzada = 91,21% (previsor_esc)"
      ],
      "metadata": {
        "id": "Dp7I2rw6-BBs"
      }
    },
    {
      "cell_type": "markdown",
      "source": [
        "# Máquina de Vetores de Suporte"
      ],
      "metadata": {
        "id": "mEL0qihY_0aC"
      }
    },
    {
      "cell_type": "code",
      "source": [
        "from sklearn.svm import SVC"
      ],
      "metadata": {
        "id": "dp0nYVgh9m-M"
      },
      "execution_count": null,
      "outputs": []
    },
    {
      "cell_type": "code",
      "source": [
        "#Quanto maior C, mais o algortimo se adapta ao treinameto, com risco de overfitting\n",
        "svm = SVC(kernel='rbf', random_state=1, C=3)\n",
        "svm.fit(x_treino, y_treino)"
      ],
      "metadata": {
        "colab": {
          "base_uri": "https://localhost:8080/",
          "height": 95
        },
        "id": "i0QsmCbb_6-U",
        "outputId": "c84a26db-7e2f-4143-9834-af7d5d6e2028"
      },
      "execution_count": null,
      "outputs": [
        {
          "output_type": "execute_result",
          "data": {
            "text/plain": [
              "SVC(C=3, random_state=1)"
            ],
            "text/html": [
              "<style>#sk-container-id-2 {color: black;}#sk-container-id-2 pre{padding: 0;}#sk-container-id-2 div.sk-toggleable {background-color: white;}#sk-container-id-2 label.sk-toggleable__label {cursor: pointer;display: block;width: 100%;margin-bottom: 0;padding: 0.3em;box-sizing: border-box;text-align: center;}#sk-container-id-2 label.sk-toggleable__label-arrow:before {content: \"▸\";float: left;margin-right: 0.25em;color: #696969;}#sk-container-id-2 label.sk-toggleable__label-arrow:hover:before {color: black;}#sk-container-id-2 div.sk-estimator:hover label.sk-toggleable__label-arrow:before {color: black;}#sk-container-id-2 div.sk-toggleable__content {max-height: 0;max-width: 0;overflow: hidden;text-align: left;background-color: #f0f8ff;}#sk-container-id-2 div.sk-toggleable__content pre {margin: 0.2em;color: black;border-radius: 0.25em;background-color: #f0f8ff;}#sk-container-id-2 input.sk-toggleable__control:checked~div.sk-toggleable__content {max-height: 200px;max-width: 100%;overflow: auto;}#sk-container-id-2 input.sk-toggleable__control:checked~label.sk-toggleable__label-arrow:before {content: \"▾\";}#sk-container-id-2 div.sk-estimator input.sk-toggleable__control:checked~label.sk-toggleable__label {background-color: #d4ebff;}#sk-container-id-2 div.sk-label input.sk-toggleable__control:checked~label.sk-toggleable__label {background-color: #d4ebff;}#sk-container-id-2 input.sk-hidden--visually {border: 0;clip: rect(1px 1px 1px 1px);clip: rect(1px, 1px, 1px, 1px);height: 1px;margin: -1px;overflow: hidden;padding: 0;position: absolute;width: 1px;}#sk-container-id-2 div.sk-estimator {font-family: monospace;background-color: #f0f8ff;border: 1px dotted black;border-radius: 0.25em;box-sizing: border-box;margin-bottom: 0.5em;}#sk-container-id-2 div.sk-estimator:hover {background-color: #d4ebff;}#sk-container-id-2 div.sk-parallel-item::after {content: \"\";width: 100%;border-bottom: 1px solid gray;flex-grow: 1;}#sk-container-id-2 div.sk-label:hover label.sk-toggleable__label {background-color: #d4ebff;}#sk-container-id-2 div.sk-serial::before {content: \"\";position: absolute;border-left: 1px solid gray;box-sizing: border-box;top: 0;bottom: 0;left: 50%;z-index: 0;}#sk-container-id-2 div.sk-serial {display: flex;flex-direction: column;align-items: center;background-color: white;padding-right: 0.2em;padding-left: 0.2em;position: relative;}#sk-container-id-2 div.sk-item {position: relative;z-index: 1;}#sk-container-id-2 div.sk-parallel {display: flex;align-items: stretch;justify-content: center;background-color: white;position: relative;}#sk-container-id-2 div.sk-item::before, #sk-container-id-2 div.sk-parallel-item::before {content: \"\";position: absolute;border-left: 1px solid gray;box-sizing: border-box;top: 0;bottom: 0;left: 50%;z-index: -1;}#sk-container-id-2 div.sk-parallel-item {display: flex;flex-direction: column;z-index: 1;position: relative;background-color: white;}#sk-container-id-2 div.sk-parallel-item:first-child::after {align-self: flex-end;width: 50%;}#sk-container-id-2 div.sk-parallel-item:last-child::after {align-self: flex-start;width: 50%;}#sk-container-id-2 div.sk-parallel-item:only-child::after {width: 0;}#sk-container-id-2 div.sk-dashed-wrapped {border: 1px dashed gray;margin: 0 0.4em 0.5em 0.4em;box-sizing: border-box;padding-bottom: 0.4em;background-color: white;}#sk-container-id-2 div.sk-label label {font-family: monospace;font-weight: bold;display: inline-block;line-height: 1.2em;}#sk-container-id-2 div.sk-label-container {text-align: center;}#sk-container-id-2 div.sk-container {/* jupyter's `normalize.less` sets `[hidden] { display: none; }` but bootstrap.min.css set `[hidden] { display: none !important; }` so we also need the `!important` here to be able to override the default hidden behavior on the sphinx rendered scikit-learn.org. See: https://github.com/scikit-learn/scikit-learn/issues/21755 */display: inline-block !important;position: relative;}#sk-container-id-2 div.sk-text-repr-fallback {display: none;}</style><div id=\"sk-container-id-2\" class=\"sk-top-container\"><div class=\"sk-text-repr-fallback\"><pre>SVC(C=3, random_state=1)</pre><b>In a Jupyter environment, please rerun this cell to show the HTML representation or trust the notebook. <br />On GitHub, the HTML representation is unable to render, please try loading this page with nbviewer.org.</b></div><div class=\"sk-container\" hidden><div class=\"sk-item\"><div class=\"sk-estimator sk-toggleable\"><input class=\"sk-toggleable__control sk-hidden--visually\" id=\"sk-estimator-id-2\" type=\"checkbox\" checked><label for=\"sk-estimator-id-2\" class=\"sk-toggleable__label sk-toggleable__label-arrow\">SVC</label><div class=\"sk-toggleable__content\"><pre>SVC(C=3, random_state=1)</pre></div></div></div></div></div>"
            ]
          },
          "metadata": {},
          "execution_count": 58
        }
      ]
    },
    {
      "cell_type": "code",
      "source": [
        "previsor_svm= svm.predict(x_teste)"
      ],
      "metadata": {
        "id": "g5FNyZwmA2Uj"
      },
      "execution_count": null,
      "outputs": []
    },
    {
      "cell_type": "code",
      "source": [
        "print('Acurácia: %.2f%%' % (accuracy_score(y_teste, previsor_svm)*100))"
      ],
      "metadata": {
        "colab": {
          "base_uri": "https://localhost:8080/"
        },
        "id": "EIE4yyV6A__d",
        "outputId": "d1365523-ab04-4ac9-cf87-f9049ba4c7e8"
      },
      "execution_count": null,
      "outputs": [
        {
          "output_type": "stream",
          "name": "stdout",
          "text": [
            "Acurácia: 95.91%\n"
          ]
        }
      ]
    },
    {
      "cell_type": "code",
      "source": [
        "confusion_matrix(y_teste, previsor_svm)"
      ],
      "metadata": {
        "colab": {
          "base_uri": "https://localhost:8080/"
        },
        "id": "tmz1x8q7BG9a",
        "outputId": "fd38896f-cdf6-486f-eb30-5b42c135cc9b"
      },
      "execution_count": null,
      "outputs": [
        {
          "output_type": "execute_result",
          "data": {
            "text/plain": [
              "array([[107,   1],\n",
              "       [  6,  57]])"
            ]
          },
          "metadata": {},
          "execution_count": 61
        }
      ]
    },
    {
      "cell_type": "code",
      "source": [
        "print(classification_report(y_teste, previsor_svm))"
      ],
      "metadata": {
        "colab": {
          "base_uri": "https://localhost:8080/"
        },
        "id": "1t7JjeBPBjPF",
        "outputId": "edffe550-9efe-47cb-c6e1-340e3ca70d5b"
      },
      "execution_count": null,
      "outputs": [
        {
          "output_type": "stream",
          "name": "stdout",
          "text": [
            "              precision    recall  f1-score   support\n",
            "\n",
            "           0       0.95      0.99      0.97       108\n",
            "           1       0.98      0.90      0.94        63\n",
            "\n",
            "    accuracy                           0.96       171\n",
            "   macro avg       0.96      0.95      0.96       171\n",
            "weighted avg       0.96      0.96      0.96       171\n",
            "\n"
          ]
        }
      ]
    },
    {
      "cell_type": "code",
      "source": [
        "previsor_treino = svm.predict(x_treino)"
      ],
      "metadata": {
        "id": "B4Z9Yay_BoDe"
      },
      "execution_count": null,
      "outputs": []
    },
    {
      "cell_type": "code",
      "source": [
        "accuracy_score(y_treino, previsor_treino)"
      ],
      "metadata": {
        "colab": {
          "base_uri": "https://localhost:8080/"
        },
        "id": "TwC9-5liBsYS",
        "outputId": "8f7065f8-e7a7-4108-f3c2-557ecacf6263"
      },
      "execution_count": null,
      "outputs": [
        {
          "output_type": "execute_result",
          "data": {
            "text/plain": [
              "0.9673366834170855"
            ]
          },
          "metadata": {},
          "execution_count": 64
        }
      ]
    },
    {
      "cell_type": "code",
      "source": [
        "confusion_matrix(y_treino, previsor_treino)"
      ],
      "metadata": {
        "colab": {
          "base_uri": "https://localhost:8080/"
        },
        "id": "Iwsd0CZeBvow",
        "outputId": "0823f319-87bf-43fe-9739-6e992f311e26"
      },
      "execution_count": null,
      "outputs": [
        {
          "output_type": "execute_result",
          "data": {
            "text/plain": [
              "array([[244,   5],\n",
              "       [  8, 141]])"
            ]
          },
          "metadata": {},
          "execution_count": 65
        }
      ]
    },
    {
      "cell_type": "markdown",
      "source": [
        "## Validação Cruzada"
      ],
      "metadata": {
        "id": "HuXJFLpACqWU"
      }
    },
    {
      "cell_type": "code",
      "source": [
        "kfold = KFold(n_splits=30, shuffle=True, random_state=1)"
      ],
      "metadata": {
        "id": "J41AbhB1Bz-o"
      },
      "execution_count": null,
      "outputs": []
    },
    {
      "cell_type": "code",
      "source": [
        "modelo=SVC(kernel='rbf', random_state=1, C=3)\n",
        "resultado=cross_val_score(modelo, previsor_esc, alvo, cv=kfold)"
      ],
      "metadata": {
        "id": "AW2x5gsTCzDo"
      },
      "execution_count": null,
      "outputs": []
    },
    {
      "cell_type": "code",
      "source": [
        "print('Acurácia: %.2f%%' % (resultado.mean()*100))"
      ],
      "metadata": {
        "colab": {
          "base_uri": "https://localhost:8080/"
        },
        "id": "wfLbWkrgDDkk",
        "outputId": "0ad573fb-cd21-42a3-e2f5-e15ea3edefdf"
      },
      "execution_count": null,
      "outputs": [
        {
          "output_type": "stream",
          "name": "stdout",
          "text": [
            "Acurácia: 95.43%\n"
          ]
        }
      ]
    },
    {
      "cell_type": "markdown",
      "source": [
        "Naive Bayes = 90,64% (154 acertos) - Validação Cruzada = 91,21% (previsor_esc)\n",
        "\n",
        "SVM = 95,91% (164 acertos) - Validação Cruzada = 95,43% (kernel='rbf', random_state=1, C=3, previsor_esc)"
      ],
      "metadata": {
        "id": "-26jrEKaDM4c"
      }
    },
    {
      "cell_type": "markdown",
      "source": [
        "# Regressão Logística"
      ],
      "metadata": {
        "id": "MdGYtOOmD2O6"
      }
    },
    {
      "cell_type": "code",
      "source": [
        "from sklearn.linear_model import LogisticRegression"
      ],
      "metadata": {
        "id": "_03W9AsRDF46"
      },
      "execution_count": null,
      "outputs": []
    },
    {
      "cell_type": "code",
      "source": [
        "logistica = LogisticRegression(random_state=1, max_iter=100, penalty='l2', tol=0.0001, C=1, solver='lbfgs')\n",
        "logistica.fit(x_treino, y_treino)"
      ],
      "metadata": {
        "colab": {
          "base_uri": "https://localhost:8080/",
          "height": 95
        },
        "id": "VnNyCZ1MEO9P",
        "outputId": "3adea82d-d9ad-4f62-902f-cbf10ce8945a"
      },
      "execution_count": null,
      "outputs": [
        {
          "output_type": "execute_result",
          "data": {
            "text/plain": [
              "LogisticRegression(C=1, random_state=1)"
            ],
            "text/html": [
              "<style>#sk-container-id-3 {color: black;}#sk-container-id-3 pre{padding: 0;}#sk-container-id-3 div.sk-toggleable {background-color: white;}#sk-container-id-3 label.sk-toggleable__label {cursor: pointer;display: block;width: 100%;margin-bottom: 0;padding: 0.3em;box-sizing: border-box;text-align: center;}#sk-container-id-3 label.sk-toggleable__label-arrow:before {content: \"▸\";float: left;margin-right: 0.25em;color: #696969;}#sk-container-id-3 label.sk-toggleable__label-arrow:hover:before {color: black;}#sk-container-id-3 div.sk-estimator:hover label.sk-toggleable__label-arrow:before {color: black;}#sk-container-id-3 div.sk-toggleable__content {max-height: 0;max-width: 0;overflow: hidden;text-align: left;background-color: #f0f8ff;}#sk-container-id-3 div.sk-toggleable__content pre {margin: 0.2em;color: black;border-radius: 0.25em;background-color: #f0f8ff;}#sk-container-id-3 input.sk-toggleable__control:checked~div.sk-toggleable__content {max-height: 200px;max-width: 100%;overflow: auto;}#sk-container-id-3 input.sk-toggleable__control:checked~label.sk-toggleable__label-arrow:before {content: \"▾\";}#sk-container-id-3 div.sk-estimator input.sk-toggleable__control:checked~label.sk-toggleable__label {background-color: #d4ebff;}#sk-container-id-3 div.sk-label input.sk-toggleable__control:checked~label.sk-toggleable__label {background-color: #d4ebff;}#sk-container-id-3 input.sk-hidden--visually {border: 0;clip: rect(1px 1px 1px 1px);clip: rect(1px, 1px, 1px, 1px);height: 1px;margin: -1px;overflow: hidden;padding: 0;position: absolute;width: 1px;}#sk-container-id-3 div.sk-estimator {font-family: monospace;background-color: #f0f8ff;border: 1px dotted black;border-radius: 0.25em;box-sizing: border-box;margin-bottom: 0.5em;}#sk-container-id-3 div.sk-estimator:hover {background-color: #d4ebff;}#sk-container-id-3 div.sk-parallel-item::after {content: \"\";width: 100%;border-bottom: 1px solid gray;flex-grow: 1;}#sk-container-id-3 div.sk-label:hover label.sk-toggleable__label {background-color: #d4ebff;}#sk-container-id-3 div.sk-serial::before {content: \"\";position: absolute;border-left: 1px solid gray;box-sizing: border-box;top: 0;bottom: 0;left: 50%;z-index: 0;}#sk-container-id-3 div.sk-serial {display: flex;flex-direction: column;align-items: center;background-color: white;padding-right: 0.2em;padding-left: 0.2em;position: relative;}#sk-container-id-3 div.sk-item {position: relative;z-index: 1;}#sk-container-id-3 div.sk-parallel {display: flex;align-items: stretch;justify-content: center;background-color: white;position: relative;}#sk-container-id-3 div.sk-item::before, #sk-container-id-3 div.sk-parallel-item::before {content: \"\";position: absolute;border-left: 1px solid gray;box-sizing: border-box;top: 0;bottom: 0;left: 50%;z-index: -1;}#sk-container-id-3 div.sk-parallel-item {display: flex;flex-direction: column;z-index: 1;position: relative;background-color: white;}#sk-container-id-3 div.sk-parallel-item:first-child::after {align-self: flex-end;width: 50%;}#sk-container-id-3 div.sk-parallel-item:last-child::after {align-self: flex-start;width: 50%;}#sk-container-id-3 div.sk-parallel-item:only-child::after {width: 0;}#sk-container-id-3 div.sk-dashed-wrapped {border: 1px dashed gray;margin: 0 0.4em 0.5em 0.4em;box-sizing: border-box;padding-bottom: 0.4em;background-color: white;}#sk-container-id-3 div.sk-label label {font-family: monospace;font-weight: bold;display: inline-block;line-height: 1.2em;}#sk-container-id-3 div.sk-label-container {text-align: center;}#sk-container-id-3 div.sk-container {/* jupyter's `normalize.less` sets `[hidden] { display: none; }` but bootstrap.min.css set `[hidden] { display: none !important; }` so we also need the `!important` here to be able to override the default hidden behavior on the sphinx rendered scikit-learn.org. See: https://github.com/scikit-learn/scikit-learn/issues/21755 */display: inline-block !important;position: relative;}#sk-container-id-3 div.sk-text-repr-fallback {display: none;}</style><div id=\"sk-container-id-3\" class=\"sk-top-container\"><div class=\"sk-text-repr-fallback\"><pre>LogisticRegression(C=1, random_state=1)</pre><b>In a Jupyter environment, please rerun this cell to show the HTML representation or trust the notebook. <br />On GitHub, the HTML representation is unable to render, please try loading this page with nbviewer.org.</b></div><div class=\"sk-container\" hidden><div class=\"sk-item\"><div class=\"sk-estimator sk-toggleable\"><input class=\"sk-toggleable__control sk-hidden--visually\" id=\"sk-estimator-id-3\" type=\"checkbox\" checked><label for=\"sk-estimator-id-3\" class=\"sk-toggleable__label sk-toggleable__label-arrow\">LogisticRegression</label><div class=\"sk-toggleable__content\"><pre>LogisticRegression(C=1, random_state=1)</pre></div></div></div></div></div>"
            ]
          },
          "metadata": {},
          "execution_count": 70
        }
      ]
    },
    {
      "cell_type": "code",
      "source": [
        "logistica.intercept_"
      ],
      "metadata": {
        "colab": {
          "base_uri": "https://localhost:8080/"
        },
        "id": "VnEanscPGUBx",
        "outputId": "1ad33c04-dd67-4b10-d21b-d667d445e3b5"
      },
      "execution_count": null,
      "outputs": [
        {
          "output_type": "execute_result",
          "data": {
            "text/plain": [
              "array([-0.60310049])"
            ]
          },
          "metadata": {},
          "execution_count": 71
        }
      ]
    },
    {
      "cell_type": "code",
      "source": [
        "logistica.coef_"
      ],
      "metadata": {
        "colab": {
          "base_uri": "https://localhost:8080/"
        },
        "id": "w9Cy8x0pGW9L",
        "outputId": "772b056e-68fa-4efe-e7de-7a621fccb40a"
      },
      "execution_count": null,
      "outputs": [
        {
          "output_type": "execute_result",
          "data": {
            "text/plain": [
              "array([[ 0.87658682,  1.32668761,  0.86718692,  1.02556913,  0.95204215,\n",
              "         0.17821943,  0.97627093,  1.52547754,  0.39353788, -0.55509691]])"
            ]
          },
          "metadata": {},
          "execution_count": 72
        }
      ]
    },
    {
      "cell_type": "code",
      "source": [
        "previsor_logistica = logistica.predict(x_teste)"
      ],
      "metadata": {
        "id": "seRoTTPuGYlQ"
      },
      "execution_count": null,
      "outputs": []
    },
    {
      "cell_type": "code",
      "source": [
        "print('Acurácia: %.2f%%' % (accuracy_score(y_teste, previsor_logistica)*100))"
      ],
      "metadata": {
        "colab": {
          "base_uri": "https://localhost:8080/"
        },
        "id": "lz6elvmnGeDA",
        "outputId": "a4412769-1d2f-48a4-8826-43ddfb290d95"
      },
      "execution_count": null,
      "outputs": [
        {
          "output_type": "stream",
          "name": "stdout",
          "text": [
            "Acurácia: 94.15%\n"
          ]
        }
      ]
    },
    {
      "cell_type": "code",
      "source": [
        "confusion_matrix(y_teste, previsor_logistica)"
      ],
      "metadata": {
        "colab": {
          "base_uri": "https://localhost:8080/"
        },
        "id": "aSX0kGSTGgtC",
        "outputId": "cd9b827f-62fe-413e-896b-5c93e06d3d64"
      },
      "execution_count": null,
      "outputs": [
        {
          "output_type": "execute_result",
          "data": {
            "text/plain": [
              "array([[105,   3],\n",
              "       [  7,  56]])"
            ]
          },
          "metadata": {},
          "execution_count": 75
        }
      ]
    },
    {
      "cell_type": "code",
      "source": [
        "print(classification_report(y_teste, previsor_logistica))"
      ],
      "metadata": {
        "colab": {
          "base_uri": "https://localhost:8080/"
        },
        "id": "gR5xxmrOH6U4",
        "outputId": "18f06e82-e435-459f-9227-b68bbfdd95a0"
      },
      "execution_count": null,
      "outputs": [
        {
          "output_type": "stream",
          "name": "stdout",
          "text": [
            "              precision    recall  f1-score   support\n",
            "\n",
            "           0       0.94      0.97      0.95       108\n",
            "           1       0.95      0.89      0.92        63\n",
            "\n",
            "    accuracy                           0.94       171\n",
            "   macro avg       0.94      0.93      0.94       171\n",
            "weighted avg       0.94      0.94      0.94       171\n",
            "\n"
          ]
        }
      ]
    },
    {
      "cell_type": "code",
      "source": [
        "previsor_treino = logistica.predict(x_treino)"
      ],
      "metadata": {
        "id": "wrrFSltzIBbd"
      },
      "execution_count": null,
      "outputs": []
    },
    {
      "cell_type": "code",
      "source": [
        "accuracy_score(y_treino, previsor_treino)"
      ],
      "metadata": {
        "colab": {
          "base_uri": "https://localhost:8080/"
        },
        "id": "cZE6WX1fIFZG",
        "outputId": "10fc657a-cfdd-4028-a7e8-0d1092b63f5c"
      },
      "execution_count": null,
      "outputs": [
        {
          "output_type": "execute_result",
          "data": {
            "text/plain": [
              "0.9447236180904522"
            ]
          },
          "metadata": {},
          "execution_count": 78
        }
      ]
    },
    {
      "cell_type": "code",
      "source": [
        "confusion_matrix(y_treino, previsor_treino)"
      ],
      "metadata": {
        "colab": {
          "base_uri": "https://localhost:8080/"
        },
        "id": "xDPyOn2-IIP5",
        "outputId": "3c7d5159-c262-4af7-c571-4dff7b5efbf9"
      },
      "execution_count": null,
      "outputs": [
        {
          "output_type": "execute_result",
          "data": {
            "text/plain": [
              "array([[241,   8],\n",
              "       [ 14, 135]])"
            ]
          },
          "metadata": {},
          "execution_count": 79
        }
      ]
    },
    {
      "cell_type": "markdown",
      "source": [
        "## Validação Cruzada"
      ],
      "metadata": {
        "id": "yQFKYTUnIzgu"
      }
    },
    {
      "cell_type": "code",
      "source": [
        "kfold= KFold(n_splits=30, shuffle=True, random_state=1)"
      ],
      "metadata": {
        "id": "1QVb-tBsIPhj"
      },
      "execution_count": null,
      "outputs": []
    },
    {
      "cell_type": "code",
      "source": [
        "modelo=LogisticRegression(random_state=1, max_iter=100, penalty='l2', tol=0.0001, C=1, solver='lbfgs')\n",
        "resultado=cross_val_score(modelo, previsor_esc, alvo, cv=kfold)"
      ],
      "metadata": {
        "id": "hdQNVSX-JCx3"
      },
      "execution_count": null,
      "outputs": []
    },
    {
      "cell_type": "code",
      "source": [
        "print(\"Acurácia Média: %.2f%%\" % (resultado.mean()*100))"
      ],
      "metadata": {
        "colab": {
          "base_uri": "https://localhost:8080/"
        },
        "id": "TE3OWp9KJinn",
        "outputId": "f01bed37-0d60-415c-b9a7-830623e34096"
      },
      "execution_count": null,
      "outputs": [
        {
          "output_type": "stream",
          "name": "stdout",
          "text": [
            "Acurácia Média: 93.85%\n"
          ]
        }
      ]
    },
    {
      "cell_type": "markdown",
      "source": [
        "Naive Bayes = 90,64% (154 acertos) - Validação Cruzada = 91,21% (previsor_esc)\n",
        "\n",
        "SVM = 95,91% (164 acertos) - Validação Cruzada = 95,43% (kernel='rbf', random_state=1, C=3, previsor_esc)\n",
        "\n",
        "Regressão Logística = 94,15% (161 acertos) - Validação Cruzada = 93,85% (random_state=1, max_iter=100, penalty='l2', tol=0.0001, C=1, solver='lbfgs', previsor_esc)"
      ],
      "metadata": {
        "id": "rrsyEKfvJrAb"
      }
    },
    {
      "cell_type": "markdown",
      "source": [
        "# KNN"
      ],
      "metadata": {
        "id": "OEja4XPhKHx4"
      }
    },
    {
      "cell_type": "code",
      "source": [
        "from sklearn.neighbors import KNeighborsClassifier"
      ],
      "metadata": {
        "id": "jecaQ6pQJlKh"
      },
      "execution_count": null,
      "outputs": []
    },
    {
      "cell_type": "code",
      "source": [
        "knn = KNeighborsClassifier(n_neighbors=15, metric='minkowski', p=1)\n",
        "knn.fit(x_treino, y_treino)"
      ],
      "metadata": {
        "colab": {
          "base_uri": "https://localhost:8080/",
          "height": 95
        },
        "id": "4Xrz9WIKMhMr",
        "outputId": "56b2ce19-c75c-47ba-a1d5-e72e51045732"
      },
      "execution_count": null,
      "outputs": [
        {
          "output_type": "execute_result",
          "data": {
            "text/plain": [
              "KNeighborsClassifier(n_neighbors=15, p=1)"
            ],
            "text/html": [
              "<style>#sk-container-id-4 {color: black;}#sk-container-id-4 pre{padding: 0;}#sk-container-id-4 div.sk-toggleable {background-color: white;}#sk-container-id-4 label.sk-toggleable__label {cursor: pointer;display: block;width: 100%;margin-bottom: 0;padding: 0.3em;box-sizing: border-box;text-align: center;}#sk-container-id-4 label.sk-toggleable__label-arrow:before {content: \"▸\";float: left;margin-right: 0.25em;color: #696969;}#sk-container-id-4 label.sk-toggleable__label-arrow:hover:before {color: black;}#sk-container-id-4 div.sk-estimator:hover label.sk-toggleable__label-arrow:before {color: black;}#sk-container-id-4 div.sk-toggleable__content {max-height: 0;max-width: 0;overflow: hidden;text-align: left;background-color: #f0f8ff;}#sk-container-id-4 div.sk-toggleable__content pre {margin: 0.2em;color: black;border-radius: 0.25em;background-color: #f0f8ff;}#sk-container-id-4 input.sk-toggleable__control:checked~div.sk-toggleable__content {max-height: 200px;max-width: 100%;overflow: auto;}#sk-container-id-4 input.sk-toggleable__control:checked~label.sk-toggleable__label-arrow:before {content: \"▾\";}#sk-container-id-4 div.sk-estimator input.sk-toggleable__control:checked~label.sk-toggleable__label {background-color: #d4ebff;}#sk-container-id-4 div.sk-label input.sk-toggleable__control:checked~label.sk-toggleable__label {background-color: #d4ebff;}#sk-container-id-4 input.sk-hidden--visually {border: 0;clip: rect(1px 1px 1px 1px);clip: rect(1px, 1px, 1px, 1px);height: 1px;margin: -1px;overflow: hidden;padding: 0;position: absolute;width: 1px;}#sk-container-id-4 div.sk-estimator {font-family: monospace;background-color: #f0f8ff;border: 1px dotted black;border-radius: 0.25em;box-sizing: border-box;margin-bottom: 0.5em;}#sk-container-id-4 div.sk-estimator:hover {background-color: #d4ebff;}#sk-container-id-4 div.sk-parallel-item::after {content: \"\";width: 100%;border-bottom: 1px solid gray;flex-grow: 1;}#sk-container-id-4 div.sk-label:hover label.sk-toggleable__label {background-color: #d4ebff;}#sk-container-id-4 div.sk-serial::before {content: \"\";position: absolute;border-left: 1px solid gray;box-sizing: border-box;top: 0;bottom: 0;left: 50%;z-index: 0;}#sk-container-id-4 div.sk-serial {display: flex;flex-direction: column;align-items: center;background-color: white;padding-right: 0.2em;padding-left: 0.2em;position: relative;}#sk-container-id-4 div.sk-item {position: relative;z-index: 1;}#sk-container-id-4 div.sk-parallel {display: flex;align-items: stretch;justify-content: center;background-color: white;position: relative;}#sk-container-id-4 div.sk-item::before, #sk-container-id-4 div.sk-parallel-item::before {content: \"\";position: absolute;border-left: 1px solid gray;box-sizing: border-box;top: 0;bottom: 0;left: 50%;z-index: -1;}#sk-container-id-4 div.sk-parallel-item {display: flex;flex-direction: column;z-index: 1;position: relative;background-color: white;}#sk-container-id-4 div.sk-parallel-item:first-child::after {align-self: flex-end;width: 50%;}#sk-container-id-4 div.sk-parallel-item:last-child::after {align-self: flex-start;width: 50%;}#sk-container-id-4 div.sk-parallel-item:only-child::after {width: 0;}#sk-container-id-4 div.sk-dashed-wrapped {border: 1px dashed gray;margin: 0 0.4em 0.5em 0.4em;box-sizing: border-box;padding-bottom: 0.4em;background-color: white;}#sk-container-id-4 div.sk-label label {font-family: monospace;font-weight: bold;display: inline-block;line-height: 1.2em;}#sk-container-id-4 div.sk-label-container {text-align: center;}#sk-container-id-4 div.sk-container {/* jupyter's `normalize.less` sets `[hidden] { display: none; }` but bootstrap.min.css set `[hidden] { display: none !important; }` so we also need the `!important` here to be able to override the default hidden behavior on the sphinx rendered scikit-learn.org. See: https://github.com/scikit-learn/scikit-learn/issues/21755 */display: inline-block !important;position: relative;}#sk-container-id-4 div.sk-text-repr-fallback {display: none;}</style><div id=\"sk-container-id-4\" class=\"sk-top-container\"><div class=\"sk-text-repr-fallback\"><pre>KNeighborsClassifier(n_neighbors=15, p=1)</pre><b>In a Jupyter environment, please rerun this cell to show the HTML representation or trust the notebook. <br />On GitHub, the HTML representation is unable to render, please try loading this page with nbviewer.org.</b></div><div class=\"sk-container\" hidden><div class=\"sk-item\"><div class=\"sk-estimator sk-toggleable\"><input class=\"sk-toggleable__control sk-hidden--visually\" id=\"sk-estimator-id-4\" type=\"checkbox\" checked><label for=\"sk-estimator-id-4\" class=\"sk-toggleable__label sk-toggleable__label-arrow\">KNeighborsClassifier</label><div class=\"sk-toggleable__content\"><pre>KNeighborsClassifier(n_neighbors=15, p=1)</pre></div></div></div></div></div>"
            ]
          },
          "metadata": {},
          "execution_count": 84
        }
      ]
    },
    {
      "cell_type": "code",
      "source": [
        "previsor_knn = knn.predict(x_teste)"
      ],
      "metadata": {
        "id": "VtMcy_NoLpDD"
      },
      "execution_count": null,
      "outputs": []
    },
    {
      "cell_type": "code",
      "source": [
        "print('Acurácia: %.2f%%' % (accuracy_score(y_teste, previsor_knn)*100))"
      ],
      "metadata": {
        "colab": {
          "base_uri": "https://localhost:8080/"
        },
        "id": "Jqw6htbVLt48",
        "outputId": "0616884e-a199-4d19-ce69-7493223f500e"
      },
      "execution_count": null,
      "outputs": [
        {
          "output_type": "stream",
          "name": "stdout",
          "text": [
            "Acurácia: 92.98%\n"
          ]
        }
      ]
    },
    {
      "cell_type": "code",
      "source": [
        "confusion_matrix(y_teste, previsor_knn)"
      ],
      "metadata": {
        "colab": {
          "base_uri": "https://localhost:8080/"
        },
        "id": "QR6lDLTxLv0K",
        "outputId": "dfa9f156-d2fd-4656-e62c-c3057f7a2c97"
      },
      "execution_count": null,
      "outputs": [
        {
          "output_type": "execute_result",
          "data": {
            "text/plain": [
              "array([[103,   5],\n",
              "       [  7,  56]])"
            ]
          },
          "metadata": {},
          "execution_count": 87
        }
      ]
    },
    {
      "cell_type": "code",
      "source": [
        "previsor_treino = knn.predict(x_treino)"
      ],
      "metadata": {
        "id": "kZ2S7Dd8L4DK"
      },
      "execution_count": null,
      "outputs": []
    },
    {
      "cell_type": "code",
      "source": [
        "accuracy_score(y_treino, previsor_treino)"
      ],
      "metadata": {
        "colab": {
          "base_uri": "https://localhost:8080/"
        },
        "id": "qaOmvV08L8o0",
        "outputId": "72e74995-a664-463f-c549-f2c43bfd2ff7"
      },
      "execution_count": null,
      "outputs": [
        {
          "output_type": "execute_result",
          "data": {
            "text/plain": [
              "0.9522613065326633"
            ]
          },
          "metadata": {},
          "execution_count": 89
        }
      ]
    },
    {
      "cell_type": "code",
      "source": [
        "confusion_matrix(y_treino, previsor_treino)"
      ],
      "metadata": {
        "colab": {
          "base_uri": "https://localhost:8080/"
        },
        "id": "EQF79fv-MAIc",
        "outputId": "55757bb2-f643-4556-adca-7ba15ca6f2b6"
      },
      "execution_count": null,
      "outputs": [
        {
          "output_type": "execute_result",
          "data": {
            "text/plain": [
              "array([[241,   8],\n",
              "       [ 11, 138]])"
            ]
          },
          "metadata": {},
          "execution_count": 90
        }
      ]
    },
    {
      "cell_type": "markdown",
      "source": [
        "## Validação Cruzada"
      ],
      "metadata": {
        "id": "1mIBvQnsMtNk"
      }
    },
    {
      "cell_type": "code",
      "source": [
        "kfold = KFold(n_splits=30, shuffle=True, random_state=1)"
      ],
      "metadata": {
        "id": "LHseAGuVMDmx"
      },
      "execution_count": null,
      "outputs": []
    },
    {
      "cell_type": "code",
      "source": [
        "modelo=KNeighborsClassifier(n_neighbors=15, metric='minkowski', p=1)\n",
        "resultado=cross_val_score(modelo, previsor_esc, alvo, cv=kfold)"
      ],
      "metadata": {
        "id": "WQ7HEH2fM3OD"
      },
      "execution_count": null,
      "outputs": []
    },
    {
      "cell_type": "code",
      "source": [
        "print(\"Acurácia Média: %.2f%%\" % (resultado.mean()*100))"
      ],
      "metadata": {
        "colab": {
          "base_uri": "https://localhost:8080/"
        },
        "id": "kYZ6xc12NUZj",
        "outputId": "122f6ad9-a29e-4ae2-8052-76e5198efd61"
      },
      "execution_count": null,
      "outputs": [
        {
          "output_type": "stream",
          "name": "stdout",
          "text": [
            "Acurácia Média: 94.03%\n"
          ]
        }
      ]
    },
    {
      "cell_type": "markdown",
      "source": [
        "Naive Bayes = 90,64% (154 acertos) - Validação Cruzada = 91,21% (previsor_esc)\n",
        "\n",
        "SVM = 95,91% (164 acertos) - Validação Cruzada = 95,43% (kernel='rbf', random_state=1, C=3, previsor_esc)\n",
        "\n",
        "Regressão Logística = 94,15% (161 acertos) - Validação Cruzada = 93,85% (random_state=1, max_iter=100, penalty='l2', tol=0.0001, C=1, solver='lbfgs', previsor_esc)\n",
        "\n",
        "KNN = 91,23% (156 acertos) - Validação Cruzada = 94,03% (n_neighbors=15, metric='minkowski', p=1, pode usar tanto previsor quanto previsor_esc)"
      ],
      "metadata": {
        "id": "xGmjUa7ONgd3"
      }
    },
    {
      "cell_type": "markdown",
      "source": [
        "# Decision Forest"
      ],
      "metadata": {
        "id": "uHNIVBK5N3JU"
      }
    },
    {
      "cell_type": "code",
      "source": [
        "from sklearn.tree import DecisionTreeClassifier"
      ],
      "metadata": {
        "id": "qFrr29QedErM"
      },
      "execution_count": null,
      "outputs": []
    },
    {
      "cell_type": "code",
      "source": [
        "arvore=DecisionTreeClassifier(criterion='gini', random_state=1, max_depth=3)\n",
        "arvore.fit(x_treino, y_treino)"
      ],
      "metadata": {
        "colab": {
          "base_uri": "https://localhost:8080/",
          "height": 95
        },
        "id": "etMCjMkPdJei",
        "outputId": "3c70cabc-ae75-4868-dadd-0b81c16393f5"
      },
      "execution_count": null,
      "outputs": [
        {
          "output_type": "execute_result",
          "data": {
            "text/plain": [
              "DecisionTreeClassifier(max_depth=3, random_state=1)"
            ],
            "text/html": [
              "<style>#sk-container-id-5 {color: black;}#sk-container-id-5 pre{padding: 0;}#sk-container-id-5 div.sk-toggleable {background-color: white;}#sk-container-id-5 label.sk-toggleable__label {cursor: pointer;display: block;width: 100%;margin-bottom: 0;padding: 0.3em;box-sizing: border-box;text-align: center;}#sk-container-id-5 label.sk-toggleable__label-arrow:before {content: \"▸\";float: left;margin-right: 0.25em;color: #696969;}#sk-container-id-5 label.sk-toggleable__label-arrow:hover:before {color: black;}#sk-container-id-5 div.sk-estimator:hover label.sk-toggleable__label-arrow:before {color: black;}#sk-container-id-5 div.sk-toggleable__content {max-height: 0;max-width: 0;overflow: hidden;text-align: left;background-color: #f0f8ff;}#sk-container-id-5 div.sk-toggleable__content pre {margin: 0.2em;color: black;border-radius: 0.25em;background-color: #f0f8ff;}#sk-container-id-5 input.sk-toggleable__control:checked~div.sk-toggleable__content {max-height: 200px;max-width: 100%;overflow: auto;}#sk-container-id-5 input.sk-toggleable__control:checked~label.sk-toggleable__label-arrow:before {content: \"▾\";}#sk-container-id-5 div.sk-estimator input.sk-toggleable__control:checked~label.sk-toggleable__label {background-color: #d4ebff;}#sk-container-id-5 div.sk-label input.sk-toggleable__control:checked~label.sk-toggleable__label {background-color: #d4ebff;}#sk-container-id-5 input.sk-hidden--visually {border: 0;clip: rect(1px 1px 1px 1px);clip: rect(1px, 1px, 1px, 1px);height: 1px;margin: -1px;overflow: hidden;padding: 0;position: absolute;width: 1px;}#sk-container-id-5 div.sk-estimator {font-family: monospace;background-color: #f0f8ff;border: 1px dotted black;border-radius: 0.25em;box-sizing: border-box;margin-bottom: 0.5em;}#sk-container-id-5 div.sk-estimator:hover {background-color: #d4ebff;}#sk-container-id-5 div.sk-parallel-item::after {content: \"\";width: 100%;border-bottom: 1px solid gray;flex-grow: 1;}#sk-container-id-5 div.sk-label:hover label.sk-toggleable__label {background-color: #d4ebff;}#sk-container-id-5 div.sk-serial::before {content: \"\";position: absolute;border-left: 1px solid gray;box-sizing: border-box;top: 0;bottom: 0;left: 50%;z-index: 0;}#sk-container-id-5 div.sk-serial {display: flex;flex-direction: column;align-items: center;background-color: white;padding-right: 0.2em;padding-left: 0.2em;position: relative;}#sk-container-id-5 div.sk-item {position: relative;z-index: 1;}#sk-container-id-5 div.sk-parallel {display: flex;align-items: stretch;justify-content: center;background-color: white;position: relative;}#sk-container-id-5 div.sk-item::before, #sk-container-id-5 div.sk-parallel-item::before {content: \"\";position: absolute;border-left: 1px solid gray;box-sizing: border-box;top: 0;bottom: 0;left: 50%;z-index: -1;}#sk-container-id-5 div.sk-parallel-item {display: flex;flex-direction: column;z-index: 1;position: relative;background-color: white;}#sk-container-id-5 div.sk-parallel-item:first-child::after {align-self: flex-end;width: 50%;}#sk-container-id-5 div.sk-parallel-item:last-child::after {align-self: flex-start;width: 50%;}#sk-container-id-5 div.sk-parallel-item:only-child::after {width: 0;}#sk-container-id-5 div.sk-dashed-wrapped {border: 1px dashed gray;margin: 0 0.4em 0.5em 0.4em;box-sizing: border-box;padding-bottom: 0.4em;background-color: white;}#sk-container-id-5 div.sk-label label {font-family: monospace;font-weight: bold;display: inline-block;line-height: 1.2em;}#sk-container-id-5 div.sk-label-container {text-align: center;}#sk-container-id-5 div.sk-container {/* jupyter's `normalize.less` sets `[hidden] { display: none; }` but bootstrap.min.css set `[hidden] { display: none !important; }` so we also need the `!important` here to be able to override the default hidden behavior on the sphinx rendered scikit-learn.org. See: https://github.com/scikit-learn/scikit-learn/issues/21755 */display: inline-block !important;position: relative;}#sk-container-id-5 div.sk-text-repr-fallback {display: none;}</style><div id=\"sk-container-id-5\" class=\"sk-top-container\"><div class=\"sk-text-repr-fallback\"><pre>DecisionTreeClassifier(max_depth=3, random_state=1)</pre><b>In a Jupyter environment, please rerun this cell to show the HTML representation or trust the notebook. <br />On GitHub, the HTML representation is unable to render, please try loading this page with nbviewer.org.</b></div><div class=\"sk-container\" hidden><div class=\"sk-item\"><div class=\"sk-estimator sk-toggleable\"><input class=\"sk-toggleable__control sk-hidden--visually\" id=\"sk-estimator-id-5\" type=\"checkbox\" checked><label for=\"sk-estimator-id-5\" class=\"sk-toggleable__label sk-toggleable__label-arrow\">DecisionTreeClassifier</label><div class=\"sk-toggleable__content\"><pre>DecisionTreeClassifier(max_depth=3, random_state=1)</pre></div></div></div></div></div>"
            ]
          },
          "metadata": {},
          "execution_count": 95
        }
      ]
    },
    {
      "cell_type": "code",
      "source": [
        "previsor_arvore=arvore.predict(x_teste)"
      ],
      "metadata": {
        "id": "O_7WtfSpdTl7"
      },
      "execution_count": null,
      "outputs": []
    },
    {
      "cell_type": "code",
      "source": [
        "print('Acurácia: %.2f%%' % (accuracy_score(y_teste, previsor_arvore)*100))"
      ],
      "metadata": {
        "colab": {
          "base_uri": "https://localhost:8080/"
        },
        "id": "DyD4PhHUdiyv",
        "outputId": "73cc483b-610f-4187-902e-387ad1c6b293"
      },
      "execution_count": null,
      "outputs": [
        {
          "output_type": "stream",
          "name": "stdout",
          "text": [
            "Acurácia: 92.98%\n"
          ]
        }
      ]
    },
    {
      "cell_type": "code",
      "source": [
        "confusion_matrix(y_teste, previsor_arvore)"
      ],
      "metadata": {
        "colab": {
          "base_uri": "https://localhost:8080/"
        },
        "id": "xC6yCcJ4dkww",
        "outputId": "0c4d585a-726d-4a5d-dde6-bb0a81e169f9"
      },
      "execution_count": null,
      "outputs": [
        {
          "output_type": "execute_result",
          "data": {
            "text/plain": [
              "array([[103,   5],\n",
              "       [  7,  56]])"
            ]
          },
          "metadata": {},
          "execution_count": 98
        }
      ]
    },
    {
      "cell_type": "code",
      "source": [
        "previsor_treino=arvore.predict(x_treino)"
      ],
      "metadata": {
        "id": "_NcdYtc_eCIv"
      },
      "execution_count": null,
      "outputs": []
    },
    {
      "cell_type": "code",
      "source": [
        "accuracy_score(y_treino, previsor_treino)"
      ],
      "metadata": {
        "colab": {
          "base_uri": "https://localhost:8080/"
        },
        "id": "nE7mrj7heG0R",
        "outputId": "dec00e71-c826-4d1f-c501-e37a573e00f0"
      },
      "execution_count": null,
      "outputs": [
        {
          "output_type": "execute_result",
          "data": {
            "text/plain": [
              "0.9623115577889447"
            ]
          },
          "metadata": {},
          "execution_count": 100
        }
      ]
    },
    {
      "cell_type": "code",
      "source": [
        "confusion_matrix(y_treino, previsor_treino)"
      ],
      "metadata": {
        "colab": {
          "base_uri": "https://localhost:8080/"
        },
        "id": "5iO_JVjJeKpp",
        "outputId": "68f9e69b-40f6-4a6a-e909-d1520ad3f56d"
      },
      "execution_count": null,
      "outputs": [
        {
          "output_type": "execute_result",
          "data": {
            "text/plain": [
              "array([[245,   4],\n",
              "       [ 11, 138]])"
            ]
          },
          "metadata": {},
          "execution_count": 101
        }
      ]
    },
    {
      "cell_type": "markdown",
      "source": [
        "## Validação Cruzada"
      ],
      "metadata": {
        "id": "icTsL6AteQal"
      }
    },
    {
      "cell_type": "code",
      "source": [
        "kfold=KFold(n_splits=30, shuffle=True, random_state=1)"
      ],
      "metadata": {
        "id": "W4LsivRNeOXT"
      },
      "execution_count": null,
      "outputs": []
    },
    {
      "cell_type": "code",
      "source": [
        "modelo=DecisionTreeClassifier(criterion='gini', random_state=1, max_depth=3)\n",
        "resultado=cross_val_score(modelo, previsor, alvo, cv=kfold)"
      ],
      "metadata": {
        "id": "6n70EwuqeewX"
      },
      "execution_count": null,
      "outputs": []
    },
    {
      "cell_type": "code",
      "source": [
        "print('Acurácia: %.2f%%' % (resultado.mean()*100))"
      ],
      "metadata": {
        "colab": {
          "base_uri": "https://localhost:8080/"
        },
        "id": "hn2CgqVFezZI",
        "outputId": "da577263-95f3-4454-bce6-b3a873b76679"
      },
      "execution_count": null,
      "outputs": [
        {
          "output_type": "stream",
          "name": "stdout",
          "text": [
            "Acurácia: 91.58%\n"
          ]
        }
      ]
    },
    {
      "cell_type": "markdown",
      "source": [
        "Naive Bayes = 90,64% (154 acertos) - Validação Cruzada = 91,21% (previsor_esc)\n",
        "\n",
        "SVM = 95,91% (164 acertos) - Validação Cruzada = 95,43% (kernel='rbf', random_state=1, C=3, previsor_esc)\n",
        "\n",
        "Regressão Logística = 94,15% (161 acertos) - Validação Cruzada = 93,85% (random_state=1, max_iter=100, penalty='l2', tol=0.0001, C=1, solver='lbfgs', previsor_esc)\n",
        "\n",
        "KNN = 91,23% (156 acertos) - Validação Cruzada = 94,03% (n_neighbors=15, metric='minkowski', p=1, previsor ou previsor_esc)\n",
        "\n",
        "Decision Tree = 92,98% (159 acertos) - Validação Cruzada = 91,58% (criterion='gini', random_state=1, max_depth=3, previsor ou previsor_esc)"
      ],
      "metadata": {
        "id": "dxBRvjEme5xu"
      }
    },
    {
      "cell_type": "markdown",
      "source": [
        "# Random Forest"
      ],
      "metadata": {
        "id": "063rJB6Wfl3p"
      }
    },
    {
      "cell_type": "code",
      "source": [
        "from sklearn.ensemble import RandomForestClassifier"
      ],
      "metadata": {
        "id": "0ajNjf23e0vI"
      },
      "execution_count": null,
      "outputs": []
    },
    {
      "cell_type": "code",
      "source": [
        "random=RandomForestClassifier(n_estimators=150, criterion='entropy', random_state=1, max_depth=5)\n",
        "random.fit(x_treino, y_treino)"
      ],
      "metadata": {
        "colab": {
          "base_uri": "https://localhost:8080/",
          "height": 92
        },
        "id": "6aJSInM_fyjZ",
        "outputId": "74eaeb8b-09fa-4e8c-ab91-ddf64c510224"
      },
      "execution_count": null,
      "outputs": [
        {
          "output_type": "execute_result",
          "data": {
            "text/plain": [
              "RandomForestClassifier(criterion='entropy', max_depth=5, n_estimators=150,\n",
              "                       random_state=1)"
            ],
            "text/html": [
              "<style>#sk-container-id-6 {color: black;}#sk-container-id-6 pre{padding: 0;}#sk-container-id-6 div.sk-toggleable {background-color: white;}#sk-container-id-6 label.sk-toggleable__label {cursor: pointer;display: block;width: 100%;margin-bottom: 0;padding: 0.3em;box-sizing: border-box;text-align: center;}#sk-container-id-6 label.sk-toggleable__label-arrow:before {content: \"▸\";float: left;margin-right: 0.25em;color: #696969;}#sk-container-id-6 label.sk-toggleable__label-arrow:hover:before {color: black;}#sk-container-id-6 div.sk-estimator:hover label.sk-toggleable__label-arrow:before {color: black;}#sk-container-id-6 div.sk-toggleable__content {max-height: 0;max-width: 0;overflow: hidden;text-align: left;background-color: #f0f8ff;}#sk-container-id-6 div.sk-toggleable__content pre {margin: 0.2em;color: black;border-radius: 0.25em;background-color: #f0f8ff;}#sk-container-id-6 input.sk-toggleable__control:checked~div.sk-toggleable__content {max-height: 200px;max-width: 100%;overflow: auto;}#sk-container-id-6 input.sk-toggleable__control:checked~label.sk-toggleable__label-arrow:before {content: \"▾\";}#sk-container-id-6 div.sk-estimator input.sk-toggleable__control:checked~label.sk-toggleable__label {background-color: #d4ebff;}#sk-container-id-6 div.sk-label input.sk-toggleable__control:checked~label.sk-toggleable__label {background-color: #d4ebff;}#sk-container-id-6 input.sk-hidden--visually {border: 0;clip: rect(1px 1px 1px 1px);clip: rect(1px, 1px, 1px, 1px);height: 1px;margin: -1px;overflow: hidden;padding: 0;position: absolute;width: 1px;}#sk-container-id-6 div.sk-estimator {font-family: monospace;background-color: #f0f8ff;border: 1px dotted black;border-radius: 0.25em;box-sizing: border-box;margin-bottom: 0.5em;}#sk-container-id-6 div.sk-estimator:hover {background-color: #d4ebff;}#sk-container-id-6 div.sk-parallel-item::after {content: \"\";width: 100%;border-bottom: 1px solid gray;flex-grow: 1;}#sk-container-id-6 div.sk-label:hover label.sk-toggleable__label {background-color: #d4ebff;}#sk-container-id-6 div.sk-serial::before {content: \"\";position: absolute;border-left: 1px solid gray;box-sizing: border-box;top: 0;bottom: 0;left: 50%;z-index: 0;}#sk-container-id-6 div.sk-serial {display: flex;flex-direction: column;align-items: center;background-color: white;padding-right: 0.2em;padding-left: 0.2em;position: relative;}#sk-container-id-6 div.sk-item {position: relative;z-index: 1;}#sk-container-id-6 div.sk-parallel {display: flex;align-items: stretch;justify-content: center;background-color: white;position: relative;}#sk-container-id-6 div.sk-item::before, #sk-container-id-6 div.sk-parallel-item::before {content: \"\";position: absolute;border-left: 1px solid gray;box-sizing: border-box;top: 0;bottom: 0;left: 50%;z-index: -1;}#sk-container-id-6 div.sk-parallel-item {display: flex;flex-direction: column;z-index: 1;position: relative;background-color: white;}#sk-container-id-6 div.sk-parallel-item:first-child::after {align-self: flex-end;width: 50%;}#sk-container-id-6 div.sk-parallel-item:last-child::after {align-self: flex-start;width: 50%;}#sk-container-id-6 div.sk-parallel-item:only-child::after {width: 0;}#sk-container-id-6 div.sk-dashed-wrapped {border: 1px dashed gray;margin: 0 0.4em 0.5em 0.4em;box-sizing: border-box;padding-bottom: 0.4em;background-color: white;}#sk-container-id-6 div.sk-label label {font-family: monospace;font-weight: bold;display: inline-block;line-height: 1.2em;}#sk-container-id-6 div.sk-label-container {text-align: center;}#sk-container-id-6 div.sk-container {/* jupyter's `normalize.less` sets `[hidden] { display: none; }` but bootstrap.min.css set `[hidden] { display: none !important; }` so we also need the `!important` here to be able to override the default hidden behavior on the sphinx rendered scikit-learn.org. See: https://github.com/scikit-learn/scikit-learn/issues/21755 */display: inline-block !important;position: relative;}#sk-container-id-6 div.sk-text-repr-fallback {display: none;}</style><div id=\"sk-container-id-6\" class=\"sk-top-container\"><div class=\"sk-text-repr-fallback\"><pre>RandomForestClassifier(criterion=&#x27;entropy&#x27;, max_depth=5, n_estimators=150,\n",
              "                       random_state=1)</pre><b>In a Jupyter environment, please rerun this cell to show the HTML representation or trust the notebook. <br />On GitHub, the HTML representation is unable to render, please try loading this page with nbviewer.org.</b></div><div class=\"sk-container\" hidden><div class=\"sk-item\"><div class=\"sk-estimator sk-toggleable\"><input class=\"sk-toggleable__control sk-hidden--visually\" id=\"sk-estimator-id-6\" type=\"checkbox\" checked><label for=\"sk-estimator-id-6\" class=\"sk-toggleable__label sk-toggleable__label-arrow\">RandomForestClassifier</label><div class=\"sk-toggleable__content\"><pre>RandomForestClassifier(criterion=&#x27;entropy&#x27;, max_depth=5, n_estimators=150,\n",
              "                       random_state=1)</pre></div></div></div></div></div>"
            ]
          },
          "metadata": {},
          "execution_count": 106
        }
      ]
    },
    {
      "cell_type": "code",
      "source": [
        "previsor_random=random.predict(x_teste)"
      ],
      "metadata": {
        "id": "mvc7z9KTf_5A"
      },
      "execution_count": null,
      "outputs": []
    },
    {
      "cell_type": "code",
      "source": [
        "print('Acurácia: %.2f%%' % (accuracy_score(y_teste, previsor_random)*100))"
      ],
      "metadata": {
        "colab": {
          "base_uri": "https://localhost:8080/"
        },
        "id": "hu5eHJXhgDnN",
        "outputId": "6ac8b18c-ae0d-4f25-cddf-5230e09c49bf"
      },
      "execution_count": null,
      "outputs": [
        {
          "output_type": "stream",
          "name": "stdout",
          "text": [
            "Acurácia: 93.57%\n"
          ]
        }
      ]
    },
    {
      "cell_type": "code",
      "source": [
        "confusion_matrix(y_teste, previsor_random)"
      ],
      "metadata": {
        "colab": {
          "base_uri": "https://localhost:8080/"
        },
        "id": "aSEq3Hl3gGbA",
        "outputId": "76f91fb1-72d6-455d-f91e-631b07d27184"
      },
      "execution_count": null,
      "outputs": [
        {
          "output_type": "execute_result",
          "data": {
            "text/plain": [
              "array([[101,   7],\n",
              "       [  4,  59]])"
            ]
          },
          "metadata": {},
          "execution_count": 109
        }
      ]
    },
    {
      "cell_type": "code",
      "source": [
        "print(classification_report(y_teste, previsor_random))"
      ],
      "metadata": {
        "colab": {
          "base_uri": "https://localhost:8080/"
        },
        "id": "YTGBPWXggl2m",
        "outputId": "64569001-117e-40fd-beec-9d091963154b"
      },
      "execution_count": null,
      "outputs": [
        {
          "output_type": "stream",
          "name": "stdout",
          "text": [
            "              precision    recall  f1-score   support\n",
            "\n",
            "           0       0.96      0.94      0.95       108\n",
            "           1       0.89      0.94      0.91        63\n",
            "\n",
            "    accuracy                           0.94       171\n",
            "   macro avg       0.93      0.94      0.93       171\n",
            "weighted avg       0.94      0.94      0.94       171\n",
            "\n"
          ]
        }
      ]
    },
    {
      "cell_type": "code",
      "source": [
        "previsor_treino = random.predict(x_treino)"
      ],
      "metadata": {
        "id": "k5vkPnrTgoxS"
      },
      "execution_count": null,
      "outputs": []
    },
    {
      "cell_type": "code",
      "source": [
        "accuracy_score(y_treino, previsor_treino)"
      ],
      "metadata": {
        "colab": {
          "base_uri": "https://localhost:8080/"
        },
        "id": "oO4_TjRdgu47",
        "outputId": "c731c6d7-580a-4e7d-e566-cccf00dea56b"
      },
      "execution_count": null,
      "outputs": [
        {
          "output_type": "execute_result",
          "data": {
            "text/plain": [
              "0.9798994974874372"
            ]
          },
          "metadata": {},
          "execution_count": 112
        }
      ]
    },
    {
      "cell_type": "code",
      "source": [
        "confusion_matrix(y_teste, previsor_random)"
      ],
      "metadata": {
        "colab": {
          "base_uri": "https://localhost:8080/"
        },
        "id": "LYrrh-PVgwMS",
        "outputId": "cc2964ee-160d-450e-8c3b-616a54214069"
      },
      "execution_count": null,
      "outputs": [
        {
          "output_type": "execute_result",
          "data": {
            "text/plain": [
              "array([[101,   7],\n",
              "       [  4,  59]])"
            ]
          },
          "metadata": {},
          "execution_count": 113
        }
      ]
    },
    {
      "cell_type": "markdown",
      "source": [
        "## Validação Cruzada"
      ],
      "metadata": {
        "id": "ix7zfvA2hPLo"
      }
    },
    {
      "cell_type": "code",
      "source": [
        "kfold=KFold(n_splits=30, shuffle=True, random_state=1)"
      ],
      "metadata": {
        "id": "7sNpFt_NhCP5"
      },
      "execution_count": null,
      "outputs": []
    },
    {
      "cell_type": "code",
      "source": [
        "modelo=RandomForestClassifier(n_estimators=150, criterion='entropy', random_state=1, max_depth=5)\n",
        "resultado=cross_val_score(modelo, previsor_esc, alvo, cv=kfold)"
      ],
      "metadata": {
        "id": "OlktOV2mhXMU"
      },
      "execution_count": null,
      "outputs": []
    },
    {
      "cell_type": "code",
      "source": [
        "print('Acurácia: %.2f%%' % (resultado.mean()*100))"
      ],
      "metadata": {
        "colab": {
          "base_uri": "https://localhost:8080/"
        },
        "id": "DRtVP3vAh0e6",
        "outputId": "754171d0-2caa-4092-ac8d-45fe1cfe47e1"
      },
      "execution_count": null,
      "outputs": [
        {
          "output_type": "stream",
          "name": "stdout",
          "text": [
            "Acurácia: 93.32%\n"
          ]
        }
      ]
    },
    {
      "cell_type": "markdown",
      "source": [
        "Naive Bayes = 90,64% (154 acertos) - Validação Cruzada = 91,21% (previsor_esc)\n",
        "\n",
        "SVM = 95,91% (164 acertos) - Validação Cruzada = 95,43% (kernel='rbf', random_state=1, C=3, previsor_esc)\n",
        "\n",
        "Regressão Logística = 94,15% (161 acertos) - Validação Cruzada = 93,85% (random_state=1, max_iter=100, penalty='l2', tol=0.0001, C=1, solver='lbfgs', previsor_esc)\n",
        "\n",
        "KNN = 91,23% (156 acertos) - Validação Cruzada = 94,03% (n_neighbors=15, metric='minkowski', p=1, previsor ou previsor_esc)\n",
        "\n",
        "Decision Tree = 92,98% (159 acertos) - Validação Cruzada = 91,58% (criterion='gini', random_state=1, max_depth=3, previsor ou previsor_esc)\n",
        "\n",
        "Random Forest = 93,57% (160 acertos) - Validação Cruzada = 93,32% (n_estimators=150, criterion='entropy', random_state=1, max_depth=5, previsor ou previsor_esc)"
      ],
      "metadata": {
        "id": "SKhR5pW5h9MR"
      }
    },
    {
      "cell_type": "markdown",
      "source": [
        "# XGBoost"
      ],
      "metadata": {
        "id": "P8KKKVRusAKm"
      }
    },
    {
      "cell_type": "code",
      "source": [
        "from xgboost import XGBClassifier"
      ],
      "metadata": {
        "id": "4FEMSujEh1uR"
      },
      "execution_count": null,
      "outputs": []
    },
    {
      "cell_type": "code",
      "source": [
        "xg= XGBClassifier(max_depth=3, learning_rate=0.05, n_estimators=100, objective='binary:logistic', random_state=1)\n",
        "xg.fit(x_treino, y_treino)"
      ],
      "metadata": {
        "colab": {
          "base_uri": "https://localhost:8080/",
          "height": 248
        },
        "id": "7prc4kJpsHno",
        "outputId": "9f7c3301-0e17-4547-e5fa-05dc07942ec0"
      },
      "execution_count": null,
      "outputs": [
        {
          "output_type": "execute_result",
          "data": {
            "text/plain": [
              "XGBClassifier(base_score=None, booster=None, callbacks=None,\n",
              "              colsample_bylevel=None, colsample_bynode=None,\n",
              "              colsample_bytree=None, device=None, early_stopping_rounds=None,\n",
              "              enable_categorical=False, eval_metric=None, feature_types=None,\n",
              "              gamma=None, grow_policy=None, importance_type=None,\n",
              "              interaction_constraints=None, learning_rate=0.05, max_bin=None,\n",
              "              max_cat_threshold=None, max_cat_to_onehot=None,\n",
              "              max_delta_step=None, max_depth=3, max_leaves=None,\n",
              "              min_child_weight=None, missing=nan, monotone_constraints=None,\n",
              "              multi_strategy=None, n_estimators=100, n_jobs=None,\n",
              "              num_parallel_tree=None, random_state=1, ...)"
            ],
            "text/html": [
              "<style>#sk-container-id-25 {color: black;}#sk-container-id-25 pre{padding: 0;}#sk-container-id-25 div.sk-toggleable {background-color: white;}#sk-container-id-25 label.sk-toggleable__label {cursor: pointer;display: block;width: 100%;margin-bottom: 0;padding: 0.3em;box-sizing: border-box;text-align: center;}#sk-container-id-25 label.sk-toggleable__label-arrow:before {content: \"▸\";float: left;margin-right: 0.25em;color: #696969;}#sk-container-id-25 label.sk-toggleable__label-arrow:hover:before {color: black;}#sk-container-id-25 div.sk-estimator:hover label.sk-toggleable__label-arrow:before {color: black;}#sk-container-id-25 div.sk-toggleable__content {max-height: 0;max-width: 0;overflow: hidden;text-align: left;background-color: #f0f8ff;}#sk-container-id-25 div.sk-toggleable__content pre {margin: 0.2em;color: black;border-radius: 0.25em;background-color: #f0f8ff;}#sk-container-id-25 input.sk-toggleable__control:checked~div.sk-toggleable__content {max-height: 200px;max-width: 100%;overflow: auto;}#sk-container-id-25 input.sk-toggleable__control:checked~label.sk-toggleable__label-arrow:before {content: \"▾\";}#sk-container-id-25 div.sk-estimator input.sk-toggleable__control:checked~label.sk-toggleable__label {background-color: #d4ebff;}#sk-container-id-25 div.sk-label input.sk-toggleable__control:checked~label.sk-toggleable__label {background-color: #d4ebff;}#sk-container-id-25 input.sk-hidden--visually {border: 0;clip: rect(1px 1px 1px 1px);clip: rect(1px, 1px, 1px, 1px);height: 1px;margin: -1px;overflow: hidden;padding: 0;position: absolute;width: 1px;}#sk-container-id-25 div.sk-estimator {font-family: monospace;background-color: #f0f8ff;border: 1px dotted black;border-radius: 0.25em;box-sizing: border-box;margin-bottom: 0.5em;}#sk-container-id-25 div.sk-estimator:hover {background-color: #d4ebff;}#sk-container-id-25 div.sk-parallel-item::after {content: \"\";width: 100%;border-bottom: 1px solid gray;flex-grow: 1;}#sk-container-id-25 div.sk-label:hover label.sk-toggleable__label {background-color: #d4ebff;}#sk-container-id-25 div.sk-serial::before {content: \"\";position: absolute;border-left: 1px solid gray;box-sizing: border-box;top: 0;bottom: 0;left: 50%;z-index: 0;}#sk-container-id-25 div.sk-serial {display: flex;flex-direction: column;align-items: center;background-color: white;padding-right: 0.2em;padding-left: 0.2em;position: relative;}#sk-container-id-25 div.sk-item {position: relative;z-index: 1;}#sk-container-id-25 div.sk-parallel {display: flex;align-items: stretch;justify-content: center;background-color: white;position: relative;}#sk-container-id-25 div.sk-item::before, #sk-container-id-25 div.sk-parallel-item::before {content: \"\";position: absolute;border-left: 1px solid gray;box-sizing: border-box;top: 0;bottom: 0;left: 50%;z-index: -1;}#sk-container-id-25 div.sk-parallel-item {display: flex;flex-direction: column;z-index: 1;position: relative;background-color: white;}#sk-container-id-25 div.sk-parallel-item:first-child::after {align-self: flex-end;width: 50%;}#sk-container-id-25 div.sk-parallel-item:last-child::after {align-self: flex-start;width: 50%;}#sk-container-id-25 div.sk-parallel-item:only-child::after {width: 0;}#sk-container-id-25 div.sk-dashed-wrapped {border: 1px dashed gray;margin: 0 0.4em 0.5em 0.4em;box-sizing: border-box;padding-bottom: 0.4em;background-color: white;}#sk-container-id-25 div.sk-label label {font-family: monospace;font-weight: bold;display: inline-block;line-height: 1.2em;}#sk-container-id-25 div.sk-label-container {text-align: center;}#sk-container-id-25 div.sk-container {/* jupyter's `normalize.less` sets `[hidden] { display: none; }` but bootstrap.min.css set `[hidden] { display: none !important; }` so we also need the `!important` here to be able to override the default hidden behavior on the sphinx rendered scikit-learn.org. See: https://github.com/scikit-learn/scikit-learn/issues/21755 */display: inline-block !important;position: relative;}#sk-container-id-25 div.sk-text-repr-fallback {display: none;}</style><div id=\"sk-container-id-25\" class=\"sk-top-container\"><div class=\"sk-text-repr-fallback\"><pre>XGBClassifier(base_score=None, booster=None, callbacks=None,\n",
              "              colsample_bylevel=None, colsample_bynode=None,\n",
              "              colsample_bytree=None, device=None, early_stopping_rounds=None,\n",
              "              enable_categorical=False, eval_metric=None, feature_types=None,\n",
              "              gamma=None, grow_policy=None, importance_type=None,\n",
              "              interaction_constraints=None, learning_rate=0.05, max_bin=None,\n",
              "              max_cat_threshold=None, max_cat_to_onehot=None,\n",
              "              max_delta_step=None, max_depth=3, max_leaves=None,\n",
              "              min_child_weight=None, missing=nan, monotone_constraints=None,\n",
              "              multi_strategy=None, n_estimators=100, n_jobs=None,\n",
              "              num_parallel_tree=None, random_state=1, ...)</pre><b>In a Jupyter environment, please rerun this cell to show the HTML representation or trust the notebook. <br />On GitHub, the HTML representation is unable to render, please try loading this page with nbviewer.org.</b></div><div class=\"sk-container\" hidden><div class=\"sk-item\"><div class=\"sk-estimator sk-toggleable\"><input class=\"sk-toggleable__control sk-hidden--visually\" id=\"sk-estimator-id-25\" type=\"checkbox\" checked><label for=\"sk-estimator-id-25\" class=\"sk-toggleable__label sk-toggleable__label-arrow\">XGBClassifier</label><div class=\"sk-toggleable__content\"><pre>XGBClassifier(base_score=None, booster=None, callbacks=None,\n",
              "              colsample_bylevel=None, colsample_bynode=None,\n",
              "              colsample_bytree=None, device=None, early_stopping_rounds=None,\n",
              "              enable_categorical=False, eval_metric=None, feature_types=None,\n",
              "              gamma=None, grow_policy=None, importance_type=None,\n",
              "              interaction_constraints=None, learning_rate=0.05, max_bin=None,\n",
              "              max_cat_threshold=None, max_cat_to_onehot=None,\n",
              "              max_delta_step=None, max_depth=3, max_leaves=None,\n",
              "              min_child_weight=None, missing=nan, monotone_constraints=None,\n",
              "              multi_strategy=None, n_estimators=100, n_jobs=None,\n",
              "              num_parallel_tree=None, random_state=1, ...)</pre></div></div></div></div></div>"
            ]
          },
          "metadata": {},
          "execution_count": 204
        }
      ]
    },
    {
      "cell_type": "code",
      "source": [
        "previsor_xg=xg.predict(x_teste)"
      ],
      "metadata": {
        "id": "DFZh0ZA1tlqz"
      },
      "execution_count": null,
      "outputs": []
    },
    {
      "cell_type": "code",
      "source": [
        "print('Acurácia: %.2f%%' % (accuracy_score(y_teste, previsor_xg)*100))"
      ],
      "metadata": {
        "colab": {
          "base_uri": "https://localhost:8080/"
        },
        "id": "IJmIkqoSt9Nu",
        "outputId": "afaefbca-a0d2-477b-cc0b-1c65394ebe52"
      },
      "execution_count": null,
      "outputs": [
        {
          "output_type": "stream",
          "name": "stdout",
          "text": [
            "Acurácia: 94.15%\n"
          ]
        }
      ]
    },
    {
      "cell_type": "code",
      "source": [
        "confusion_matrix(y_teste, previsor_xg)"
      ],
      "metadata": {
        "colab": {
          "base_uri": "https://localhost:8080/"
        },
        "id": "6cEEkmnSt_A8",
        "outputId": "bfd21025-0100-4ff7-9de4-494f1de337fb"
      },
      "execution_count": null,
      "outputs": [
        {
          "output_type": "execute_result",
          "data": {
            "text/plain": [
              "array([[104,   4],\n",
              "       [  4,  59]])"
            ]
          },
          "metadata": {},
          "execution_count": 154
        }
      ]
    },
    {
      "cell_type": "code",
      "source": [
        "print(classification_report(y_teste, previsor_xg))"
      ],
      "metadata": {
        "colab": {
          "base_uri": "https://localhost:8080/"
        },
        "id": "LKiQu3t9uZRY",
        "outputId": "f0f22340-f889-43f0-f902-805462871fcd"
      },
      "execution_count": null,
      "outputs": [
        {
          "output_type": "stream",
          "name": "stdout",
          "text": [
            "              precision    recall  f1-score   support\n",
            "\n",
            "           0       0.96      0.96      0.96       108\n",
            "           1       0.94      0.94      0.94        63\n",
            "\n",
            "    accuracy                           0.95       171\n",
            "   macro avg       0.95      0.95      0.95       171\n",
            "weighted avg       0.95      0.95      0.95       171\n",
            "\n"
          ]
        }
      ]
    },
    {
      "cell_type": "code",
      "source": [
        "previsor_treino = xg.predict(x_treino)"
      ],
      "metadata": {
        "id": "OGyg5fCyubf8"
      },
      "execution_count": null,
      "outputs": []
    },
    {
      "cell_type": "code",
      "source": [
        "accuracy_score(y_treino, previsor_treino)"
      ],
      "metadata": {
        "colab": {
          "base_uri": "https://localhost:8080/"
        },
        "id": "TEchETW2ugz8",
        "outputId": "ce59584b-11b6-4645-b02f-ee60699302bf"
      },
      "execution_count": null,
      "outputs": [
        {
          "output_type": "execute_result",
          "data": {
            "text/plain": [
              "0.9798994974874372"
            ]
          },
          "metadata": {},
          "execution_count": 208
        }
      ]
    },
    {
      "cell_type": "markdown",
      "source": [
        "## Validação Cruzada"
      ],
      "metadata": {
        "id": "JbpIeqfLvN7e"
      }
    },
    {
      "cell_type": "code",
      "source": [
        "kfold= KFold(n_splits=30, shuffle=True, random_state=1)"
      ],
      "metadata": {
        "id": "U79Mk0DPukBM"
      },
      "execution_count": null,
      "outputs": []
    },
    {
      "cell_type": "code",
      "source": [
        "modelo=XGBClassifier(max_depth=3, learning_rate=0.05, n_estimators=100, objective='binary:logistic', random_state=1)\n",
        "resultado=cross_val_score(modelo, previsor_esc, alvo, cv=kfold)"
      ],
      "metadata": {
        "id": "bFJUpfw0vSao"
      },
      "execution_count": null,
      "outputs": []
    },
    {
      "cell_type": "code",
      "source": [
        "print('Acurácia: %.2f%%' % (resultado.mean()*100))"
      ],
      "metadata": {
        "colab": {
          "base_uri": "https://localhost:8080/"
        },
        "id": "3hplZle8vgSs",
        "outputId": "6ad3c6e9-e036-4890-90ee-cbbbec96ff58"
      },
      "execution_count": null,
      "outputs": [
        {
          "output_type": "stream",
          "name": "stdout",
          "text": [
            "Acurácia: 94.21%\n"
          ]
        }
      ]
    },
    {
      "cell_type": "markdown",
      "source": [
        "Naive Bayes = 90,64% (154 acertos) - Validação Cruzada = 91,21% (previsor_esc)\n",
        "\n",
        "SVM = 95,91% (164 acertos) - Validação Cruzada = 95,43% (kernel='rbf', random_state=1, C=3, previsor_esc)\n",
        "\n",
        "Regressão Logística = 94,15% (161 acertos) - Validação Cruzada = 93,85% (random_state=1, max_iter=100, penalty='l2', tol=0.0001, C=1, solver='lbfgs', previsor_esc)\n",
        "\n",
        "KNN = 91,23% (156 acertos) - Validação Cruzada = 94,03% (n_neighbors=15, metric='minkowski', p=1, previsor ou previsor_esc)\n",
        "\n",
        "Decision Tree = 92,98% (159 acertos) - Validação Cruzada = 91,58% (criterion='gini', random_state=1, max_depth=3, previsor ou previsor_esc)\n",
        "\n",
        "Random Forest = 93,57% (160 acertos) - Validação Cruzada = 93,32% (n_estimators=150, criterion='entropy', random_state=1, max_depth=5, previsor ou previsor_esc)\n",
        "\n",
        "XGBoost = 94,15% (163 acertos) - Validação Cruzada = 94,21% (max_depth=3, learning_rate=0.05, n_estimators=100, objective='binary:logistic', random_state=1, previsor ou previsor_esc)"
      ],
      "metadata": {
        "id": "M9OKCIj2vpke"
      }
    },
    {
      "cell_type": "markdown",
      "source": [
        "# CatBoost"
      ],
      "metadata": {
        "id": "fP-UQvi1wPVv"
      }
    },
    {
      "cell_type": "code",
      "source": [
        "!pip install catboost"
      ],
      "metadata": {
        "colab": {
          "base_uri": "https://localhost:8080/"
        },
        "collapsed": true,
        "id": "fT--PbqmwfVb",
        "outputId": "ac6fc623-c950-4f1d-97ab-654ab4ceac1a"
      },
      "execution_count": null,
      "outputs": [
        {
          "output_type": "stream",
          "name": "stdout",
          "text": [
            "Collecting catboost\n",
            "  Downloading catboost-1.2.7-cp310-cp310-manylinux2014_x86_64.whl.metadata (1.2 kB)\n",
            "Requirement already satisfied: graphviz in /usr/local/lib/python3.10/dist-packages (from catboost) (0.20.3)\n",
            "Requirement already satisfied: matplotlib in /usr/local/lib/python3.10/dist-packages (from catboost) (3.7.1)\n",
            "Requirement already satisfied: numpy<2.0,>=1.16.0 in /usr/local/lib/python3.10/dist-packages (from catboost) (1.26.4)\n",
            "Requirement already satisfied: pandas>=0.24 in /usr/local/lib/python3.10/dist-packages (from catboost) (2.1.4)\n",
            "Requirement already satisfied: scipy in /usr/local/lib/python3.10/dist-packages (from catboost) (1.13.1)\n",
            "Requirement already satisfied: plotly in /usr/local/lib/python3.10/dist-packages (from catboost) (5.15.0)\n",
            "Requirement already satisfied: six in /usr/local/lib/python3.10/dist-packages (from catboost) (1.16.0)\n",
            "Requirement already satisfied: python-dateutil>=2.8.2 in /usr/local/lib/python3.10/dist-packages (from pandas>=0.24->catboost) (2.8.2)\n",
            "Requirement already satisfied: pytz>=2020.1 in /usr/local/lib/python3.10/dist-packages (from pandas>=0.24->catboost) (2024.1)\n",
            "Requirement already satisfied: tzdata>=2022.1 in /usr/local/lib/python3.10/dist-packages (from pandas>=0.24->catboost) (2024.1)\n",
            "Requirement already satisfied: contourpy>=1.0.1 in /usr/local/lib/python3.10/dist-packages (from matplotlib->catboost) (1.3.0)\n",
            "Requirement already satisfied: cycler>=0.10 in /usr/local/lib/python3.10/dist-packages (from matplotlib->catboost) (0.12.1)\n",
            "Requirement already satisfied: fonttools>=4.22.0 in /usr/local/lib/python3.10/dist-packages (from matplotlib->catboost) (4.53.1)\n",
            "Requirement already satisfied: kiwisolver>=1.0.1 in /usr/local/lib/python3.10/dist-packages (from matplotlib->catboost) (1.4.5)\n",
            "Requirement already satisfied: packaging>=20.0 in /usr/local/lib/python3.10/dist-packages (from matplotlib->catboost) (24.1)\n",
            "Requirement already satisfied: pillow>=6.2.0 in /usr/local/lib/python3.10/dist-packages (from matplotlib->catboost) (9.4.0)\n",
            "Requirement already satisfied: pyparsing>=2.3.1 in /usr/local/lib/python3.10/dist-packages (from matplotlib->catboost) (3.1.4)\n",
            "Requirement already satisfied: tenacity>=6.2.0 in /usr/local/lib/python3.10/dist-packages (from plotly->catboost) (9.0.0)\n",
            "Downloading catboost-1.2.7-cp310-cp310-manylinux2014_x86_64.whl (98.7 MB)\n",
            "\u001b[2K   \u001b[90m━━━━━━━━━━━━━━━━━━━━━━━━━━━━━━━━━━━━━━━━\u001b[0m \u001b[32m98.7/98.7 MB\u001b[0m \u001b[31m6.7 MB/s\u001b[0m eta \u001b[36m0:00:00\u001b[0m\n",
            "\u001b[?25hInstalling collected packages: catboost\n",
            "Successfully installed catboost-1.2.7\n"
          ]
        }
      ]
    },
    {
      "cell_type": "code",
      "source": [
        "from catboost import CatBoostClassifier"
      ],
      "metadata": {
        "id": "7SwUW352vlCz"
      },
      "execution_count": null,
      "outputs": []
    },
    {
      "cell_type": "code",
      "source": [
        "previsor2=cancer2.iloc[:,1:11]"
      ],
      "metadata": {
        "id": "dQ67h7_mwlV_"
      },
      "execution_count": null,
      "outputs": []
    },
    {
      "cell_type": "code",
      "source": [
        "alvo2=cancer2.iloc[:,0]"
      ],
      "metadata": {
        "id": "B-bjMK4exDcv"
      },
      "execution_count": null,
      "outputs": []
    },
    {
      "cell_type": "code",
      "source": [
        "x_treino, x_teste, y_treino, y_teste = train_test_split(previsor2, alvo2, test_size=0.3, random_state=1)"
      ],
      "metadata": {
        "id": "NjTxAl-UxHm2"
      },
      "execution_count": null,
      "outputs": []
    },
    {
      "cell_type": "code",
      "source": [
        "catboost = CatBoostClassifier(task_type='CPU', iterations=150, learning_rate=0.1, depth=2, random_state=1, eval_metric='Accuracy')"
      ],
      "metadata": {
        "id": "GViAZstCxT7O"
      },
      "execution_count": null,
      "outputs": []
    },
    {
      "cell_type": "code",
      "source": [
        "catboost.fit(x_treino, y_treino, plot=True, eval_set=(x_teste, y_teste))"
      ],
      "metadata": {
        "colab": {
          "base_uri": "https://localhost:8080/",
          "height": 1000,
          "referenced_widgets": [
            "4edc2f8d8da148b28661c10671e8f25e"
          ]
        },
        "collapsed": true,
        "id": "FklspUtFyF8A",
        "outputId": "61c86c1f-6cb2-4022-b48b-b8ee777612f2"
      },
      "execution_count": null,
      "outputs": [
        {
          "output_type": "display_data",
          "data": {
            "text/plain": [
              "MetricVisualizer(layout=Layout(align_self='stretch', height='500px'))"
            ],
            "application/vnd.jupyter.widget-view+json": {
              "version_major": 2,
              "version_minor": 0,
              "model_id": "4edc2f8d8da148b28661c10671e8f25e"
            }
          },
          "metadata": {}
        },
        {
          "output_type": "stream",
          "name": "stdout",
          "text": [
            "0:\tlearn: 0.9170854\ttest: 0.9064327\tbest: 0.9064327 (0)\ttotal: 534us\tremaining: 79.6ms\n",
            "1:\tlearn: 0.9195980\ttest: 0.9064327\tbest: 0.9064327 (0)\ttotal: 1.93ms\tremaining: 143ms\n",
            "2:\tlearn: 0.9271357\ttest: 0.9181287\tbest: 0.9181287 (2)\ttotal: 3.48ms\tremaining: 171ms\n",
            "3:\tlearn: 0.9271357\ttest: 0.9181287\tbest: 0.9181287 (2)\ttotal: 4.37ms\tremaining: 159ms\n",
            "4:\tlearn: 0.9271357\ttest: 0.9181287\tbest: 0.9181287 (2)\ttotal: 5.69ms\tremaining: 165ms\n",
            "5:\tlearn: 0.9246231\ttest: 0.9122807\tbest: 0.9181287 (2)\ttotal: 6.75ms\tremaining: 162ms\n",
            "6:\tlearn: 0.9246231\ttest: 0.9122807\tbest: 0.9181287 (2)\ttotal: 7.77ms\tremaining: 159ms\n",
            "7:\tlearn: 0.9271357\ttest: 0.9181287\tbest: 0.9181287 (2)\ttotal: 8.92ms\tremaining: 158ms\n",
            "8:\tlearn: 0.9296482\ttest: 0.9181287\tbest: 0.9181287 (2)\ttotal: 10ms\tremaining: 157ms\n",
            "9:\tlearn: 0.9296482\ttest: 0.9181287\tbest: 0.9181287 (2)\ttotal: 11.1ms\tremaining: 155ms\n",
            "10:\tlearn: 0.9271357\ttest: 0.9122807\tbest: 0.9181287 (2)\ttotal: 12.3ms\tremaining: 155ms\n",
            "11:\tlearn: 0.9221106\ttest: 0.9181287\tbest: 0.9181287 (2)\ttotal: 13.3ms\tremaining: 153ms\n",
            "12:\tlearn: 0.9396985\ttest: 0.9122807\tbest: 0.9181287 (2)\ttotal: 14.5ms\tremaining: 153ms\n",
            "13:\tlearn: 0.9271357\ttest: 0.9181287\tbest: 0.9181287 (2)\ttotal: 15.6ms\tremaining: 152ms\n",
            "14:\tlearn: 0.9371859\ttest: 0.9181287\tbest: 0.9181287 (2)\ttotal: 16.7ms\tremaining: 150ms\n",
            "15:\tlearn: 0.9296482\ttest: 0.9239766\tbest: 0.9239766 (15)\ttotal: 17.9ms\tremaining: 149ms\n",
            "16:\tlearn: 0.9396985\ttest: 0.9064327\tbest: 0.9239766 (15)\ttotal: 18.9ms\tremaining: 148ms\n",
            "17:\tlearn: 0.9321608\ttest: 0.9239766\tbest: 0.9239766 (15)\ttotal: 20.2ms\tremaining: 148ms\n",
            "18:\tlearn: 0.9346734\ttest: 0.9239766\tbest: 0.9239766 (15)\ttotal: 22.4ms\tremaining: 154ms\n",
            "19:\tlearn: 0.9346734\ttest: 0.9181287\tbest: 0.9239766 (15)\ttotal: 23.1ms\tremaining: 150ms\n",
            "20:\tlearn: 0.9346734\ttest: 0.9239766\tbest: 0.9239766 (15)\ttotal: 24.5ms\tremaining: 151ms\n",
            "21:\tlearn: 0.9422111\ttest: 0.9122807\tbest: 0.9239766 (15)\ttotal: 25.7ms\tremaining: 149ms\n",
            "22:\tlearn: 0.9422111\ttest: 0.9122807\tbest: 0.9239766 (15)\ttotal: 26.7ms\tremaining: 148ms\n",
            "23:\tlearn: 0.9522613\ttest: 0.9122807\tbest: 0.9239766 (15)\ttotal: 28ms\tremaining: 147ms\n",
            "24:\tlearn: 0.9497487\ttest: 0.9064327\tbest: 0.9239766 (15)\ttotal: 29.1ms\tremaining: 146ms\n",
            "25:\tlearn: 0.9497487\ttest: 0.9064327\tbest: 0.9239766 (15)\ttotal: 30.3ms\tremaining: 144ms\n",
            "26:\tlearn: 0.9522613\ttest: 0.9064327\tbest: 0.9239766 (15)\ttotal: 31.4ms\tremaining: 143ms\n",
            "27:\tlearn: 0.9522613\ttest: 0.9005848\tbest: 0.9239766 (15)\ttotal: 32.5ms\tremaining: 141ms\n",
            "28:\tlearn: 0.9547739\ttest: 0.9005848\tbest: 0.9239766 (15)\ttotal: 33.7ms\tremaining: 141ms\n",
            "29:\tlearn: 0.9572864\ttest: 0.8947368\tbest: 0.9239766 (15)\ttotal: 34.8ms\tremaining: 139ms\n",
            "30:\tlearn: 0.9572864\ttest: 0.8947368\tbest: 0.9239766 (15)\ttotal: 36ms\tremaining: 138ms\n",
            "31:\tlearn: 0.9572864\ttest: 0.8947368\tbest: 0.9239766 (15)\ttotal: 37ms\tremaining: 136ms\n",
            "32:\tlearn: 0.9572864\ttest: 0.8947368\tbest: 0.9239766 (15)\ttotal: 38.2ms\tremaining: 135ms\n",
            "33:\tlearn: 0.9572864\ttest: 0.9005848\tbest: 0.9239766 (15)\ttotal: 39.4ms\tremaining: 134ms\n",
            "34:\tlearn: 0.9572864\ttest: 0.9005848\tbest: 0.9239766 (15)\ttotal: 40.5ms\tremaining: 133ms\n",
            "35:\tlearn: 0.9572864\ttest: 0.9005848\tbest: 0.9239766 (15)\ttotal: 41.6ms\tremaining: 132ms\n",
            "36:\tlearn: 0.9572864\ttest: 0.9005848\tbest: 0.9239766 (15)\ttotal: 42.7ms\tremaining: 130ms\n",
            "37:\tlearn: 0.9597990\ttest: 0.9005848\tbest: 0.9239766 (15)\ttotal: 43.9ms\tremaining: 129ms\n",
            "38:\tlearn: 0.9597990\ttest: 0.9005848\tbest: 0.9239766 (15)\ttotal: 45.2ms\tremaining: 129ms\n",
            "39:\tlearn: 0.9623116\ttest: 0.9005848\tbest: 0.9239766 (15)\ttotal: 46.3ms\tremaining: 127ms\n",
            "40:\tlearn: 0.9623116\ttest: 0.9064327\tbest: 0.9239766 (15)\ttotal: 47.4ms\tremaining: 126ms\n",
            "41:\tlearn: 0.9623116\ttest: 0.9005848\tbest: 0.9239766 (15)\ttotal: 48.6ms\tremaining: 125ms\n",
            "42:\tlearn: 0.9623116\ttest: 0.9064327\tbest: 0.9239766 (15)\ttotal: 49.7ms\tremaining: 124ms\n",
            "43:\tlearn: 0.9597990\ttest: 0.9005848\tbest: 0.9239766 (15)\ttotal: 50.8ms\tremaining: 122ms\n",
            "44:\tlearn: 0.9597990\ttest: 0.9064327\tbest: 0.9239766 (15)\ttotal: 52.4ms\tremaining: 122ms\n",
            "45:\tlearn: 0.9572864\ttest: 0.8947368\tbest: 0.9239766 (15)\ttotal: 53.1ms\tremaining: 120ms\n",
            "46:\tlearn: 0.9597990\ttest: 0.9005848\tbest: 0.9239766 (15)\ttotal: 54.4ms\tremaining: 119ms\n",
            "47:\tlearn: 0.9597990\ttest: 0.9005848\tbest: 0.9239766 (15)\ttotal: 55.6ms\tremaining: 118ms\n",
            "48:\tlearn: 0.9597990\ttest: 0.9005848\tbest: 0.9239766 (15)\ttotal: 56.7ms\tremaining: 117ms\n",
            "49:\tlearn: 0.9597990\ttest: 0.9005848\tbest: 0.9239766 (15)\ttotal: 57.8ms\tremaining: 116ms\n",
            "50:\tlearn: 0.9597990\ttest: 0.9064327\tbest: 0.9239766 (15)\ttotal: 59ms\tremaining: 115ms\n",
            "51:\tlearn: 0.9597990\ttest: 0.9064327\tbest: 0.9239766 (15)\ttotal: 60.1ms\tremaining: 113ms\n",
            "52:\tlearn: 0.9597990\ttest: 0.9064327\tbest: 0.9239766 (15)\ttotal: 61.2ms\tremaining: 112ms\n",
            "53:\tlearn: 0.9597990\ttest: 0.9064327\tbest: 0.9239766 (15)\ttotal: 62.5ms\tremaining: 111ms\n",
            "54:\tlearn: 0.9597990\ttest: 0.9064327\tbest: 0.9239766 (15)\ttotal: 63.7ms\tremaining: 110ms\n",
            "55:\tlearn: 0.9572864\ttest: 0.9064327\tbest: 0.9239766 (15)\ttotal: 64.4ms\tremaining: 108ms\n",
            "56:\tlearn: 0.9597990\ttest: 0.9064327\tbest: 0.9239766 (15)\ttotal: 65.8ms\tremaining: 107ms\n",
            "57:\tlearn: 0.9597990\ttest: 0.9064327\tbest: 0.9239766 (15)\ttotal: 66.7ms\tremaining: 106ms\n",
            "58:\tlearn: 0.9597990\ttest: 0.9064327\tbest: 0.9239766 (15)\ttotal: 67.7ms\tremaining: 104ms\n",
            "59:\tlearn: 0.9597990\ttest: 0.9064327\tbest: 0.9239766 (15)\ttotal: 68.8ms\tremaining: 103ms\n",
            "60:\tlearn: 0.9597990\ttest: 0.9064327\tbest: 0.9239766 (15)\ttotal: 70ms\tremaining: 102ms\n",
            "61:\tlearn: 0.9597990\ttest: 0.9122807\tbest: 0.9239766 (15)\ttotal: 71.1ms\tremaining: 101ms\n",
            "62:\tlearn: 0.9597990\ttest: 0.9064327\tbest: 0.9239766 (15)\ttotal: 72.2ms\tremaining: 99.7ms\n",
            "63:\tlearn: 0.9597990\ttest: 0.9064327\tbest: 0.9239766 (15)\ttotal: 73.4ms\tremaining: 98.6ms\n",
            "64:\tlearn: 0.9597990\ttest: 0.9064327\tbest: 0.9239766 (15)\ttotal: 74.4ms\tremaining: 97.4ms\n",
            "65:\tlearn: 0.9597990\ttest: 0.9064327\tbest: 0.9239766 (15)\ttotal: 75.6ms\tremaining: 96.3ms\n",
            "66:\tlearn: 0.9597990\ttest: 0.9064327\tbest: 0.9239766 (15)\ttotal: 76.8ms\tremaining: 95.2ms\n",
            "67:\tlearn: 0.9597990\ttest: 0.9064327\tbest: 0.9239766 (15)\ttotal: 78ms\tremaining: 94ms\n",
            "68:\tlearn: 0.9597990\ttest: 0.9064327\tbest: 0.9239766 (15)\ttotal: 79.1ms\tremaining: 92.9ms\n",
            "69:\tlearn: 0.9597990\ttest: 0.9122807\tbest: 0.9239766 (15)\ttotal: 80.2ms\tremaining: 91.7ms\n",
            "70:\tlearn: 0.9597990\ttest: 0.9181287\tbest: 0.9239766 (15)\ttotal: 81.4ms\tremaining: 90.6ms\n",
            "71:\tlearn: 0.9597990\ttest: 0.9122807\tbest: 0.9239766 (15)\ttotal: 82.6ms\tremaining: 89.5ms\n",
            "72:\tlearn: 0.9597990\ttest: 0.9122807\tbest: 0.9239766 (15)\ttotal: 83.7ms\tremaining: 88.3ms\n",
            "73:\tlearn: 0.9597990\ttest: 0.9181287\tbest: 0.9239766 (15)\ttotal: 84.8ms\tremaining: 87.1ms\n",
            "74:\tlearn: 0.9597990\ttest: 0.9122807\tbest: 0.9239766 (15)\ttotal: 85.9ms\tremaining: 85.9ms\n",
            "75:\tlearn: 0.9597990\ttest: 0.9122807\tbest: 0.9239766 (15)\ttotal: 87.1ms\tremaining: 84.8ms\n",
            "76:\tlearn: 0.9597990\ttest: 0.9181287\tbest: 0.9239766 (15)\ttotal: 88.3ms\tremaining: 83.7ms\n",
            "77:\tlearn: 0.9623116\ttest: 0.9181287\tbest: 0.9239766 (15)\ttotal: 89.3ms\tremaining: 82.4ms\n",
            "78:\tlearn: 0.9597990\ttest: 0.9181287\tbest: 0.9239766 (15)\ttotal: 90.4ms\tremaining: 81.3ms\n",
            "79:\tlearn: 0.9648241\ttest: 0.9181287\tbest: 0.9239766 (15)\ttotal: 91.5ms\tremaining: 80ms\n",
            "80:\tlearn: 0.9648241\ttest: 0.9181287\tbest: 0.9239766 (15)\ttotal: 92.6ms\tremaining: 78.9ms\n",
            "81:\tlearn: 0.9648241\ttest: 0.9181287\tbest: 0.9239766 (15)\ttotal: 93.7ms\tremaining: 77.7ms\n",
            "82:\tlearn: 0.9648241\ttest: 0.9122807\tbest: 0.9239766 (15)\ttotal: 94.8ms\tremaining: 76.5ms\n",
            "83:\tlearn: 0.9623116\ttest: 0.9181287\tbest: 0.9239766 (15)\ttotal: 95.9ms\tremaining: 75.3ms\n",
            "84:\tlearn: 0.9623116\ttest: 0.9181287\tbest: 0.9239766 (15)\ttotal: 97.1ms\tremaining: 74.3ms\n",
            "85:\tlearn: 0.9623116\ttest: 0.9122807\tbest: 0.9239766 (15)\ttotal: 98.3ms\tremaining: 73.1ms\n",
            "86:\tlearn: 0.9623116\ttest: 0.9122807\tbest: 0.9239766 (15)\ttotal: 99.4ms\tremaining: 72ms\n",
            "87:\tlearn: 0.9623116\ttest: 0.9122807\tbest: 0.9239766 (15)\ttotal: 100ms\tremaining: 70.8ms\n",
            "88:\tlearn: 0.9623116\ttest: 0.9122807\tbest: 0.9239766 (15)\ttotal: 101ms\tremaining: 69.4ms\n",
            "89:\tlearn: 0.9648241\ttest: 0.9122807\tbest: 0.9239766 (15)\ttotal: 102ms\tremaining: 68.1ms\n",
            "90:\tlearn: 0.9623116\ttest: 0.9181287\tbest: 0.9239766 (15)\ttotal: 103ms\tremaining: 66.7ms\n",
            "91:\tlearn: 0.9648241\ttest: 0.9181287\tbest: 0.9239766 (15)\ttotal: 104ms\tremaining: 65.3ms\n",
            "92:\tlearn: 0.9648241\ttest: 0.9239766\tbest: 0.9239766 (15)\ttotal: 104ms\tremaining: 63.8ms\n",
            "93:\tlearn: 0.9648241\ttest: 0.9239766\tbest: 0.9239766 (15)\ttotal: 105ms\tremaining: 62.3ms\n",
            "94:\tlearn: 0.9648241\ttest: 0.9239766\tbest: 0.9239766 (15)\ttotal: 105ms\tremaining: 60.8ms\n",
            "95:\tlearn: 0.9648241\ttest: 0.9298246\tbest: 0.9298246 (95)\ttotal: 106ms\tremaining: 59.4ms\n",
            "96:\tlearn: 0.9673367\ttest: 0.9239766\tbest: 0.9298246 (95)\ttotal: 106ms\tremaining: 57.9ms\n",
            "97:\tlearn: 0.9648241\ttest: 0.9239766\tbest: 0.9298246 (95)\ttotal: 106ms\tremaining: 56.5ms\n",
            "98:\tlearn: 0.9673367\ttest: 0.9239766\tbest: 0.9298246 (95)\ttotal: 107ms\tremaining: 55.1ms\n",
            "99:\tlearn: 0.9673367\ttest: 0.9239766\tbest: 0.9298246 (95)\ttotal: 107ms\tremaining: 53.7ms\n",
            "100:\tlearn: 0.9673367\ttest: 0.9239766\tbest: 0.9298246 (95)\ttotal: 108ms\tremaining: 52.3ms\n",
            "101:\tlearn: 0.9698492\ttest: 0.9239766\tbest: 0.9298246 (95)\ttotal: 108ms\tremaining: 51ms\n",
            "102:\tlearn: 0.9698492\ttest: 0.9239766\tbest: 0.9298246 (95)\ttotal: 109ms\tremaining: 49.6ms\n",
            "103:\tlearn: 0.9673367\ttest: 0.9298246\tbest: 0.9298246 (95)\ttotal: 109ms\tremaining: 48.3ms\n",
            "104:\tlearn: 0.9673367\ttest: 0.9298246\tbest: 0.9298246 (95)\ttotal: 110ms\tremaining: 47ms\n",
            "105:\tlearn: 0.9673367\ttest: 0.9298246\tbest: 0.9298246 (95)\ttotal: 110ms\tremaining: 45.7ms\n",
            "106:\tlearn: 0.9673367\ttest: 0.9298246\tbest: 0.9298246 (95)\ttotal: 111ms\tremaining: 44.5ms\n",
            "107:\tlearn: 0.9673367\ttest: 0.9298246\tbest: 0.9298246 (95)\ttotal: 111ms\tremaining: 43.2ms\n",
            "108:\tlearn: 0.9673367\ttest: 0.9298246\tbest: 0.9298246 (95)\ttotal: 112ms\tremaining: 42ms\n",
            "109:\tlearn: 0.9698492\ttest: 0.9298246\tbest: 0.9298246 (95)\ttotal: 112ms\tremaining: 40.7ms\n",
            "110:\tlearn: 0.9673367\ttest: 0.9298246\tbest: 0.9298246 (95)\ttotal: 112ms\tremaining: 39.5ms\n",
            "111:\tlearn: 0.9698492\ttest: 0.9298246\tbest: 0.9298246 (95)\ttotal: 113ms\tremaining: 38.3ms\n",
            "112:\tlearn: 0.9698492\ttest: 0.9298246\tbest: 0.9298246 (95)\ttotal: 113ms\tremaining: 37.1ms\n",
            "113:\tlearn: 0.9698492\ttest: 0.9298246\tbest: 0.9298246 (95)\ttotal: 114ms\tremaining: 36ms\n",
            "114:\tlearn: 0.9698492\ttest: 0.9298246\tbest: 0.9298246 (95)\ttotal: 114ms\tremaining: 34.8ms\n",
            "115:\tlearn: 0.9698492\ttest: 0.9356725\tbest: 0.9356725 (115)\ttotal: 115ms\tremaining: 33.6ms\n",
            "116:\tlearn: 0.9723618\ttest: 0.9356725\tbest: 0.9356725 (115)\ttotal: 116ms\tremaining: 32.6ms\n",
            "117:\tlearn: 0.9723618\ttest: 0.9356725\tbest: 0.9356725 (115)\ttotal: 116ms\tremaining: 31.5ms\n",
            "118:\tlearn: 0.9723618\ttest: 0.9356725\tbest: 0.9356725 (115)\ttotal: 117ms\tremaining: 30.4ms\n",
            "119:\tlearn: 0.9723618\ttest: 0.9298246\tbest: 0.9356725 (115)\ttotal: 117ms\tremaining: 29.3ms\n",
            "120:\tlearn: 0.9723618\ttest: 0.9415205\tbest: 0.9415205 (120)\ttotal: 118ms\tremaining: 28.2ms\n",
            "121:\tlearn: 0.9723618\ttest: 0.9415205\tbest: 0.9415205 (120)\ttotal: 118ms\tremaining: 27.1ms\n",
            "122:\tlearn: 0.9723618\ttest: 0.9415205\tbest: 0.9415205 (120)\ttotal: 119ms\tremaining: 26ms\n",
            "123:\tlearn: 0.9723618\ttest: 0.9415205\tbest: 0.9415205 (120)\ttotal: 119ms\tremaining: 25ms\n",
            "124:\tlearn: 0.9748744\ttest: 0.9415205\tbest: 0.9415205 (120)\ttotal: 120ms\tremaining: 23.9ms\n",
            "125:\tlearn: 0.9748744\ttest: 0.9415205\tbest: 0.9415205 (120)\ttotal: 120ms\tremaining: 22.9ms\n",
            "126:\tlearn: 0.9748744\ttest: 0.9415205\tbest: 0.9415205 (120)\ttotal: 120ms\tremaining: 21.8ms\n",
            "127:\tlearn: 0.9748744\ttest: 0.9415205\tbest: 0.9415205 (120)\ttotal: 121ms\tremaining: 20.8ms\n",
            "128:\tlearn: 0.9748744\ttest: 0.9415205\tbest: 0.9415205 (120)\ttotal: 121ms\tremaining: 19.8ms\n",
            "129:\tlearn: 0.9748744\ttest: 0.9415205\tbest: 0.9415205 (120)\ttotal: 122ms\tremaining: 18.8ms\n",
            "130:\tlearn: 0.9748744\ttest: 0.9415205\tbest: 0.9415205 (120)\ttotal: 123ms\tremaining: 17.9ms\n",
            "131:\tlearn: 0.9748744\ttest: 0.9415205\tbest: 0.9415205 (120)\ttotal: 124ms\tremaining: 16.9ms\n",
            "132:\tlearn: 0.9748744\ttest: 0.9415205\tbest: 0.9415205 (120)\ttotal: 125ms\tremaining: 15.9ms\n",
            "133:\tlearn: 0.9748744\ttest: 0.9415205\tbest: 0.9415205 (120)\ttotal: 125ms\tremaining: 14.9ms\n",
            "134:\tlearn: 0.9748744\ttest: 0.9415205\tbest: 0.9415205 (120)\ttotal: 126ms\tremaining: 14ms\n",
            "135:\tlearn: 0.9748744\ttest: 0.9415205\tbest: 0.9415205 (120)\ttotal: 126ms\tremaining: 13ms\n",
            "136:\tlearn: 0.9748744\ttest: 0.9415205\tbest: 0.9415205 (120)\ttotal: 127ms\tremaining: 12ms\n",
            "137:\tlearn: 0.9748744\ttest: 0.9415205\tbest: 0.9415205 (120)\ttotal: 127ms\tremaining: 11.1ms\n",
            "138:\tlearn: 0.9748744\ttest: 0.9415205\tbest: 0.9415205 (120)\ttotal: 128ms\tremaining: 10.1ms\n",
            "139:\tlearn: 0.9748744\ttest: 0.9415205\tbest: 0.9415205 (120)\ttotal: 128ms\tremaining: 9.15ms\n",
            "140:\tlearn: 0.9748744\ttest: 0.9415205\tbest: 0.9415205 (120)\ttotal: 129ms\tremaining: 8.23ms\n",
            "141:\tlearn: 0.9748744\ttest: 0.9415205\tbest: 0.9415205 (120)\ttotal: 130ms\tremaining: 7.3ms\n",
            "142:\tlearn: 0.9748744\ttest: 0.9415205\tbest: 0.9415205 (120)\ttotal: 130ms\tremaining: 6.38ms\n",
            "143:\tlearn: 0.9748744\ttest: 0.9473684\tbest: 0.9473684 (143)\ttotal: 131ms\tremaining: 5.46ms\n",
            "144:\tlearn: 0.9748744\ttest: 0.9473684\tbest: 0.9473684 (143)\ttotal: 132ms\tremaining: 4.55ms\n",
            "145:\tlearn: 0.9748744\ttest: 0.9473684\tbest: 0.9473684 (143)\ttotal: 133ms\tremaining: 3.63ms\n",
            "146:\tlearn: 0.9748744\ttest: 0.9415205\tbest: 0.9473684 (143)\ttotal: 133ms\tremaining: 2.72ms\n",
            "147:\tlearn: 0.9748744\ttest: 0.9415205\tbest: 0.9473684 (143)\ttotal: 134ms\tremaining: 1.81ms\n",
            "148:\tlearn: 0.9748744\ttest: 0.9415205\tbest: 0.9473684 (143)\ttotal: 135ms\tremaining: 904us\n",
            "149:\tlearn: 0.9748744\ttest: 0.9415205\tbest: 0.9473684 (143)\ttotal: 136ms\tremaining: 0us\n",
            "\n",
            "bestTest = 0.9473684211\n",
            "bestIteration = 143\n",
            "\n",
            "Shrink model to first 144 iterations.\n"
          ]
        },
        {
          "output_type": "execute_result",
          "data": {
            "text/plain": [
              "<catboost.core.CatBoostClassifier at 0x78aed5bb2350>"
            ]
          },
          "metadata": {},
          "execution_count": 252
        }
      ]
    },
    {
      "cell_type": "code",
      "source": [
        "previsor_cat=catboost.predict(x_teste)"
      ],
      "metadata": {
        "id": "UE87DKVCyPI1"
      },
      "execution_count": null,
      "outputs": []
    },
    {
      "cell_type": "code",
      "source": [
        "print('Acurácia: %.2f%%' % (accuracy_score(y_teste, previsor_cat)*100))"
      ],
      "metadata": {
        "colab": {
          "base_uri": "https://localhost:8080/"
        },
        "id": "ndreQwUMyYiC",
        "outputId": "9e1d1e08-9a7b-411d-c47b-9d5f4cfd0dde"
      },
      "execution_count": null,
      "outputs": [
        {
          "output_type": "stream",
          "name": "stdout",
          "text": [
            "Acurácia: 94.74%\n"
          ]
        }
      ]
    },
    {
      "cell_type": "code",
      "source": [
        "previsor_treino = catboost.predict(x_treino)"
      ],
      "metadata": {
        "id": "oAO8bBubyaHd"
      },
      "execution_count": null,
      "outputs": []
    },
    {
      "cell_type": "code",
      "source": [
        "confusion_matrix(y_teste, previsor_cat)"
      ],
      "metadata": {
        "colab": {
          "base_uri": "https://localhost:8080/"
        },
        "id": "2AKWGLK_y_iE",
        "outputId": "10073e7f-f7a2-4f84-adec-23e2de74ce74"
      },
      "execution_count": null,
      "outputs": [
        {
          "output_type": "execute_result",
          "data": {
            "text/plain": [
              "array([[104,   4],\n",
              "       [  5,  58]])"
            ]
          },
          "metadata": {},
          "execution_count": 262
        }
      ]
    },
    {
      "cell_type": "code",
      "source": [
        "accuracy_score(y_treino, previsor_treino)"
      ],
      "metadata": {
        "colab": {
          "base_uri": "https://localhost:8080/"
        },
        "id": "IoJMnUwny5d1",
        "outputId": "1b332287-7690-4109-a7e8-db8633689690"
      },
      "execution_count": null,
      "outputs": [
        {
          "output_type": "execute_result",
          "data": {
            "text/plain": [
              "0.9748743718592965"
            ]
          },
          "metadata": {},
          "execution_count": 256
        }
      ]
    },
    {
      "cell_type": "code",
      "source": [
        "confusion_matrix(y_treino, previsor_treino)"
      ],
      "metadata": {
        "colab": {
          "base_uri": "https://localhost:8080/"
        },
        "id": "oPMgjYKgy9ZK",
        "outputId": "ab6d8303-f9ca-4b1b-f87a-ea3d771e7eea"
      },
      "execution_count": null,
      "outputs": [
        {
          "output_type": "execute_result",
          "data": {
            "text/plain": [
              "array([[246,   3],\n",
              "       [  7, 142]])"
            ]
          },
          "metadata": {},
          "execution_count": 264
        }
      ]
    },
    {
      "cell_type": "markdown",
      "source": [
        "## Validação Cruzada"
      ],
      "metadata": {
        "id": "OvVM8tDWzOjK"
      }
    },
    {
      "cell_type": "code",
      "source": [
        "kfold = KFold(n_splits=30, shuffle=True, random_state = 5)"
      ],
      "metadata": {
        "id": "ubLhVwTBy-2X"
      },
      "execution_count": null,
      "outputs": []
    },
    {
      "cell_type": "code",
      "source": [
        "modelo=CatBoostClassifier(task_type='CPU', iterations=150, learning_rate=0.1, depth=2, random_state=1, eval_metric='Accuracy')\n",
        "resultado=cross_val_score(modelo, previsor, alvo, cv=kfold)"
      ],
      "metadata": {
        "id": "cebGk_8LzSUe"
      },
      "execution_count": null,
      "outputs": []
    },
    {
      "cell_type": "code",
      "source": [
        "print('Acurácia: %.2f%%' % (resultado.mean()*100))"
      ],
      "metadata": {
        "colab": {
          "base_uri": "https://localhost:8080/"
        },
        "id": "qvz4w6htzkht",
        "outputId": "8f93814f-8126-457a-9a89-0991acaafab9"
      },
      "execution_count": null,
      "outputs": [
        {
          "output_type": "stream",
          "name": "stdout",
          "text": [
            "Acurácia: 93.83%\n"
          ]
        }
      ]
    },
    {
      "cell_type": "markdown",
      "source": [],
      "metadata": {
        "id": "ipa6OmAP0B4D"
      }
    },
    {
      "cell_type": "markdown",
      "source": [
        "Naive Bayes = 90,64% (154 acertos) - Validação Cruzada = 91,21% (previsor_esc)\n",
        "\n",
        "SVM = 95,91% (164 acertos) - Validação Cruzada = 95,43% (kernel='rbf', random_state=1, C=3, previsor_esc)\n",
        "\n",
        "Regressão Logística = 94,15% (161 acertos) - Validação Cruzada = 93,85% (random_state=1, max_iter=100, penalty='l2', tol=0.0001, C=1, solver='lbfgs', previsor_esc)\n",
        "\n",
        "KNN = 91,23% (156 acertos) - Validação Cruzada = 94,03% (n_neighbors=15, metric='minkowski', p=1, previsor ou previsor_esc)\n",
        "\n",
        "Decision Tree = 92,98% (159 acertos) - Validação Cruzada = 91,58% (criterion='gini', random_state=1, max_depth=3, previsor ou previsor_esc)\n",
        "\n",
        "Random Forest = 93,57% (160 acertos) - Validação Cruzada = 93,32% (n_estimators=150, criterion='entropy', random_state=1, max_depth=5, previsor ou previsor_esc)\n",
        "\n",
        "XGBoost = 94,15% (163 acertos) - Validação Cruzada = 94,21% (max_depth=3, learning_rate=0.05, n_estimators=100, objective='binary:logistic', random_state=1, previsor ou previsor_esc)\n",
        "\n",
        "CatBoost = 94,74% (162 acertos) - Validação Cruzada = 93,83% (task_type='CPU', iterations=150, learning_rate=0.1, depth=2, random_state=1, eval_metric='Accuracy', previsor)"
      ],
      "metadata": {
        "id": "o450N5Ea0Fz-"
      }
    },
    {
      "cell_type": "markdown",
      "source": [
        "# Conclusão"
      ],
      "metadata": {
        "id": "VwMx2okk0YGK"
      }
    },
    {
      "cell_type": "markdown",
      "source": [
        "O melhor algoritmo foi o Máquina de Vetor de Suporte (SVM). Não só foi o que obteve mais acertos (164 no teste) como também foi o que teve a melhor porcentagem de acertos (95,91%). Sua configuração é: kernel='rbf', random_state=1, C=3, utilizando previsor_esc (ou seja, previsores escalonados)."
      ],
      "metadata": {
        "id": "3d5vHKd30ak-"
      }
    },
    {
      "cell_type": "code",
      "source": [],
      "metadata": {
        "id": "a0LkAFZ5zo6a"
      },
      "execution_count": null,
      "outputs": []
    }
  ]
}